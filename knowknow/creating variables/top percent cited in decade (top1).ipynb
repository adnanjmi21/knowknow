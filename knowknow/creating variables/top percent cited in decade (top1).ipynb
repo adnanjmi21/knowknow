{
 "cells": [
  {
   "cell_type": "code",
   "execution_count": 1,
   "metadata": {
    "papermill": {
     "duration": 1.067507,
     "end_time": "2020-05-28T20:21:11.173402",
     "exception": false,
     "start_time": "2020-05-28T20:21:10.105895",
     "status": "completed"
    },
    "tags": []
   },
   "outputs": [],
   "source": [
    "import sys; sys.path.append(_dh[0].split(\"knowknow\")[0])\n",
    "from knowknow import *"
   ]
  },
  {
   "cell_type": "code",
   "execution_count": 2,
   "metadata": {
    "papermill": {
     "duration": 0.018939,
     "end_time": "2020-05-28T20:21:11.205316",
     "exception": false,
     "start_time": "2020-05-28T20:21:11.186377",
     "status": "completed"
    },
    "tags": []
   },
   "outputs": [
    {
     "data": {
      "text/markdown": [
       "# Zooming in on the top 1%"
      ],
      "text/plain": [
       "<IPython.core.display.Markdown object>"
      ]
     },
     "metadata": {},
     "output_type": "display_data"
    },
    {
     "data": {
      "text/markdown": [
       "I would like to look at the most successful cited authors, cited works, and cited terms. Unfortunately, this isn't so simple. There has been a dramatic increase in the supply of citations over the last 100 years, so the group with the most total citations would be skewed towards the citation preferences of recent papers. In order to account for this bias,\n",
       "I choose among items cited by articles published in each decade 1940-1950, 1941-1951, 1942-1952, all the way to 1980-1990. In each of these decades I determine which were the top-cited 1%. The set of all these top 1%s, from all these decade spans, comprise the 1% I will study in this paper."
      ],
      "text/plain": [
       "<IPython.core.display.Markdown object>"
      ]
     },
     "metadata": {},
     "output_type": "display_data"
    },
    {
     "data": {
      "text/markdown": [],
      "text/plain": [
       "<IPython.core.display.Markdown object>"
      ]
     },
     "metadata": {},
     "output_type": "display_data"
    }
   ],
   "source": [
    "showdocs(\"top1\")"
   ]
  },
  {
   "cell_type": "markdown",
   "metadata": {
    "papermill": {
     "duration": 0.012965,
     "end_time": "2020-05-28T20:21:11.230379",
     "exception": false,
     "start_time": "2020-05-28T20:21:11.217414",
     "status": "completed"
    },
    "tags": []
   },
   "source": [
    "# User Parameters\n",
    "\n",
    "Just pick the database `database_name` and the type of count atom you want to analyze (e.g. `\"ta\"` for cited author, `\"c\"` for cited work, etc.)\n",
    "\n",
    "Note that `\"t\"` is only available for `jstor` databases"
   ]
  },
  {
   "cell_type": "code",
   "execution_count": 3,
   "metadata": {
    "execution": {
     "iopub.execute_input": "2020-05-28T20:21:11.257330Z",
     "iopub.status.busy": "2020-05-28T20:21:11.257330Z",
     "iopub.status.idle": "2020-05-28T20:21:11.259324Z",
     "shell.execute_reply": "2020-05-28T20:21:11.259324Z"
    },
    "papermill": {
     "duration": 0.016976,
     "end_time": "2020-05-28T20:21:11.259324",
     "exception": false,
     "start_time": "2020-05-28T20:21:11.242348",
     "status": "completed"
    },
    "tags": [
     "parameters"
    ]
   },
   "outputs": [],
   "source": [
    "database_name = 'sociology-wos'\n",
    "ctype = 'ta'\n",
    "top_percentile = 0.01"
   ]
  },
  {
   "cell_type": "code",
   "execution_count": 3,
   "metadata": {
    "papermill": {
     "duration": 0.016955,
     "end_time": "2020-05-28T20:21:11.288517",
     "exception": false,
     "start_time": "2020-05-28T20:21:11.271562",
     "status": "completed"
    },
    "tags": [
     "injected-parameters"
    ]
   },
   "outputs": [],
   "source": [
    "# Parameters\n",
    "database_name = \"sociology-wos\"\n",
    "ctype = \"fa\"\n"
   ]
  },
  {
   "cell_type": "markdown",
   "metadata": {
    "papermill": {
     "duration": 0.011968,
     "end_time": "2020-05-28T20:21:11.314447",
     "exception": false,
     "start_time": "2020-05-28T20:21:11.302479",
     "status": "completed"
    },
    "tags": []
   },
   "source": [
    "# Load data"
   ]
  },
  {
   "cell_type": "code",
   "execution_count": 4,
   "metadata": {
    "papermill": {
     "duration": 0.544449,
     "end_time": "2020-05-28T20:21:11.870865",
     "exception": false,
     "start_time": "2020-05-28T20:21:11.326416",
     "status": "completed"
    },
    "tags": []
   },
   "outputs": [
    {
     "name": "stdout",
     "output_type": "stream",
     "text": [
      "Loaded keys: dict_keys(['fa.fy'])\n",
      "Available keys: ['a', 'c', 'c.c', 'c.fj', 'c.fy', 'c.fy.j', 'fa', 'fa.c', 'fa.fj', 'fa.fj.fy', 'fa.fy', 'fj', 'fj.fy', 'fj.ta', 'fj.ty', 'fy', 'fy.ta', 'fy.ty', 'ta', 'ty', 'ty.ty']\n"
     ]
    }
   ],
   "source": [
    "cysum = load_variable(\"%s.%s.ysum\" % (database_name,ctype))\n",
    "cits = get_cnt(\"%s.doc\" % database_name, [comb(ctype,'fy')])"
   ]
  },
  {
   "cell_type": "code",
   "execution_count": 5,
   "metadata": {
    "papermill": {
     "duration": 0.019947,
     "end_time": "2020-05-28T20:21:11.929748",
     "exception": false,
     "start_time": "2020-05-28T20:21:11.909801",
     "status": "completed"
    },
    "tags": []
   },
   "outputs": [
    {
     "data": {
      "text/plain": [
       "False"
      ]
     },
     "execution_count": 5,
     "metadata": {},
     "output_type": "execute_result"
    }
   ],
   "source": [
    "any(\"-\" in x for x in cysum)"
   ]
  },
  {
   "cell_type": "markdown",
   "metadata": {
    "papermill": {
     "duration": 0.012967,
     "end_time": "2020-05-28T20:21:11.956318",
     "exception": false,
     "start_time": "2020-05-28T20:21:11.943351",
     "status": "completed"
    },
    "tags": []
   },
   "source": [
    "# loop through all the decades!"
   ]
  },
  {
   "cell_type": "code",
   "execution_count": 7,
   "metadata": {
    "execution": {
     "iopub.execute_input": "2020-05-28T20:21:11.994217Z",
     "iopub.status.busy": "2020-05-28T20:21:11.983246Z",
     "iopub.status.idle": "2020-05-28T20:21:12.898924Z",
     "shell.execute_reply": "2020-05-28T20:21:12.898924Z"
    },
    "papermill": {
     "duration": 0.92964,
     "end_time": "2020-05-28T20:21:12.898924",
     "exception": false,
     "start_time": "2020-05-28T20:21:11.969284",
     "status": "completed"
    },
    "tags": []
   },
   "outputs": [
    {
     "name": "stdout",
     "output_type": "stream",
     "text": [
      "5852 total entries\n",
      "12 /587 in the top 1.0% in 1940,1950 (12 total accumulated)\n",
      "13 /657 in the top 1.0% in 1941,1951 (15 total accumulated)\n",
      "12 /727 in the top 1.0% in 1942,1952 (17 total accumulated)\n",
      "13 /794 in the top 1.0% in 1943,1953 (20 total accumulated)\n",
      "14 /856 in the top 1.0% in 1944,1954 (24 total accumulated)\n",
      "16 /930 in the top 1.0% in 1945,1955 (28 total accumulated)\n",
      "10 /996 in the top 1.0% in 1946,1956 (28 total accumulated)\n",
      "18 /1085 in the top 1.0% in 1947,1957 (32 total accumulated)\n",
      "18 /1183 in the top 1.0% in 1948,1958 (34 total accumulated)\n",
      "21 /1290 in the top 1.0% in 1949,1959 (38 total accumulated)\n",
      "14 /1399 in the top 1.0% in 1950,1960 (39 total accumulated)\n",
      "17 /1521 in the top 1.0% in 1951,1961 (40 total accumulated)\n",
      "20 /1626 in the top 1.0% in 1952,1962 (46 total accumulated)\n",
      "19 /1733 in the top 1.0% in 1953,1963 (51 total accumulated)\n",
      "22 /1856 in the top 1.0% in 1954,1964 (53 total accumulated)\n",
      "33 /1954 in the top 1.0% in 1955,1965 (63 total accumulated)\n",
      "37 /2218 in the top 1.0% in 1956,1966 (72 total accumulated)\n",
      "24 /2388 in the top 1.0% in 1957,1967 (74 total accumulated)\n",
      "26 /2482 in the top 1.0% in 1958,1968 (77 total accumulated)\n",
      "33 /2795 in the top 1.0% in 1959,1969 (83 total accumulated)\n",
      "37 /3086 in the top 1.0% in 1960,1970 (88 total accumulated)\n",
      "42 /3442 in the top 1.0% in 1961,1971 (96 total accumulated)\n",
      "44 /3726 in the top 1.0% in 1962,1972 (100 total accumulated)\n",
      "46 /4014 in the top 1.0% in 1963,1973 (106 total accumulated)\n",
      "44 /4387 in the top 1.0% in 1964,1974 (114 total accumulated)\n",
      "55 /4768 in the top 1.0% in 1965,1975 (127 total accumulated)\n",
      "60 /5245 in the top 1.0% in 1966,1976 (143 total accumulated)\n",
      "65 /5715 in the top 1.0% in 1967,1977 (156 total accumulated)\n",
      "86 /6282 in the top 1.0% in 1968,1978 (177 total accumulated)\n",
      "72 /6816 in the top 1.0% in 1969,1979 (185 total accumulated)\n",
      "86 /7350 in the top 1.0% in 1970,1980 (196 total accumulated)\n",
      "94 /7755 in the top 1.0% in 1971,1981 (208 total accumulated)\n",
      "106 /8223 in the top 1.0% in 1972,1982 (223 total accumulated)\n",
      "115 /8640 in the top 1.0% in 1973,1983 (240 total accumulated)\n",
      "93 /9062 in the top 1.0% in 1974,1984 (250 total accumulated)\n",
      "138 /9420 in the top 1.0% in 1975,1985 (278 total accumulated)\n",
      "106 /9802 in the top 1.0% in 1976,1986 (285 total accumulated)\n",
      "108 /10170 in the top 1.0% in 1977,1987 (293 total accumulated)\n",
      "108 /10494 in the top 1.0% in 1978,1988 (303 total accumulated)\n",
      "120 /10802 in the top 1.0% in 1979,1989 (323 total accumulated)\n",
      "118 /11133 in the top 1.0% in 1980,1990 (335 total accumulated)\n",
      "(229, 20)\n"
     ]
    }
   ],
   "source": [
    "all_tops = set()\n",
    "\n",
    "print(\"%s total entries\" % len(cysum))\n",
    "\n",
    "\n",
    "# ranges loop from 1940-1950 to 1980-1990, in 1-year increments\n",
    "for RANGE_START, RANGE_END in zip( \n",
    "    range(1940,1980+1,1),\n",
    "    range(1950,1990+1,1),\n",
    "):\n",
    "    \n",
    "    # create a copy of cysum\n",
    "    cysum_copy = {k:dict(v) for k,v in cysum.items()}\n",
    "\n",
    "    count_in_range = defaultdict(int)\n",
    "    for cross, count in cits[comb(ctype,'fy')].items():\n",
    "        if RANGE_END >= cross.fy >= RANGE_START:\n",
    "            count_in_range[ getattr(cross, ctype) ] += count\n",
    "            \n",
    "    counts = list(count_in_range.values())\n",
    "    if not len(counts):\n",
    "        print(\"Skipping %s\" % RANGE_START)\n",
    "        continue\n",
    "        \n",
    "    q99 = np.quantile(np.array( counts ), 1-top_percentile)\n",
    "    top1 = {k for k in count_in_range if count_in_range[k]>=q99}\n",
    "    all_tops.update(top1)\n",
    "    \n",
    "    print(\"%s /%s in the top %0.1f%% in %s,%s (%s total accumulated)\" % (\n",
    "        len(top1),\n",
    "        len(count_in_range),\n",
    "        top_percentile*100,\n",
    "        RANGE_START, RANGE_END,\n",
    "        len(all_tops)\n",
    "    ))\n",
    "\n",
    "    \n",
    "alldf = pd.DataFrame.from_records([\n",
    "    c\n",
    "    for name, c in cysum.items()\n",
    "    if name in all_tops\n",
    "])\n",
    "\n",
    "alldf.fillna(value=np.nan, inplace=True)\n",
    "\n",
    "print(alldf.shape)"
   ]
  },
  {
   "cell_type": "code",
   "execution_count": 8,
   "metadata": {
    "execution": {
     "iopub.execute_input": "2020-05-28T20:21:12.932276Z",
     "iopub.status.busy": "2020-05-28T20:21:12.932276Z",
     "iopub.status.idle": "2020-05-28T20:21:12.935268Z",
     "shell.execute_reply": "2020-05-28T20:21:12.935268Z"
    },
    "papermill": {
     "duration": 0.021014,
     "end_time": "2020-05-28T20:21:12.935268",
     "exception": false,
     "start_time": "2020-05-28T20:21:12.914254",
     "status": "completed"
    },
    "tags": []
   },
   "outputs": [
    {
     "data": {
      "text/plain": [
       "(229, 20)"
      ]
     },
     "execution_count": 8,
     "metadata": {},
     "output_type": "execute_result"
    }
   ],
   "source": [
    "alldf.shape"
   ]
  },
  {
   "cell_type": "code",
   "execution_count": 9,
   "metadata": {
    "execution": {
     "iopub.execute_input": "2020-05-28T20:21:12.973195Z",
     "iopub.status.busy": "2020-05-28T20:21:12.973195Z",
     "iopub.status.idle": "2020-05-28T20:21:12.981143Z",
     "shell.execute_reply": "2020-05-28T20:21:12.981143Z"
    },
    "papermill": {
     "duration": 0.03098,
     "end_time": "2020-05-28T20:21:12.981143",
     "exception": false,
     "start_time": "2020-05-28T20:21:12.950163",
     "status": "completed"
    },
    "tags": []
   },
   "outputs": [
    {
     "data": {
      "text/html": [
       "<div>\n",
       "<style scoped>\n",
       "    .dataframe tbody tr th:only-of-type {\n",
       "        vertical-align: middle;\n",
       "    }\n",
       "\n",
       "    .dataframe tbody tr th {\n",
       "        vertical-align: top;\n",
       "    }\n",
       "\n",
       "    .dataframe thead th {\n",
       "        text-align: right;\n",
       "    }\n",
       "</style>\n",
       "<table border=\"1\" class=\"dataframe\">\n",
       "  <thead>\n",
       "    <tr style=\"text-align: right;\">\n",
       "      <th></th>\n",
       "      <th>total</th>\n",
       "      <th>maxcount</th>\n",
       "      <th>first</th>\n",
       "      <th>maxcounty</th>\n",
       "      <th>death_4</th>\n",
       "      <th>death_8</th>\n",
       "      <th>maxpropy</th>\n",
       "      <th>death_9</th>\n",
       "      <th>death_max</th>\n",
       "      <th>death_7</th>\n",
       "      <th>death_last</th>\n",
       "      <th>totalprop</th>\n",
       "      <th>last</th>\n",
       "      <th>death_1</th>\n",
       "      <th>maxprop</th>\n",
       "      <th>death_3</th>\n",
       "      <th>death_5</th>\n",
       "      <th>death_2</th>\n",
       "      <th>death_6</th>\n",
       "      <th>name</th>\n",
       "    </tr>\n",
       "  </thead>\n",
       "  <tbody>\n",
       "    <tr>\n",
       "      <th>4</th>\n",
       "      <td>98</td>\n",
       "      <td>5</td>\n",
       "      <td>1965</td>\n",
       "      <td>1992</td>\n",
       "      <td>NaN</td>\n",
       "      <td>1993.0</td>\n",
       "      <td>1966</td>\n",
       "      <td>1993.0</td>\n",
       "      <td>1993.0</td>\n",
       "      <td>1993.0</td>\n",
       "      <td>NaN</td>\n",
       "      <td>0.085647</td>\n",
       "      <td>2020</td>\n",
       "      <td>NaN</td>\n",
       "      <td>0.006696</td>\n",
       "      <td>NaN</td>\n",
       "      <td>1997.0</td>\n",
       "      <td>NaN</td>\n",
       "      <td>1993.0</td>\n",
       "      <td>smith, d</td>\n",
       "    </tr>\n",
       "    <tr>\n",
       "      <th>8</th>\n",
       "      <td>86</td>\n",
       "      <td>5</td>\n",
       "      <td>1973</td>\n",
       "      <td>1979</td>\n",
       "      <td>NaN</td>\n",
       "      <td>1981.0</td>\n",
       "      <td>1979</td>\n",
       "      <td>1981.0</td>\n",
       "      <td>1980.0</td>\n",
       "      <td>NaN</td>\n",
       "      <td>NaN</td>\n",
       "      <td>0.059211</td>\n",
       "      <td>2018</td>\n",
       "      <td>NaN</td>\n",
       "      <td>0.004970</td>\n",
       "      <td>NaN</td>\n",
       "      <td>NaN</td>\n",
       "      <td>NaN</td>\n",
       "      <td>NaN</td>\n",
       "      <td>hagan, j</td>\n",
       "    </tr>\n",
       "    <tr>\n",
       "      <th>2</th>\n",
       "      <td>72</td>\n",
       "      <td>4</td>\n",
       "      <td>1979</td>\n",
       "      <td>2000</td>\n",
       "      <td>NaN</td>\n",
       "      <td>NaN</td>\n",
       "      <td>2020</td>\n",
       "      <td>NaN</td>\n",
       "      <td>2001.0</td>\n",
       "      <td>NaN</td>\n",
       "      <td>NaN</td>\n",
       "      <td>0.045352</td>\n",
       "      <td>2020</td>\n",
       "      <td>NaN</td>\n",
       "      <td>0.002915</td>\n",
       "      <td>NaN</td>\n",
       "      <td>NaN</td>\n",
       "      <td>NaN</td>\n",
       "      <td>NaN</td>\n",
       "      <td>massey, d</td>\n",
       "    </tr>\n",
       "    <tr>\n",
       "      <th>29</th>\n",
       "      <td>69</td>\n",
       "      <td>7</td>\n",
       "      <td>1972</td>\n",
       "      <td>2004</td>\n",
       "      <td>NaN</td>\n",
       "      <td>NaN</td>\n",
       "      <td>1973</td>\n",
       "      <td>NaN</td>\n",
       "      <td>NaN</td>\n",
       "      <td>NaN</td>\n",
       "      <td>NaN</td>\n",
       "      <td>0.042169</td>\n",
       "      <td>2020</td>\n",
       "      <td>NaN</td>\n",
       "      <td>0.004392</td>\n",
       "      <td>NaN</td>\n",
       "      <td>NaN</td>\n",
       "      <td>NaN</td>\n",
       "      <td>NaN</td>\n",
       "      <td>johnson, m</td>\n",
       "    </tr>\n",
       "    <tr>\n",
       "      <th>82</th>\n",
       "      <td>67</td>\n",
       "      <td>4</td>\n",
       "      <td>1966</td>\n",
       "      <td>2001</td>\n",
       "      <td>NaN</td>\n",
       "      <td>NaN</td>\n",
       "      <td>1972</td>\n",
       "      <td>NaN</td>\n",
       "      <td>NaN</td>\n",
       "      <td>NaN</td>\n",
       "      <td>NaN</td>\n",
       "      <td>0.053460</td>\n",
       "      <td>2018</td>\n",
       "      <td>NaN</td>\n",
       "      <td>0.004717</td>\n",
       "      <td>NaN</td>\n",
       "      <td>NaN</td>\n",
       "      <td>NaN</td>\n",
       "      <td>NaN</td>\n",
       "      <td>johnson, d</td>\n",
       "    </tr>\n",
       "  </tbody>\n",
       "</table>\n",
       "</div>"
      ],
      "text/plain": [
       "    total  maxcount  first  maxcounty  death_4  death_8  maxpropy  death_9  \\\n",
       "4      98         5   1965       1992      NaN   1993.0      1966   1993.0   \n",
       "8      86         5   1973       1979      NaN   1981.0      1979   1981.0   \n",
       "2      72         4   1979       2000      NaN      NaN      2020      NaN   \n",
       "29     69         7   1972       2004      NaN      NaN      1973      NaN   \n",
       "82     67         4   1966       2001      NaN      NaN      1972      NaN   \n",
       "\n",
       "    death_max  death_7  death_last  totalprop  last  death_1   maxprop  \\\n",
       "4      1993.0   1993.0         NaN   0.085647  2020      NaN  0.006696   \n",
       "8      1980.0      NaN         NaN   0.059211  2018      NaN  0.004970   \n",
       "2      2001.0      NaN         NaN   0.045352  2020      NaN  0.002915   \n",
       "29        NaN      NaN         NaN   0.042169  2020      NaN  0.004392   \n",
       "82        NaN      NaN         NaN   0.053460  2018      NaN  0.004717   \n",
       "\n",
       "    death_3  death_5  death_2  death_6        name  \n",
       "4       NaN   1997.0      NaN   1993.0    smith, d  \n",
       "8       NaN      NaN      NaN      NaN    hagan, j  \n",
       "2       NaN      NaN      NaN      NaN   massey, d  \n",
       "29      NaN      NaN      NaN      NaN  johnson, m  \n",
       "82      NaN      NaN      NaN      NaN  johnson, d  "
      ]
     },
     "execution_count": 9,
     "metadata": {},
     "output_type": "execute_result"
    }
   ],
   "source": [
    "alldf.sort_values(\"total\", ascending=False).head()"
   ]
  },
  {
   "cell_type": "code",
   "execution_count": 10,
   "metadata": {
    "execution": {
     "iopub.execute_input": "2020-05-28T20:21:13.014093Z",
     "iopub.status.busy": "2020-05-28T20:21:13.013095Z",
     "iopub.status.idle": "2020-05-28T20:21:13.017107Z",
     "shell.execute_reply": "2020-05-28T20:21:13.017107Z"
    },
    "papermill": {
     "duration": 0.021005,
     "end_time": "2020-05-28T20:21:13.017107",
     "exception": false,
     "start_time": "2020-05-28T20:21:12.996102",
     "status": "completed"
    },
    "tags": []
   },
   "outputs": [],
   "source": [
    "save_variable(\"%s.%s.top1\" % (database_name,ctype), alldf)"
   ]
  },
  {
   "cell_type": "code",
   "execution_count": 11,
   "metadata": {
    "execution": {
     "iopub.execute_input": "2020-05-28T20:21:13.075972Z",
     "iopub.status.busy": "2020-05-28T20:21:13.075972Z",
     "iopub.status.idle": "2020-05-28T20:21:13.078987Z",
     "shell.execute_reply": "2020-05-28T20:21:13.078987Z"
    },
    "jupyter": {
     "source_hidden": true
    },
    "papermill": {
     "duration": 0.045946,
     "end_time": "2020-05-28T20:21:13.078987",
     "exception": false,
     "start_time": "2020-05-28T20:21:13.033041",
     "status": "completed"
    },
    "tags": []
   },
   "outputs": [],
   "source": [
    "save_variable(\"%s.%s.top1\" % (database_name,ctype), alldf)"
   ]
  }
 ],
 "metadata": {
  "kernelspec": {
   "display_name": "Python 3",
   "language": "python",
   "name": "python3"
  },
  "language_info": {
   "codemirror_mode": {
    "name": "ipython",
    "version": 3
   },
   "file_extension": ".py",
   "mimetype": "text/x-python",
   "name": "python",
   "nbconvert_exporter": "python",
   "pygments_lexer": "ipython3",
   "version": "3.7.5"
  },
  "papermill": {
   "duration": 3.899163,
   "end_time": "2020-05-28T20:21:13.210442",
   "environment_variables": {},
   "exception": null,
   "input_path": "G:\\My Drive\\projects\\qualitative analysis of literature\\post 5-12-2020\\git repository _ citation-deaths\\knowknow\\creating variables\\top percent cited in decade (top1).ipynb",
   "output_path": "G:\\My Drive\\projects\\qualitative analysis of literature\\post 5-12-2020\\git repository _ citation-deaths\\knowknow\\creating variables\\top percent cited in decade (top1).ipynb",
   "parameters": {
    "ctype": "fa",
    "database_name": "sociology-wos"
   },
   "start_time": "2020-05-28T20:21:09.311279",
   "version": "2.1.1"
  }
 },
 "nbformat": 4,
 "nbformat_minor": 4
}
