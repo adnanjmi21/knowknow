{
 "cells": [
  {
   "cell_type": "code",
   "execution_count": 49,
   "metadata": {},
   "outputs": [],
   "source": [
    "import sys; sys.path.append(_dh[0].split(\"knowknow\")[0])\n",
    "from knowknow import *\n",
    "\n",
    "database_name = 'sociology-wos'\n",
    "ctype = 'ta'"
   ]
  },
  {
   "cell_type": "code",
   "execution_count": 50,
   "metadata": {},
   "outputs": [],
   "source": []
  },
  {
   "cell_type": "code",
   "execution_count": 51,
   "metadata": {},
   "outputs": [],
   "source": []
  },
  {
   "cell_type": "code",
   "execution_count": 52,
   "metadata": {},
   "outputs": [
    {
     "data": {
      "text/plain": [
       "{p_s(p=1, s='a'): 5}"
      ]
     },
     "execution_count": 52,
     "metadata": {},
     "output_type": "execute_result"
    }
   ],
   "source": [
    "named_tupelize({\n",
    "    (1,'a'): 5,\n",
    "    (1,'a'): 5,\n",
    "    (1,'a'): 5,\n",
    "    (1,'a'): 5,\n",
    "}, 'p.s')"
   ]
  },
  {
   "cell_type": "code",
   "execution_count": 53,
   "metadata": {},
   "outputs": [
    {
     "name": "stdout",
     "output_type": "stream",
     "text": [
      "Loaded keys: dict_keys(['fy.ta'])\n",
      "Available keys: ['c', 'c.fj', 'c.fy', 'c.fy.j', 'fa', 'fa.c', 'fa.fj', 'fa.fj.fy', 'fa.fy', 'fj', 'fj.fy', 'fj.ta', 'fj.ty', 'fy', 'fy.ta', 'fy.ty', 'ta', 'ty']\n"
     ]
    }
   ],
   "source": [
    "cysum = load_variable(\"%s.aysum\" % database_name)\n",
    "cits = get_cnt(\"%s.doc\" % database_name, [comb(ctype,'fy')])"
   ]
  },
  {
   "cell_type": "code",
   "execution_count": 55,
   "metadata": {},
   "outputs": [
    {
     "data": {
      "text/plain": [
       "['cottrell',\n",
       " 'dewey',\n",
       " 'dymond',\n",
       " 'lasswell',\n",
       " 'lewin',\n",
       " 'lindesmith',\n",
       " 'mead',\n",
       " 'newcomb',\n",
       " 'barton',\n",
       " 'murdock']"
      ]
     },
     "execution_count": 55,
     "metadata": {},
     "output_type": "execute_result"
    }
   ],
   "source": [
    "list(count_in_range.keys())[:10]"
   ]
  },
  {
   "cell_type": "code",
   "execution_count": 57,
   "metadata": {},
   "outputs": [
    {
     "data": {
      "text/plain": [
       "['bell',\n",
       " 'brechin',\n",
       " 'butler',\n",
       " 'clark',\n",
       " 'cloke',\n",
       " 'freeman',\n",
       " 'frouws',\n",
       " 'gray',\n",
       " 'healey',\n",
       " 'hermans']"
      ]
     },
     "execution_count": 57,
     "metadata": {},
     "output_type": "execute_result"
    }
   ],
   "source": [
    "list(cysum.keys())[:10]"
   ]
  },
  {
   "cell_type": "code",
   "execution_count": 68,
   "metadata": {},
   "outputs": [
    {
     "name": "stdout",
     "output_type": "stream",
     "text": [
      "59524 total entries\n",
      "16 /1522 in the top 1% in 1940,1950\n",
      "21 /1926 in the top 1% in 1945,1955\n",
      "31 /2972 in the top 1% in 1950,1960\n",
      "45 /4439 in the top 1% in 1955,1965\n",
      "65 /6404 in the top 1% in 1960,1970\n",
      "97 /9674 in the top 1% in 1965,1975\n",
      "141 /14023 in the top 1% in 1970,1980\n",
      "186 /18244 in the top 1% in 1975,1985\n",
      "223 /22105 in the top 1% in 1980,1990\n",
      "(274, 12)\n"
     ]
    }
   ],
   "source": [
    "all_tops = set()\n",
    "\n",
    "print(\"%s total entries\" % len(cysum))\n",
    "\n",
    "\n",
    "# ranges loop from 1940-1950 to 1980-1990, in 1-year increments\n",
    "for RANGE_START, RANGE_END in zip( \n",
    "    range(1940,1980+1,5),\n",
    "    range(1950,1990+1,5),\n",
    "):\n",
    "    \n",
    "    # create a copy of cysum\n",
    "    cysum_copy = {k:dict(v) for k,v in cysum.items()}\n",
    "\n",
    "    count_in_range = defaultdict(int)\n",
    "    for cross, count in cits[comb(ctype,'fy')].items():\n",
    "        if RANGE_END >= cross.fy >= RANGE_START:\n",
    "            count_in_range[ getattr(cross, ctype) ] += count\n",
    "            \n",
    "    q99 = np.quantile(np.array( list(count_in_range.values()) ), 0.99)\n",
    "    top1 = {k for k in count_in_range if count_in_range[k]>=q99}\n",
    "    all_tops.update(top1)\n",
    "    \n",
    "    print(\"%s /%s in the top 1%% in %s,%s\" % (\n",
    "        len(top1),\n",
    "        len(count_in_range),\n",
    "        RANGE_START, RANGE_END\n",
    "    ))\n",
    "\n",
    "    \n",
    "alldf = pd.DataFrame.from_records([\n",
    "    c\n",
    "    for name, c in cysum.items()\n",
    "    if name in all_tops\n",
    "])\n",
    "\n",
    "alldf.fillna(value=np.nan, inplace=True)\n",
    "\n",
    "print(alldf.shape)"
   ]
  },
  {
   "cell_type": "code",
   "execution_count": 69,
   "metadata": {},
   "outputs": [
    {
     "data": {
      "text/plain": [
       "(274, 12)"
      ]
     },
     "execution_count": 69,
     "metadata": {},
     "output_type": "execute_result"
    }
   ],
   "source": [
    "alldf.shape"
   ]
  },
  {
   "cell_type": "code",
   "execution_count": 70,
   "metadata": {},
   "outputs": [],
   "source": [
    "save_variable(\"%s.%s.top1\" % (database_name,ctype), alldf)"
   ]
  },
  {
   "cell_type": "code",
   "execution_count": null,
   "metadata": {},
   "outputs": [],
   "source": []
  }
 ],
 "metadata": {
  "kernelspec": {
   "display_name": "Python 3",
   "language": "python",
   "name": "python3"
  },
  "language_info": {
   "codemirror_mode": {
    "name": "ipython",
    "version": 3
   },
   "file_extension": ".py",
   "mimetype": "text/x-python",
   "name": "python",
   "nbconvert_exporter": "python",
   "pygments_lexer": "ipython3",
   "version": "3.7.5"
  }
 },
 "nbformat": 4,
 "nbformat_minor": 4
}
