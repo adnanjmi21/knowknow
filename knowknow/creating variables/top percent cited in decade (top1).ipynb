{
 "cells": [
  {
   "cell_type": "code",
   "execution_count": 1,
   "metadata": {
    "execution": {
     "iopub.execute_input": "2020-05-24T19:25:06.001638Z",
     "iopub.status.busy": "2020-05-24T19:25:06.000640Z",
     "iopub.status.idle": "2020-05-24T19:25:07.032906Z",
     "shell.execute_reply": "2020-05-24T19:25:07.031915Z"
    },
    "papermill": {
     "duration": 1.063183,
     "end_time": "2020-05-24T19:25:07.032906",
     "exception": false,
     "start_time": "2020-05-24T19:25:05.969723",
     "status": "completed"
    },
    "tags": []
   },
   "outputs": [],
   "source": [
    "import sys; sys.path.append(_dh[0].split(\"knowknow\")[0])\n",
    "from knowknow import *"
   ]
  },
  {
   "cell_type": "code",
   "execution_count": 2,
   "metadata": {
    "execution": {
     "iopub.execute_input": "2020-05-24T19:25:07.058808Z",
     "iopub.status.busy": "2020-05-24T19:25:07.058808Z",
     "iopub.status.idle": "2020-05-24T19:25:07.059831Z",
     "shell.execute_reply": "2020-05-24T19:25:07.060828Z"
    },
    "papermill": {
     "duration": 0.015965,
     "end_time": "2020-05-24T19:25:07.060828",
     "exception": false,
     "start_time": "2020-05-24T19:25:07.044863",
     "status": "completed"
    },
    "tags": []
   },
   "outputs": [
    {
     "data": {
      "text/markdown": [
       "# Zooming in on the top 1%\n",
       "\n",
       "I would like to look at the most successful cited authors, cited works, and cited terms. Unfortunately, this isn't so simple. There has been a dramatic increase in the supply of citations over the last 100 years, so the group with the most total citations would be skewed towards the citation preferences of recent papers. In order to account for this bias,\n",
       "I choose among items cited by articles published in each decade 1940-1950, 1941-1951, 1942-1952, all the way to 1980-1990. In each of these decades I determine which were the top-cited 1%. The set of all these top 1%s, from all these decade spans, comprise the 1% I will study in this paper."
      ],
      "text/plain": [
       "<IPython.core.display.Markdown object>"
      ]
     },
     "metadata": {},
     "output_type": "display_data"
    }
   ],
   "source": [
    "showdocs(\"top1\")"
   ]
  },
  {
   "cell_type": "markdown",
   "metadata": {
    "papermill": {
     "duration": 0.031914,
     "end_time": "2020-05-24T19:25:07.102691",
     "exception": false,
     "start_time": "2020-05-24T19:25:07.070777",
     "status": "completed"
    },
    "tags": []
   },
   "source": [
    "# User Parameters\n",
    "\n",
    "Just pick the database `database_name` and the type of count atom you want to analyze (e.g. `\"ta\"` for cited author, `\"c\"` for cited work, etc.)\n",
    "\n",
    "Note that `\"t\"` is only available for `jstor` databases"
   ]
  },
  {
   "cell_type": "code",
   "execution_count": 3,
   "metadata": {
    "execution": {
     "iopub.execute_input": "2020-05-24T19:25:07.128513Z",
     "iopub.status.busy": "2020-05-24T19:25:07.128513Z",
     "iopub.status.idle": "2020-05-24T19:25:07.131505Z",
     "shell.execute_reply": "2020-05-24T19:25:07.130507Z"
    },
    "papermill": {
     "duration": 0.017819,
     "end_time": "2020-05-24T19:25:07.131505",
     "exception": false,
     "start_time": "2020-05-24T19:25:07.113686",
     "status": "completed"
    },
    "tags": [
     "parameters"
    ]
   },
   "outputs": [],
   "source": [
    "database_name = 'sociology-wos'\n",
    "ctype = 'ta'\n",
    "top_percentile = 0.01"
   ]
  },
  {
   "cell_type": "code",
   "execution_count": 4,
   "metadata": {
    "execution": {
     "iopub.execute_input": "2020-05-24T19:25:07.155442Z",
     "iopub.status.busy": "2020-05-24T19:25:07.154444Z",
     "iopub.status.idle": "2020-05-24T19:25:07.157436Z",
     "shell.execute_reply": "2020-05-24T19:25:07.156439Z"
    },
    "papermill": {
     "duration": 0.015958,
     "end_time": "2020-05-24T19:25:07.157436",
     "exception": false,
     "start_time": "2020-05-24T19:25:07.141478",
     "status": "completed"
    },
    "tags": [
     "injected-parameters"
    ]
   },
   "outputs": [],
   "source": [
    "# Parameters\n",
    "database_name = \"sociology-jstor\"\n",
    "ctype = \"t\"\n"
   ]
  },
  {
   "cell_type": "markdown",
   "metadata": {
    "papermill": {
     "duration": 0.011999,
     "end_time": "2020-05-24T19:25:07.180406",
     "exception": false,
     "start_time": "2020-05-24T19:25:07.168407",
     "status": "completed"
    },
    "tags": []
   },
   "source": [
    "# Load data"
   ]
  },
  {
   "cell_type": "code",
   "execution_count": 5,
   "metadata": {
    "execution": {
     "iopub.execute_input": "2020-05-24T19:25:07.205308Z",
     "iopub.status.busy": "2020-05-24T19:25:07.204311Z",
     "iopub.status.idle": "2020-05-24T19:25:07.810715Z",
     "shell.execute_reply": "2020-05-24T19:25:07.810715Z"
    },
    "papermill": {
     "duration": 0.618373,
     "end_time": "2020-05-24T19:25:07.810715",
     "exception": false,
     "start_time": "2020-05-24T19:25:07.192342",
     "status": "completed"
    },
    "tags": []
   },
   "outputs": [
    {
     "name": "stdout",
     "output_type": "stream",
     "text": [
      "Loaded keys: dict_keys(['fy.t'])\n",
      "Available keys: ['a', 'a.c', 'a.fj.fy', 'c', 'c.c', 'c.fa', 'c.fj', 'c.fy', 'c.t', 'fa', 'fa.fj.fy', 'fj', 'fj.fy', 'fj.t', 'fy', 'fy.t', 't']\n"
     ]
    }
   ],
   "source": [
    "cysum = load_variable(\"%s.%s.ysum\" % (database_name,ctype))\n",
    "cits = get_cnt(\"%s.doc\" % database_name, [comb(ctype,'fy')])"
   ]
  },
  {
   "cell_type": "markdown",
   "metadata": {
    "papermill": {
     "duration": 0.011974,
     "end_time": "2020-05-24T19:25:07.836625",
     "exception": false,
     "start_time": "2020-05-24T19:25:07.824651",
     "status": "completed"
    },
    "tags": []
   },
   "source": [
    "# loop through all the decades!"
   ]
  },
  {
   "cell_type": "code",
   "execution_count": 6,
   "metadata": {
    "execution": {
     "iopub.execute_input": "2020-05-24T19:25:07.922389Z",
     "iopub.status.busy": "2020-05-24T19:25:07.876511Z",
     "iopub.status.idle": "2020-05-24T19:25:08.803033Z",
     "shell.execute_reply": "2020-05-24T19:25:08.803033Z"
    },
    "papermill": {
     "duration": 0.95542,
     "end_time": "2020-05-24T19:25:08.803033",
     "exception": false,
     "start_time": "2020-05-24T19:25:07.847613",
     "status": "completed"
    },
    "tags": []
   },
   "outputs": [
    {
     "name": "stdout",
     "output_type": "stream",
     "text": [
      "3961 total entries\n",
      "1 /92 in the top 1.0% in 1940,1950 (1 total accumulated)\n",
      "1 /97 in the top 1.0% in 1941,1951 (1 total accumulated)\n",
      "2 /107 in the top 1.0% in 1942,1952 (2 total accumulated)\n",
      "3 /112 in the top 1.0% in 1943,1953 (4 total accumulated)\n",
      "2 /121 in the top 1.0% in 1944,1954 (4 total accumulated)\n",
      "2 /127 in the top 1.0% in 1945,1955 (4 total accumulated)\n"
     ]
    },
    {
     "name": "stdout",
     "output_type": "stream",
     "text": [
      "2 /142 in the top 1.0% in 1946,1956 (4 total accumulated)\n",
      "2 /186 in the top 1.0% in 1947,1957 (4 total accumulated)\n",
      "3 /203 in the top 1.0% in 1948,1958 (4 total accumulated)\n",
      "3 /225 in the top 1.0% in 1949,1959 (5 total accumulated)\n",
      "5 /265 in the top 1.0% in 1950,1960 (6 total accumulated)\n",
      "3 /296 in the top 1.0% in 1951,1961 (6 total accumulated)\n",
      "5 /340 in the top 1.0% in 1952,1962 (7 total accumulated)\n"
     ]
    },
    {
     "name": "stdout",
     "output_type": "stream",
     "text": [
      "4 /377 in the top 1.0% in 1953,1963 (7 total accumulated)\n",
      "5 /403 in the top 1.0% in 1954,1964 (7 total accumulated)\n",
      "6 /427 in the top 1.0% in 1955,1965 (8 total accumulated)\n",
      "5 /463 in the top 1.0% in 1956,1966 (8 total accumulated)\n",
      "6 /532 in the top 1.0% in 1957,1967 (9 total accumulated)\n",
      "8 /722 in the top 1.0% in 1958,1968 (10 total accumulated)\n"
     ]
    },
    {
     "name": "stdout",
     "output_type": "stream",
     "text": [
      "12 /1188 in the top 1.0% in 1959,1969 (13 total accumulated)\n",
      "18 /1722 in the top 1.0% in 1960,1970 (19 total accumulated)\n",
      "24 /2112 in the top 1.0% in 1961,1971 (25 total accumulated)\n",
      "25 /2386 in the top 1.0% in 1962,1972 (28 total accumulated)\n",
      "27 /2618 in the top 1.0% in 1963,1973 (31 total accumulated)\n",
      "28 /2797 in the top 1.0% in 1964,1974 (35 total accumulated)\n"
     ]
    },
    {
     "name": "stdout",
     "output_type": "stream",
     "text": [
      "30 /2976 in the top 1.0% in 1965,1975 (37 total accumulated)\n",
      "32 /3133 in the top 1.0% in 1966,1976 (39 total accumulated)\n",
      "33 /3289 in the top 1.0% in 1967,1977 (41 total accumulated)\n",
      "35 /3412 in the top 1.0% in 1968,1978 (44 total accumulated)\n"
     ]
    },
    {
     "name": "stdout",
     "output_type": "stream",
     "text": [
      "36 /3513 in the top 1.0% in 1969,1979 (48 total accumulated)\n",
      "37 /3605 in the top 1.0% in 1970,1980 (49 total accumulated)\n",
      "38 /3679 in the top 1.0% in 1971,1981 (50 total accumulated)\n",
      "38 /3719 in the top 1.0% in 1972,1982 (52 total accumulated)\n",
      "39 /3791 in the top 1.0% in 1973,1983 (55 total accumulated)\n"
     ]
    },
    {
     "name": "stdout",
     "output_type": "stream",
     "text": [
      "39 /3837 in the top 1.0% in 1974,1984 (59 total accumulated)\n",
      "39 /3869 in the top 1.0% in 1975,1985 (60 total accumulated)\n",
      "41 /3920 in the top 1.0% in 1976,1986 (63 total accumulated)\n"
     ]
    },
    {
     "name": "stdout",
     "output_type": "stream",
     "text": [
      "40 /3944 in the top 1.0% in 1977,1987 (64 total accumulated)\n",
      "40 /3961 in the top 1.0% in 1978,1988 (65 total accumulated)\n",
      "40 /3999 in the top 1.0% in 1979,1989 (66 total accumulated)\n",
      "41 /4026 in the top 1.0% in 1980,1990 (67 total accumulated)\n",
      "(60, 13)\n"
     ]
    }
   ],
   "source": [
    "all_tops = set()\n",
    "\n",
    "print(\"%s total entries\" % len(cysum))\n",
    "\n",
    "\n",
    "# ranges loop from 1940-1950 to 1980-1990, in 1-year increments\n",
    "for RANGE_START, RANGE_END in zip( \n",
    "    range(1940,1980+1,1),\n",
    "    range(1950,1990+1,1),\n",
    "):\n",
    "    \n",
    "    # create a copy of cysum\n",
    "    cysum_copy = {k:dict(v) for k,v in cysum.items()}\n",
    "\n",
    "    count_in_range = defaultdict(int)\n",
    "    for cross, count in cits[comb(ctype,'fy')].items():\n",
    "        if RANGE_END >= cross.fy >= RANGE_START:\n",
    "            count_in_range[ getattr(cross, ctype) ] += count\n",
    "            \n",
    "    q99 = np.quantile(np.array( list(count_in_range.values()) ), 1-top_percentile)\n",
    "    top1 = {k for k in count_in_range if count_in_range[k]>=q99}\n",
    "    all_tops.update(top1)\n",
    "    \n",
    "    print(\"%s /%s in the top %0.1f%% in %s,%s (%s total accumulated)\" % (\n",
    "        len(top1),\n",
    "        len(count_in_range),\n",
    "        top_percentile*100,\n",
    "        RANGE_START, RANGE_END,\n",
    "        len(all_tops)\n",
    "    ))\n",
    "\n",
    "    \n",
    "alldf = pd.DataFrame.from_records([\n",
    "    c\n",
    "    for name, c in cysum.items()\n",
    "    if name in all_tops\n",
    "])\n",
    "\n",
    "alldf.fillna(value=np.nan, inplace=True)\n",
    "\n",
    "print(alldf.shape)"
   ]
  },
  {
   "cell_type": "code",
   "execution_count": 7,
   "metadata": {
    "execution": {
     "iopub.execute_input": "2020-05-24T19:25:08.836942Z",
     "iopub.status.busy": "2020-05-24T19:25:08.836942Z",
     "iopub.status.idle": "2020-05-24T19:25:08.838937Z",
     "shell.execute_reply": "2020-05-24T19:25:08.838937Z"
    },
    "papermill": {
     "duration": 0.017952,
     "end_time": "2020-05-24T19:25:08.838937",
     "exception": false,
     "start_time": "2020-05-24T19:25:08.820985",
     "status": "completed"
    },
    "tags": []
   },
   "outputs": [
    {
     "data": {
      "text/plain": [
       "(60, 13)"
      ]
     },
     "execution_count": 7,
     "metadata": {},
     "output_type": "execute_result"
    }
   ],
   "source": [
    "alldf.shape"
   ]
  },
  {
   "cell_type": "code",
   "execution_count": 8,
   "metadata": {
    "execution": {
     "iopub.execute_input": "2020-05-24T19:25:08.867859Z",
     "iopub.status.busy": "2020-05-24T19:25:08.867859Z",
     "iopub.status.idle": "2020-05-24T19:25:08.870851Z",
     "shell.execute_reply": "2020-05-24T19:25:08.869854Z"
    },
    "papermill": {
     "duration": 0.018912,
     "end_time": "2020-05-24T19:25:08.870851",
     "exception": false,
     "start_time": "2020-05-24T19:25:08.851939",
     "status": "completed"
    },
    "tags": []
   },
   "outputs": [],
   "source": [
    "save_variable(\"%s.%s.top1\" % (database_name,ctype), alldf)"
   ]
  },
  {
   "cell_type": "code",
   "execution_count": 9,
   "metadata": {
    "execution": {
     "iopub.execute_input": "2020-05-24T19:25:08.900772Z",
     "iopub.status.busy": "2020-05-24T19:25:08.899774Z",
     "iopub.status.idle": "2020-05-24T19:25:08.903766Z",
     "shell.execute_reply": "2020-05-24T19:25:08.903766Z"
    },
    "jupyter": {
     "source_hidden": true
    },
    "papermill": {
     "duration": 0.020916,
     "end_time": "2020-05-24T19:25:08.904760",
     "exception": false,
     "start_time": "2020-05-24T19:25:08.883844",
     "status": "completed"
    },
    "tags": []
   },
   "outputs": [],
   "source": [
    "save_variable(\"%s.%s.top1\" % (database_name,ctype), alldf)"
   ]
  }
 ],
 "metadata": {
  "kernelspec": {
   "display_name": "Python 3",
   "language": "python",
   "name": "python3"
  },
  "language_info": {
   "codemirror_mode": {
    "name": "ipython",
    "version": 3
   },
   "file_extension": ".py",
   "mimetype": "text/x-python",
   "name": "python",
   "nbconvert_exporter": "python",
   "pygments_lexer": "ipython3",
   "version": "3.7.5"
  },
  "papermill": {
   "duration": 4.30327,
   "end_time": "2020-05-24T19:25:09.024460",
   "environment_variables": {},
   "exception": null,
   "input_path": "G:\\My Drive\\projects\\qualitative analysis of literature\\post 5-12-2020\\git repository _ citation-deaths\\knowknow\\creating variables\\top percent cited in decade (top1).ipynb",
   "output_path": "G:\\My Drive\\projects\\qualitative analysis of literature\\post 5-12-2020\\git repository _ citation-deaths\\knowknow\\creating variables\\top percent cited in decade (top1).ipynb",
   "parameters": {
    "ctype": "t",
    "database_name": "sociology-jstor"
   },
   "start_time": "2020-05-24T19:25:04.721190",
   "version": "2.1.1"
  }
 },
 "nbformat": 4,
 "nbformat_minor": 4
}