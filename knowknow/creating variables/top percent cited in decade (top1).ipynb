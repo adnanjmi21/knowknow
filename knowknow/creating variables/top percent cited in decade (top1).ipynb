{
 "cells": [
  {
   "cell_type": "code",
   "execution_count": 1,
   "metadata": {},
   "outputs": [],
   "source": [
    "import sys; sys.path.append(_dh[0].split(\"knowknow\")[0])\n",
    "from knowknow import *\n",
    "\n",
    "database_name = 'sociology-jstor'"
   ]
  },
  {
   "cell_type": "code",
   "execution_count": 2,
   "metadata": {},
   "outputs": [
    {
     "name": "stdout",
     "output_type": "stream",
     "text": [
      "Loaded keys: dict_keys(['c.fy'])\n",
      "Available keys: ['fy', 'c', 'fj', 'fj.fy', 'c.fj', 'c.fy', 'a.c', 'a.fj.fy', 'a', 'c.c', 'c.t', 't', 'fy.t', 'fj.t']\n"
     ]
    }
   ],
   "source": [
    "cysum = load_variable(\"%s.cysum\" % database_name)\n",
    "cits = get_cnt(\"%s.doc\" % database_name, ['c.fy'])"
   ]
  },
  {
   "cell_type": "code",
   "execution_count": 3,
   "metadata": {},
   "outputs": [
    {
     "data": {
      "text/plain": [
       "['Szymanski (1976)',\n",
       " 'McGowan and Smith (1978)',\n",
       " 'Delacroix and Ragin (1981)',\n",
       " 'Bradshaw and Wahl (1991)',\n",
       " 'Stoneman (1975)']"
      ]
     },
     "execution_count": 3,
     "metadata": {},
     "output_type": "execute_result"
    }
   ],
   "source": [
    "list(cysum)[:5]"
   ]
  },
  {
   "cell_type": "code",
   "execution_count": 4,
   "metadata": {},
   "outputs": [
    {
     "name": "stdout",
     "output_type": "stream",
     "text": [
      "141608 total entries\n",
      "(168, 15)\n",
      "2 /168 in the top 1% in 1940,1950\n",
      "(214, 15)\n",
      "3 /214 in the top 1% in 1945,1955\n",
      "(332, 15)\n",
      "6 /332 in the top 1% in 1950,1960\n",
      "(461, 15)\n",
      "6 /461 in the top 1% in 1955,1965\n",
      "(4868, 15)\n",
      "50 /4868 in the top 1% in 1960,1970\n",
      "(14321, 15)\n",
      "168 /14321 in the top 1% in 1965,1975\n",
      "(26267, 15)\n",
      "264 /26267 in the top 1% in 1970,1980\n",
      "(36582, 15)\n",
      "370 /36582 in the top 1% in 1975,1985\n",
      "(47260, 15)\n",
      "482 /47260 in the top 1% in 1980,1990\n"
     ]
    }
   ],
   "source": [
    "toptops = []\n",
    "\n",
    "print(\"%s total entries\" % len(cysum))\n",
    "\n",
    "\n",
    "# ranges loop from 1940-1950 to 1980-1990, in 1-year increments\n",
    "for RANGE_START, RANGE_END in zip( \n",
    "    range(1940,1980+1,5),\n",
    "    range(1950,1990+1,5),\n",
    "):\n",
    "    \n",
    "    # create a copy of cysum\n",
    "    cysum_filt = [x for x in cysum.values()]\n",
    "\n",
    "    count_in_range = defaultdict(int)\n",
    "    for (c,y),count in cits['c.fy'].items():\n",
    "        if RANGE_END >= y >= RANGE_START:\n",
    "            count_in_range[c] += count\n",
    "\n",
    "    for c in cysum_filt:\n",
    "        if c['name'] in count_in_range:\n",
    "            c['count_in_range'] = count_in_range[c['name']]\n",
    "            \n",
    "    #cysum_filt = [x for x in cysum_filt if x['count_in_range']>=5]\n",
    "    #print(\"%s of them have at least 5 citations in range\" % len(cysum_filt))\n",
    "\n",
    "    alldf = pd.DataFrame.from_records([\n",
    "        cysum[c] for c in count_in_range\n",
    "        if c in cysum\n",
    "    ])\n",
    "    print(alldf.shape)\n",
    "    \n",
    "    q99 = alldf.count_in_range.quantile(0.99)\n",
    "    toptop = alldf[alldf.count_in_range>=q99]\n",
    "    \n",
    "    \n",
    "    print(\"%s /%s in the top 1%% in %s,%s\" % (\n",
    "        toptop.shape[0],\n",
    "        alldf.shape[0],\n",
    "        RANGE_START, RANGE_END\n",
    "    ))\n",
    "    \n",
    "    toptop = pd.DataFrame.from_records(toptop)\n",
    "    toptops.append(toptop)"
   ]
  },
  {
   "cell_type": "code",
   "execution_count": 5,
   "metadata": {},
   "outputs": [],
   "source": [
    "toptops = pd.concat(toptops)"
   ]
  },
  {
   "cell_type": "code",
   "execution_count": 8,
   "metadata": {},
   "outputs": [
    {
     "data": {
      "text/plain": [
       "(1351, 15)"
      ]
     },
     "execution_count": 8,
     "metadata": {},
     "output_type": "execute_result"
    }
   ],
   "source": [
    "toptops.shape"
   ]
  },
  {
   "cell_type": "code",
   "execution_count": 9,
   "metadata": {},
   "outputs": [],
   "source": [
    "save_variable(\"%s.top1\" % database_name, toptops)"
   ]
  }
 ],
 "metadata": {
  "kernelspec": {
   "display_name": "Python 3",
   "language": "python",
   "name": "python3"
  },
  "language_info": {
   "codemirror_mode": {
    "name": "ipython",
    "version": 3
   },
   "file_extension": ".py",
   "mimetype": "text/x-python",
   "name": "python",
   "nbconvert_exporter": "python",
   "pygments_lexer": "ipython3",
   "version": "3.7.5"
  }
 },
 "nbformat": 4,
 "nbformat_minor": 4
}
