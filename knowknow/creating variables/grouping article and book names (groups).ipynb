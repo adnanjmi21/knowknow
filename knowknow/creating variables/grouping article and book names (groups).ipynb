{
 "cells": [
  {
   "cell_type": "code",
   "execution_count": 1,
   "metadata": {},
   "outputs": [],
   "source": [
    "import sys; sys.path.append(_dh[0].split(\"knowknow\")[0])\n",
    "from knowknow import *\n",
    "\n",
    "database_name = 'wos'"
   ]
  },
  {
   "cell_type": "code",
   "execution_count": 2,
   "metadata": {},
   "outputs": [],
   "source": [
    "import string_grouper\n",
    "import editdistance"
   ]
  },
  {
   "cell_type": "code",
   "execution_count": 3,
   "metadata": {},
   "outputs": [],
   "source": [
    "# the final variable we are constructing\n",
    "groups = {}\n",
    "\n",
    "# tracks the last group-id assigned\n",
    "new_gid = 0"
   ]
  },
  {
   "cell_type": "code",
   "execution_count": 4,
   "metadata": {},
   "outputs": [],
   "source": [
    "try:\n",
    "    cysum = load_variable(\"%s.cysum\" % database_name)\n",
    "except VariableNotFound:\n",
    "    print(\"You need to generate cysum before running this notebook.\")"
   ]
  },
  {
   "cell_type": "code",
   "execution_count": 5,
   "metadata": {},
   "outputs": [],
   "source": [
    "def isarticle(x):\n",
    "    sp = x.split(\"|\")\n",
    "    if len(sp) < 2:\n",
    "        return False\n",
    "    \n",
    "    try:\n",
    "        int(sp[1])\n",
    "        return True\n",
    "    except ValueError:\n",
    "        return False\n",
    "\n",
    "strings = [x for x in cysum if '[no title captured]' not in x]\n",
    "\n",
    "articles = [x for x in strings if isarticle(x)]\n",
    "books = [x for x in strings if not isarticle(x)]"
   ]
  },
  {
   "cell_type": "code",
   "execution_count": 6,
   "metadata": {},
   "outputs": [
    {
     "name": "stdout",
     "output_type": "stream",
     "text": [
      "234198 articles, 185089 books to group\n"
     ]
    }
   ],
   "source": [
    "print(\"%s articles, %s books to group\" % (len(articles), len(books)))"
   ]
  },
  {
   "cell_type": "markdown",
   "metadata": {},
   "source": [
    "# grouping books"
   ]
  },
  {
   "cell_type": "code",
   "execution_count": 7,
   "metadata": {},
   "outputs": [],
   "source": [
    "# this cell may take quite a while to run.\n",
    "# on Intel i7-9700F this runs in about a minute on 185k names.\n",
    "\n",
    "books_grouped = string_grouper.match_strings(\n",
    "    pd.Series(books), \n",
    "    number_of_processes=8, \n",
    "    min_similarity=0.7\n",
    ")"
   ]
  },
  {
   "cell_type": "code",
   "execution_count": 8,
   "metadata": {},
   "outputs": [
    {
     "data": {
      "text/html": [
       "<div>\n",
       "<style scoped>\n",
       "    .dataframe tbody tr th:only-of-type {\n",
       "        vertical-align: middle;\n",
       "    }\n",
       "\n",
       "    .dataframe tbody tr th {\n",
       "        vertical-align: top;\n",
       "    }\n",
       "\n",
       "    .dataframe thead th {\n",
       "        text-align: right;\n",
       "    }\n",
       "</style>\n",
       "<table border=\"1\" class=\"dataframe\">\n",
       "  <thead>\n",
       "    <tr style=\"text-align: right;\">\n",
       "      <th></th>\n",
       "      <th>left_side</th>\n",
       "      <th>right_side</th>\n",
       "      <th>similarity</th>\n",
       "    </tr>\n",
       "  </thead>\n",
       "  <tbody>\n",
       "    <tr>\n",
       "      <th>80862</th>\n",
       "      <td>hill|human relations</td>\n",
       "      <td>coser|human relations</td>\n",
       "      <td>0.700000</td>\n",
       "    </tr>\n",
       "    <tr>\n",
       "      <th>306001</th>\n",
       "      <td>coser|human relations</td>\n",
       "      <td>hill|human relations</td>\n",
       "      <td>0.700000</td>\n",
       "    </tr>\n",
       "    <tr>\n",
       "      <th>230482</th>\n",
       "      <td>campbell|methodological issue</td>\n",
       "      <td>denton|methodological issue</td>\n",
       "      <td>0.700003</td>\n",
       "    </tr>\n",
       "    <tr>\n",
       "      <th>106423</th>\n",
       "      <td>denton|methodological issue</td>\n",
       "      <td>campbell|methodological issue</td>\n",
       "      <td>0.700003</td>\n",
       "    </tr>\n",
       "    <tr>\n",
       "      <th>2384</th>\n",
       "      <td>hardin|collective action</td>\n",
       "      <td>sandler|collective action</td>\n",
       "      <td>0.700003</td>\n",
       "    </tr>\n",
       "    <tr>\n",
       "      <th>...</th>\n",
       "      <td>...</td>\n",
       "      <td>...</td>\n",
       "      <td>...</td>\n",
       "    </tr>\n",
       "    <tr>\n",
       "      <th>95728</th>\n",
       "      <td>castellani|pathological gamblin</td>\n",
       "      <td>castellani|pathological gambling</td>\n",
       "      <td>0.994837</td>\n",
       "    </tr>\n",
       "    <tr>\n",
       "      <th>370660</th>\n",
       "      <td>mcgivering|management britain g</td>\n",
       "      <td>mcgivering|management britain</td>\n",
       "      <td>0.994962</td>\n",
       "    </tr>\n",
       "    <tr>\n",
       "      <th>358036</th>\n",
       "      <td>mcgivering|management britain</td>\n",
       "      <td>mcgivering|management britain g</td>\n",
       "      <td>0.994962</td>\n",
       "    </tr>\n",
       "    <tr>\n",
       "      <th>76429</th>\n",
       "      <td>minichiello|in depth interviewin</td>\n",
       "      <td>minichiello|indepth interviewing</td>\n",
       "      <td>0.995253</td>\n",
       "    </tr>\n",
       "    <tr>\n",
       "      <th>226170</th>\n",
       "      <td>minichiello|indepth interviewing</td>\n",
       "      <td>minichiello|in depth interviewin</td>\n",
       "      <td>0.995253</td>\n",
       "    </tr>\n",
       "  </tbody>\n",
       "</table>\n",
       "<p>188488 rows × 3 columns</p>\n",
       "</div>"
      ],
      "text/plain": [
       "                               left_side                        right_side  \\\n",
       "80862               hill|human relations             coser|human relations   \n",
       "306001             coser|human relations              hill|human relations   \n",
       "230482     campbell|methodological issue       denton|methodological issue   \n",
       "106423       denton|methodological issue     campbell|methodological issue   \n",
       "2384            hardin|collective action         sandler|collective action   \n",
       "...                                  ...                               ...   \n",
       "95728    castellani|pathological gamblin  castellani|pathological gambling   \n",
       "370660   mcgivering|management britain g     mcgivering|management britain   \n",
       "358036     mcgivering|management britain   mcgivering|management britain g   \n",
       "76429   minichiello|in depth interviewin  minichiello|indepth interviewing   \n",
       "226170  minichiello|indepth interviewing  minichiello|in depth interviewin   \n",
       "\n",
       "        similarity  \n",
       "80862     0.700000  \n",
       "306001    0.700000  \n",
       "230482    0.700003  \n",
       "106423    0.700003  \n",
       "2384      0.700003  \n",
       "...            ...  \n",
       "95728     0.994837  \n",
       "370660    0.994962  \n",
       "358036    0.994962  \n",
       "76429     0.995253  \n",
       "226170    0.995253  \n",
       "\n",
       "[188488 rows x 3 columns]"
      ]
     },
     "execution_count": 8,
     "metadata": {},
     "output_type": "execute_result"
    }
   ],
   "source": [
    "books_grouped[(books_grouped.similarity<1-1e-8)].sort_values(\"similarity\")"
   ]
  },
  {
   "cell_type": "code",
   "execution_count": 9,
   "metadata": {},
   "outputs": [],
   "source": [
    "# for books, we require that the authors are no more than 1 edit from each other\n",
    "# even after limiting the comparisons necessary, this takes about 20s on Intel i7-9700F\n",
    "\n",
    "ft = defaultdict(set)\n",
    "\n",
    "for i,r in books_grouped.iterrows():\n",
    "    ls = r.left_side\n",
    "    rs = r.right_side\n",
    "    \n",
    "    if ls == rs:\n",
    "        continue\n",
    "    \n",
    "    la = ls.split(\"|\")[0]\n",
    "    ra = rs.split(\"|\")[0]\n",
    "    \n",
    "    if editdistance.eval(la,ra) > 1:\n",
    "        continue\n",
    "    \n",
    "    ft[ls].add(rs)\n",
    "    ft[rs].add(ls)\n",
    "    \n",
    "print(\"%s books have some connection to others in a group\" % len(ft))"
   ]
  },
  {
   "cell_type": "code",
   "execution_count": 10,
   "metadata": {},
   "outputs": [],
   "source": [
    "# assigns group-ids based on the relational structure derived thus far\n",
    "# the code propagates ids through the network, assuming transitivity of equality\n",
    "\n",
    "def traverse(x, gid):\n",
    "    global groups\n",
    "    groups[x] = gid\n",
    "    \n",
    "    neighbors = ft[x]\n",
    "    for n in neighbors:\n",
    "        if n not in groups:\n",
    "            traverse(n, gid)\n",
    "      \n",
    "for i,k in enumerate(strings):\n",
    "    if k in groups:\n",
    "        continue\n",
    "        \n",
    "    traverse(k, new_gid)\n",
    "    new_gid += 1"
   ]
  },
  {
   "cell_type": "markdown",
   "metadata": {},
   "source": [
    "# grouping articles"
   ]
  },
  {
   "cell_type": "code",
   "execution_count": 11,
   "metadata": {},
   "outputs": [],
   "source": [
    "# this cell may take quite a while to run.\n",
    "# on Intel i7-9700F this runs in five minutes on 234k entries.\n",
    "\n",
    "articles_grouped = string_grouper.match_strings(\n",
    "    pd.Series(articles), \n",
    "    number_of_processes=8, # decrease this number to 1 or 2 for slower computers or laptops (the fan might start screaming)\n",
    "    min_similarity=0.8 # the similarity cutoff is tighter for articles than for books\n",
    ")"
   ]
  },
  {
   "cell_type": "code",
   "execution_count": 12,
   "metadata": {},
   "outputs": [
    {
     "data": {
      "text/html": [
       "<div>\n",
       "<style scoped>\n",
       "    .dataframe tbody tr th:only-of-type {\n",
       "        vertical-align: middle;\n",
       "    }\n",
       "\n",
       "    .dataframe tbody tr th {\n",
       "        vertical-align: top;\n",
       "    }\n",
       "\n",
       "    .dataframe thead th {\n",
       "        text-align: right;\n",
       "    }\n",
       "</style>\n",
       "<table border=\"1\" class=\"dataframe\">\n",
       "  <thead>\n",
       "    <tr style=\"text-align: right;\">\n",
       "      <th></th>\n",
       "      <th>left_side</th>\n",
       "      <th>right_side</th>\n",
       "      <th>similarity</th>\n",
       "    </tr>\n",
       "  </thead>\n",
       "  <tbody>\n",
       "    <tr>\n",
       "      <th>176458</th>\n",
       "      <td>kian|2009| j broadcast electron, v53, p477</td>\n",
       "      <td>hoffman|2009| j broadcast electron, v53, p3</td>\n",
       "      <td>0.800017</td>\n",
       "    </tr>\n",
       "    <tr>\n",
       "      <th>129037</th>\n",
       "      <td>hoffman|2009| j broadcast electron, v53, p3</td>\n",
       "      <td>kian|2009| j broadcast electron, v53, p477</td>\n",
       "      <td>0.800017</td>\n",
       "    </tr>\n",
       "    <tr>\n",
       "      <th>74449</th>\n",
       "      <td>oliver|1992| disability handicap, v7, p1011</td>\n",
       "      <td>keith|1992| disability handicap, v7, p167</td>\n",
       "      <td>0.800018</td>\n",
       "    </tr>\n",
       "    <tr>\n",
       "      <th>218140</th>\n",
       "      <td>keith|1992| disability handicap, v7, p167</td>\n",
       "      <td>oliver|1992| disability handicap, v7, p1011</td>\n",
       "      <td>0.800018</td>\n",
       "    </tr>\n",
       "    <tr>\n",
       "      <th>118937</th>\n",
       "      <td>samson|2014| ethnic racial stud, v37, p467</td>\n",
       "      <td>platt|2014| ethnic racial stud, v37, p46</td>\n",
       "      <td>0.800028</td>\n",
       "    </tr>\n",
       "    <tr>\n",
       "      <th>...</th>\n",
       "      <td>...</td>\n",
       "      <td>...</td>\n",
       "      <td>...</td>\n",
       "    </tr>\n",
       "    <tr>\n",
       "      <th>188026</th>\n",
       "      <td>o'connor|1988| capitalism nature so, v1, p1</td>\n",
       "      <td>o'connor|1988| capitalism nature so, v1, p11</td>\n",
       "      <td>0.992325</td>\n",
       "    </tr>\n",
       "    <tr>\n",
       "      <th>40699</th>\n",
       "      <td>jasanoff|2004| states knowledge cop, p13</td>\n",
       "      <td>jasanoff|2004| states knowledge cop, p1</td>\n",
       "      <td>0.992505</td>\n",
       "    </tr>\n",
       "    <tr>\n",
       "      <th>145879</th>\n",
       "      <td>jasanoff|2004| states knowledge cop, p1</td>\n",
       "      <td>jasanoff|2004| states knowledge cop, p13</td>\n",
       "      <td>0.992505</td>\n",
       "    </tr>\n",
       "    <tr>\n",
       "      <th>168139</th>\n",
       "      <td>crompton|1991| journal of park and recreation ...</td>\n",
       "      <td>crompton|1991| journal of park and recreation ...</td>\n",
       "      <td>0.994068</td>\n",
       "    </tr>\n",
       "    <tr>\n",
       "      <th>70422</th>\n",
       "      <td>crompton|1991| journal of park and recreation ...</td>\n",
       "      <td>crompton|1991| journal of park and recreation ...</td>\n",
       "      <td>0.994068</td>\n",
       "    </tr>\n",
       "  </tbody>\n",
       "</table>\n",
       "<p>26775 rows × 3 columns</p>\n",
       "</div>"
      ],
      "text/plain": [
       "                                                left_side  \\\n",
       "176458         kian|2009| j broadcast electron, v53, p477   \n",
       "129037        hoffman|2009| j broadcast electron, v53, p3   \n",
       "74449         oliver|1992| disability handicap, v7, p1011   \n",
       "218140          keith|1992| disability handicap, v7, p167   \n",
       "118937         samson|2014| ethnic racial stud, v37, p467   \n",
       "...                                                   ...   \n",
       "188026        o'connor|1988| capitalism nature so, v1, p1   \n",
       "40699            jasanoff|2004| states knowledge cop, p13   \n",
       "145879            jasanoff|2004| states knowledge cop, p1   \n",
       "168139  crompton|1991| journal of park and recreation ...   \n",
       "70422   crompton|1991| journal of park and recreation ...   \n",
       "\n",
       "                                               right_side  similarity  \n",
       "176458        hoffman|2009| j broadcast electron, v53, p3    0.800017  \n",
       "129037         kian|2009| j broadcast electron, v53, p477    0.800017  \n",
       "74449           keith|1992| disability handicap, v7, p167    0.800018  \n",
       "218140        oliver|1992| disability handicap, v7, p1011    0.800018  \n",
       "118937           platt|2014| ethnic racial stud, v37, p46    0.800028  \n",
       "...                                                   ...         ...  \n",
       "188026       o'connor|1988| capitalism nature so, v1, p11    0.992325  \n",
       "40699             jasanoff|2004| states knowledge cop, p1    0.992505  \n",
       "145879           jasanoff|2004| states knowledge cop, p13    0.992505  \n",
       "168139  crompton|1991| journal of park and recreation ...    0.994068  \n",
       "70422   crompton|1991| journal of park and recreation ...    0.994068  \n",
       "\n",
       "[26775 rows x 3 columns]"
      ]
     },
     "execution_count": 12,
     "metadata": {},
     "output_type": "execute_result"
    }
   ],
   "source": [
    "articles_grouped[(articles_grouped.similarity<1-1e-8)].sort_values(\"similarity\")"
   ]
  },
  {
   "cell_type": "code",
   "execution_count": 13,
   "metadata": {},
   "outputs": [],
   "source": [
    "# for articles, we require that the entire citations is only 1 edit apart.\n",
    "# even after limiting the comparisons necessary, this takes about 20s on Intel i7-9700F\n",
    "\n",
    "# this cell produces the `ft` variable, which maps from each term to the set of terms equivalent. I.e., `ft[A] = {B1,B2,B3}`\n",
    "\n",
    "ft = defaultdict(set)\n",
    "\n",
    "for i,r in articles_grouped.iterrows():\n",
    "    ls = r.left_side\n",
    "    rs = r.right_side\n",
    "    \n",
    "    if ls == rs:\n",
    "        continue\n",
    "    \n",
    "    la = ls.split(\"|\")[0]\n",
    "    ra = rs.split(\"|\")[0]\n",
    "        \n",
    "    if editdistance.eval(ls,rs) > 1:\n",
    "        continue\n",
    "    \n",
    "    ft[ls].add(rs)\n",
    "    ft[rs].add(ls)\n",
    "    #print(ls,\"|||\",rs)\n",
    "\n",
    "print(\"%s articles have some connection to others in a group\" % len(ft))"
   ]
  },
  {
   "cell_type": "code",
   "execution_count": 15,
   "metadata": {},
   "outputs": [],
   "source": [
    "# assigns group-ids based on the relational structure derived thus far\n",
    "# the code propagates ids through the network, assuming transitivity of equality\n",
    "\n",
    "def traverse(x, gid):\n",
    "    global groups\n",
    "    groups[x] = gid\n",
    "    \n",
    "    neighbors = ft[x]\n",
    "    for n in neighbors:\n",
    "        if n not in groups:\n",
    "            traverse(n, gid)\n",
    "\n",
    "for i,k in enumerate(articles):\n",
    "    if k in groups:\n",
    "        continue\n",
    "        \n",
    "    traverse(k, new_gid)\n",
    "    new_gid += 1"
   ]
  },
  {
   "cell_type": "code",
   "execution_count": 16,
   "metadata": {},
   "outputs": [],
   "source": [
    "# this line will break execution if there aren't as many groups assigned as we have articles and books\n",
    "assert( len(articles) + len(books) == len(groups) )"
   ]
  },
  {
   "cell_type": "code",
   "execution_count": 17,
   "metadata": {},
   "outputs": [
    {
     "data": {
      "text/plain": [
       "-21400"
      ]
     },
     "execution_count": 17,
     "metadata": {},
     "output_type": "execute_result"
    }
   ],
   "source": [
    "len(set(groups.values())) - len(books) - len(articles)"
   ]
  },
  {
   "cell_type": "code",
   "execution_count": 18,
   "metadata": {},
   "outputs": [
    {
     "data": {
      "text/plain": [
       "185089"
      ]
     },
     "execution_count": 18,
     "metadata": {},
     "output_type": "execute_result"
    }
   ],
   "source": [
    "len(books)"
   ]
  },
  {
   "cell_type": "code",
   "execution_count": 19,
   "metadata": {},
   "outputs": [
    {
     "data": {
      "text/plain": [
       "234198"
      ]
     },
     "execution_count": 19,
     "metadata": {},
     "output_type": "execute_result"
    }
   ],
   "source": [
    "len(articles)"
   ]
  },
  {
   "cell_type": "code",
   "execution_count": 20,
   "metadata": {},
   "outputs": [],
   "source": [
    "# saving the variable for later\n",
    "save_variable(\"%s.groups\" % database_name, groups)"
   ]
  }
 ],
 "metadata": {
  "kernelspec": {
   "display_name": "Python 3",
   "language": "python",
   "name": "python3"
  },
  "language_info": {
   "codemirror_mode": {
    "name": "ipython",
    "version": 3
   },
   "file_extension": ".py",
   "mimetype": "text/x-python",
   "name": "python",
   "nbconvert_exporter": "python",
   "pygments_lexer": "ipython3",
   "version": "3.7.5"
  }
 },
 "nbformat": 4,
 "nbformat_minor": 4
}
