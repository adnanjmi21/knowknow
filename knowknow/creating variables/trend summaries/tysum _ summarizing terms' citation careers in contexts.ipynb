{
 "cells": [
  {
   "cell_type": "code",
   "execution_count": 2,
   "metadata": {},
   "outputs": [],
   "source": [
    "%matplotlib inline\n",
    "import sys; sys.path.append(_dh[0].split(\"visualize patterns\")[0] + \"visualize patterns\")\n",
    "from lib import *\n",
    "from lib import db"
   ]
  },
  {
   "cell_type": "code",
   "execution_count": 2,
   "metadata": {},
   "outputs": [
    {
     "name": "stdout",
     "output_type": "stream",
     "text": [
      "loading from ../120 _ count co-occurrences/cnt_doc.pickle\n",
      "dict_keys(['t', 'ty', 'jt', 'y', 'c', 'j', 'jy', 'cj', 'ac', 'ajy', 'a', 'cy', 'tc', 'cc'])\n"
     ]
    }
   ],
   "source": [
    "cits = get_cnt(\"intext.doc\")"
   ]
  },
  {
   "cell_type": "code",
   "execution_count": 7,
   "metadata": {},
   "outputs": [],
   "source": [
    "pubyears = load_variable(\"pubyears.wos.all.uid\")\n",
    "\n",
    "RELIABLE_DATA_ENDS_HERE = 2010\n",
    "import re\n",
    "\n",
    "def create_tysum(cits):\n",
    "    \n",
    "    meta_counters = defaultdict(int)\n",
    "\n",
    "    ty = defaultdict(lambda:defaultdict(int))\n",
    "\n",
    "    for (t,y),count in cits['ty'].items():\n",
    "        ty[t][y] = count\n",
    "        \n",
    "    if 'fy' in cits:\n",
    "        fyc = cits['fy']\n",
    "    else:\n",
    "        fyc = cits['y']\n",
    "\n",
    "    tysum = {}\n",
    "    for ti,t in enumerate(ty):\n",
    "        meta_counters['at least one citation'] += 1\n",
    "\n",
    "        count = ty[t]\n",
    "        prop =  {\n",
    "            y: county / fyc[y]\n",
    "            for y,county in count.items()\n",
    "        }\n",
    "\n",
    "        res = {\n",
    "            'first': min(count),\n",
    "            'last': max(count),\n",
    "            'maxcounty': max(count, key=lambda y:(count[y],y)),\n",
    "            'maxpropy': max(count, key=lambda y:(prop[y],y))\n",
    "        }\n",
    "\n",
    "        res['maxprop'] = prop[ res['maxpropy'] ]\n",
    "        res['maxcount'] = count[ res['maxcounty'] ]\n",
    "        res['total'] = sum(count.values())\n",
    "        res['totalprop'] = sum(prop.values())\n",
    "        res['name'] = t\n",
    "                \n",
    "\n",
    "        \n",
    "        \n",
    "        \n",
    "        \n",
    "        \n",
    "\n",
    "        # death3 is last, as long as it's before RELIABLE_DATA_ENDS_HERE\n",
    "        res['death3'] = None\n",
    "        if res['last'] <= RELIABLE_DATA_ENDS_HERE:\n",
    "            res['death3'] = res['last']\n",
    "        \n",
    "        \n",
    "        \n",
    "        \n",
    "        \n",
    "\n",
    "        next_year_sums = [\n",
    "            (ycheck, sum( c for y,c in count.items() if ycheck + 10 >= y > ycheck ))\n",
    "            for ycheck in range(res['maxcounty'], RELIABLE_DATA_ENDS_HERE) \n",
    "        ]\n",
    "\n",
    "        # need to make sure ALL subsequent decade intervals are also less...\n",
    "        my_death_year = None\n",
    "\n",
    "        l = len(next_year_sums)\n",
    "        for i in range(l):\n",
    "            not_this_one = False\n",
    "            for j in range(i,l):\n",
    "                if next_year_sums[j][1] >= res['maxcount']:\n",
    "                    not_this_one = True\n",
    "                if not_this_one:\n",
    "                    break\n",
    "\n",
    "            if not_this_one:\n",
    "                continue\n",
    "\n",
    "            my_death_year = next_year_sums[i][0]\n",
    "            break\n",
    "\n",
    "        if not len(next_year_sums):\n",
    "            res['death2'] = None\n",
    "        else:\n",
    "            res['death2'] = my_death_year\n",
    "\n",
    "\n",
    "\n",
    "            \n",
    "            \n",
    "            \n",
    "            \n",
    "            \n",
    "        # death1 is max, as long as it's before RELIABLE_DATA_ENDS_HERE\n",
    "        res['death1'] = None\n",
    "        if res['maxpropy'] <= RELIABLE_DATA_ENDS_HERE:\n",
    "            res['death1'] = res['maxcounty']\n",
    "        \n",
    "        \n",
    "            \n",
    "\n",
    "        # don't care about those with only a single citation\n",
    "        if res['total'] <= 1:\n",
    "            meta_counters['literally 1 citation. dropped.'] += 1\n",
    "            continue\n",
    "\n",
    "        # we really don't care about those that never rise in use\n",
    "        #if res['first'] == res['maxpropy']:\n",
    "        #    continue\n",
    "        meta_counters['passed tests pre-blacklist'] += 1\n",
    "\n",
    "        tysum[t] = res\n",
    "    \n",
    "    \n",
    "    \n",
    "    \n",
    "    \n",
    "    \n",
    "    blacklist = []\n",
    "    for b in blacklist:\n",
    "        if b in tysum:\n",
    "            del tysum[b]\n",
    "            meta_counters['passed all other tests but was blacklisted'] += 1\n",
    "            \n",
    "    from lib import save_variable, load_variable\n",
    "    \n",
    "    print(dict(meta_counters))\n",
    "    \n",
    "    return tysum"
   ]
  },
  {
   "cell_type": "code",
   "execution_count": 8,
   "metadata": {},
   "outputs": [
    {
     "name": "stdout",
     "output_type": "stream",
     "text": [
      "Processing database 'intext'\n",
      "dict_keys(['t', 'ty', 'jt', 'y', 'c', 'j', 'jy', 'cj', 'ac', 'ajy', 'a', 'cy', 'tc', 'cc'])\n",
      "{'at least one citation': 581539, 'passed tests pre-blacklist': 293658, 'literally 1 citation. dropped.': 287881}\n",
      "293658 tysum entries for database 'intext'\n"
     ]
    }
   ],
   "source": [
    "#cits_names = [\"wos.all\", \"wos.jstor\", \"bib-s\", 'wos.all.uid'] # \"intext\", \n",
    "cits_names = ['intext'] # \"intext\", \n",
    "OVERWRITE_EXISTING = True\n",
    "\n",
    "for cits_name in cits_names:\n",
    "    print(\"Processing database '%s'\"%cits_name)\n",
    "    \n",
    "    varname = \"%s.tysum\"%cits_name\n",
    "    \n",
    "    if not OVERWRITE_EXISTING:\n",
    "        try: \n",
    "            load_variable(varname)\n",
    "            continue\n",
    "        except FileNotFoundError:\n",
    "            pass\n",
    "        \n",
    "        \n",
    "    cits = get_cnt(\"%s.doc\"%cits_name)\n",
    "    tysum = create_tysum(cits)\n",
    "    save_variable(varname, tysum)\n",
    "\n",
    "    print(\"%s tysum entries for database '%s'\" % (len(tysum), cits_name))"
   ]
  },
  {
   "cell_type": "markdown",
   "metadata": {},
   "source": [
    "# Descriptives"
   ]
  },
  {
   "cell_type": "code",
   "execution_count": 4,
   "metadata": {},
   "outputs": [
    {
     "name": "stdout",
     "output_type": "stream",
     "text": [
      "dict_keys(['t', 'ty', 'jt', 'y', 'c', 'j', 'jy', 'cj', 'ac', 'ajy', 'a', 'cy', 'tc', 'cc'])\n"
     ]
    }
   ],
   "source": [
    "cits_name = \"intext\"\n",
    "\n",
    "cits = get_cnt(\"%s.ind\"%cits_name)\n",
    "cysum = load_variable(\"%s.tysum\"%cits_name)"
   ]
  },
  {
   "cell_type": "code",
   "execution_count": 5,
   "metadata": {},
   "outputs": [],
   "source": [
    "cc = Counter(int(x['total']) for _,x in cysum.items())\n",
    "counts = []\n",
    "totals = range(0,max(cc.keys())+1)\n",
    "for i in totals:\n",
    "    counts.append(cc[i])"
   ]
  },
  {
   "cell_type": "code",
   "execution_count": 6,
   "metadata": {},
   "outputs": [
    {
     "name": "stdout",
     "output_type": "stream",
     "text": [
      "0.94% were cited more than 5 times\n"
     ]
    }
   ],
   "source": [
    "# more than 5 times\n",
    "print(\"%0.2f%% were cited more than 5 times\" % (100 * sum(counts[i] for i in totals if i>5)/np.sum(totals)))"
   ]
  },
  {
   "cell_type": "code",
   "execution_count": 7,
   "metadata": {},
   "outputs": [
    {
     "name": "stderr",
     "output_type": "stream",
     "text": [
      "c:\\users\\amcga\\envs\\qualitative analysis of literature\\lib\\site-packages\\ipykernel_launcher.py:3: RuntimeWarning: divide by zero encountered in log10\n",
      "  This is separate from the ipykernel package so we can avoid doing imports until\n"
     ]
    },
    {
     "data": {
      "image/png": "[encoded data removed]",
      "text/plain": [
       "<Figure size 432x288 with 1 Axes>"
      ]
     },
     "metadata": {
      "needs_background": "light"
     },
     "output_type": "display_data"
    }
   ],
   "source": [
    "counts = np.array(counts)\n",
    "totals = np.array(totals)\n",
    "plt.plot(np.log10(totals),np.log10(counts))\n",
    "xlab = np.array([1,2,3])\n",
    "plt.xticks(\n",
    "    xlab,\n",
    "    np.power(10, xlab)\n",
    ")\n",
    "ylab = np.array([1,2,3,4,5])\n",
    "plt.yticks(\n",
    "    ylab,\n",
    "    np.power(10, ylab)\n",
    ")\n",
    "\n",
    "save_figure(\"log-log citation degree distribution\")"
   ]
  },
  {
   "cell_type": "code",
   "execution_count": 24,
   "metadata": {},
   "outputs": [
    {
     "name": "stdout",
     "output_type": "stream",
     "text": [
      "(united states) (previous research) (less likely) (men women) (mental health) (labor force) (labor market) (social class) (socioeconomic status) (social networks) (previous studies) (social support) (educational attainment) (higher levels) (one another) (high school) (may also) (marriage family) (social movements) (social control) (recent years) (family members) (life course) (family life) (social structure) (life satisfaction) (quality life) (social problems) (high levels) (attitudes toward) (per cent) (social capital) (social science) (social economic) (women men) (human capital) (world war) (social life) (several studies) (health care) (african americans) (new york) (social relations) (recent studies) (social change) (social scientists) (even though) (journal marriage) (lower levels) (social sciences) (collective action) (division labor) (higher education) (journal sociology) (ethnic groups) (social movement) (working class) (sociological review) (middle class) (th century) (american sociological) (social status) (recent research) (higher rates) (dependent variable) (studies found) (war ii) (psychological wellbeing) (african american) (economic growth) (child care) (public opinion) (% %) (social order) (gender differences) (civil rights) (social relationships) (economic development) (social interaction) (well documented) (marital status) (prior research) (physical health) (twentieth century) (life events) (decision making) (empirical studies) (also found) (family structure) (social mobility) (psychological distress) (young people) (least one) (labor markets) (social political) (among women) (number studies) (force participation) (welfare state) (subjective wellbeing) (urban areas) (many studies) (wide range) (occupational status) (everyday life) (volume number) (widely used) (social groups) (racial ethnic) (social forces) (social organization) (health problems) (important role) (economic social) (social psychological) (per capita) (recent work) (social cultural) (young children) (social behavior) (american society) (labour market) (economic political) (negative effects) (positively related) (may lead) (married women) (work family) (rural areas) (drug use) (one hand) (nineteenth century) (positive negative) (political economic) (research suggests) (independent variables) (social integration) (social ties) (mental illness) (health outcomes) (economic resources) (marital satisfaction) (american journal) (social action) (one study) (family income) (percent percent) (general population) (income inequality) (past research) (young adults) (social structures) (life cycle) (much less) (two decades) (latin america) (civil society) (positively associated) (european countries) (sociological theory) (parents children) (religious beliefs) (case studies) (great deal) (empirical research) (low levels) (different types) (per se) (social world) (empirical evidence) (studies shown) (factor analysis) (consistent previous) (previous work) (blacks whites) (religious groups) (research shown) (cultural capital) (standard errors) (health social) (general social) (well known) (married couples) (group members) (status attainment) (social context) (time spent) (paid work) (health status) (minority groups) (social network) (later life) (gender roles) (earlier studies) (studies show) (college students) (high rates) (become increasingly) (occupational prestige) (race ethnicity) (mass media) (crime rates) (social system) (academic achievement) (developing countries) (job satisfaction) (black women) (white women) (positive relationship) (outside home) (family size) (years ago) (public private) (social processes) (relatively high) (social classes) (physical mental) (among blacks) (church attendance) (also likely) (emotional support) (male female) (social institutions) (dependent variables) (public policy) (point view) (among men) (large number) (survey data) (data set) (ethnic group) (political power) (women likely) (western europe) (marital quality) (human rights) (social theory) (medical care) (social psychology) (old age) (recent decades) (adult children) (often used) (study religion) (individual level) (wide variety) (negative consequences) (well established) (social stratification) (social policy)\n"
     ]
    }
   ],
   "source": [
    "print( \n",
    "    \"(%s)\"%\n",
    "    \") (\".join( [\n",
    "        \" \".join(x) \n",
    "        for x in sorted(cysum.keys(), key=lambda x:-cysum[x]['total'])[:250] \n",
    "    ] ) )"
   ]
  },
  {
   "cell_type": "code",
   "execution_count": 8,
   "metadata": {},
   "outputs": [],
   "source": [
    "import statsmodels.api as sm"
   ]
  },
  {
   "cell_type": "code",
   "execution_count": 9,
   "metadata": {},
   "outputs": [],
   "source": [
    "lt,lc = [x for i,x in enumerate(totals) if (totals[i]>0 and counts[i]>0)], [x for i,x in enumerate(counts) if (totals[i]>0 and counts[i]>0)]\n",
    "lt,lc = np.log(lt),np.log(lc)\n",
    "\n",
    "X = sm.add_constant(lt)\n",
    "y = lc\n",
    "\n",
    "mod = sm.OLS(y,X)"
   ]
  },
  {
   "cell_type": "code",
   "execution_count": 10,
   "metadata": {},
   "outputs": [],
   "source": [
    "res = mod.fit()"
   ]
  },
  {
   "cell_type": "code",
   "execution_count": 11,
   "metadata": {},
   "outputs": [
    {
     "data": {
      "text/html": [
       "<table class=\"simpletable\">\n",
       "<caption>OLS Regression Results</caption>\n",
       "<tr>\n",
       "  <th>Dep. Variable:</th>            <td>y</td>        <th>  R-squared:         </th> <td>   0.902</td> \n",
       "</tr>\n",
       "<tr>\n",
       "  <th>Model:</th>                   <td>OLS</td>       <th>  Adj. R-squared:    </th> <td>   0.901</td> \n",
       "</tr>\n",
       "<tr>\n",
       "  <th>Method:</th>             <td>Least Squares</td>  <th>  F-statistic:       </th> <td>   3843.</td> \n",
       "</tr>\n",
       "<tr>\n",
       "  <th>Date:</th>             <td>Wed, 06 May 2020</td> <th>  Prob (F-statistic):</th> <td>3.65e-213</td>\n",
       "</tr>\n",
       "<tr>\n",
       "  <th>Time:</th>                 <td>21:59:27</td>     <th>  Log-Likelihood:    </th> <td> -451.71</td> \n",
       "</tr>\n",
       "<tr>\n",
       "  <th>No. Observations:</th>      <td>   421</td>      <th>  AIC:               </th> <td>   907.4</td> \n",
       "</tr>\n",
       "<tr>\n",
       "  <th>Df Residuals:</th>          <td>   419</td>      <th>  BIC:               </th> <td>   915.5</td> \n",
       "</tr>\n",
       "<tr>\n",
       "  <th>Df Model:</th>              <td>     1</td>      <th>                     </th>     <td> </td>    \n",
       "</tr>\n",
       "<tr>\n",
       "  <th>Covariance Type:</th>      <td>nonrobust</td>    <th>                     </th>     <td> </td>    \n",
       "</tr>\n",
       "</table>\n",
       "<table class=\"simpletable\">\n",
       "<tr>\n",
       "    <td></td>       <th>coef</th>     <th>std err</th>      <th>t</th>      <th>P>|t|</th>  <th>[0.025</th>    <th>0.975]</th>  \n",
       "</tr>\n",
       "<tr>\n",
       "  <th>const</th> <td>   12.1668</td> <td>    0.170</td> <td>   71.679</td> <td> 0.000</td> <td>   11.833</td> <td>   12.500</td>\n",
       "</tr>\n",
       "<tr>\n",
       "  <th>x1</th>    <td>   -1.9831</td> <td>    0.032</td> <td>  -61.992</td> <td> 0.000</td> <td>   -2.046</td> <td>   -1.920</td>\n",
       "</tr>\n",
       "</table>\n",
       "<table class=\"simpletable\">\n",
       "<tr>\n",
       "  <th>Omnibus:</th>       <td>61.739</td> <th>  Durbin-Watson:     </th> <td>   0.602</td>\n",
       "</tr>\n",
       "<tr>\n",
       "  <th>Prob(Omnibus):</th> <td> 0.000</td> <th>  Jarque-Bera (JB):  </th> <td> 194.661</td>\n",
       "</tr>\n",
       "<tr>\n",
       "  <th>Skew:</th>          <td> 0.654</td> <th>  Prob(JB):          </th> <td>5.37e-43</td>\n",
       "</tr>\n",
       "<tr>\n",
       "  <th>Kurtosis:</th>      <td> 6.064</td> <th>  Cond. No.          </th> <td>    26.9</td>\n",
       "</tr>\n",
       "</table><br/><br/>Warnings:<br/>[1] Standard Errors assume that the covariance matrix of the errors is correctly specified."
      ],
      "text/plain": [
       "<class 'statsmodels.iolib.summary.Summary'>\n",
       "\"\"\"\n",
       "                            OLS Regression Results                            \n",
       "==============================================================================\n",
       "Dep. Variable:                      y   R-squared:                       0.902\n",
       "Model:                            OLS   Adj. R-squared:                  0.901\n",
       "Method:                 Least Squares   F-statistic:                     3843.\n",
       "Date:                Wed, 06 May 2020   Prob (F-statistic):          3.65e-213\n",
       "Time:                        21:59:27   Log-Likelihood:                -451.71\n",
       "No. Observations:                 421   AIC:                             907.4\n",
       "Df Residuals:                     419   BIC:                             915.5\n",
       "Df Model:                           1                                         \n",
       "Covariance Type:            nonrobust                                         \n",
       "==============================================================================\n",
       "                 coef    std err          t      P>|t|      [0.025      0.975]\n",
       "------------------------------------------------------------------------------\n",
       "const         12.1668      0.170     71.679      0.000      11.833      12.500\n",
       "x1            -1.9831      0.032    -61.992      0.000      -2.046      -1.920\n",
       "==============================================================================\n",
       "Omnibus:                       61.739   Durbin-Watson:                   0.602\n",
       "Prob(Omnibus):                  0.000   Jarque-Bera (JB):              194.661\n",
       "Skew:                           0.654   Prob(JB):                     5.37e-43\n",
       "Kurtosis:                       6.064   Cond. No.                         26.9\n",
       "==============================================================================\n",
       "\n",
       "Warnings:\n",
       "[1] Standard Errors assume that the covariance matrix of the errors is correctly specified.\n",
       "\"\"\""
      ]
     },
     "execution_count": 11,
     "metadata": {},
     "output_type": "execute_result"
    }
   ],
   "source": [
    "res.summary()"
   ]
  },
  {
   "cell_type": "code",
   "execution_count": null,
   "metadata": {},
   "outputs": [],
   "source": []
  }
 ],
 "metadata": {
  "kernelspec": {
   "display_name": "Python 3",
   "language": "python",
   "name": "python3"
  },
  "language_info": {
   "codemirror_mode": {
    "name": "ipython",
    "version": 3
   },
   "file_extension": ".py",
   "mimetype": "text/x-python",
   "name": "python",
   "nbconvert_exporter": "python",
   "pygments_lexer": "ipython3",
   "version": "3.7.4"
  }
 },
 "nbformat": 4,
 "nbformat_minor": 4
}
