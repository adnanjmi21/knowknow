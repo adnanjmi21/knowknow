{
 "cells": [
  {
   "cell_type": "markdown",
   "metadata": {},
   "source": [
    "# imports"
   ]
  },
  {
   "cell_type": "code",
   "execution_count": 2,
   "metadata": {},
   "outputs": [],
   "source": [
    "import sys; sys.path.append(_dh[0].split(\"knowknow\")[0])\n",
    "from knowknow import *"
   ]
  },
  {
   "cell_type": "code",
   "execution_count": 3,
   "metadata": {},
   "outputs": [],
   "source": [
    "database_name = \"wos\""
   ]
  },
  {
   "cell_type": "code",
   "execution_count": 7,
   "metadata": {},
   "outputs": [
    {
     "name": "stdout",
     "output_type": "stream",
     "text": [
      "Loaded keys: dict_keys(['ay', 'a', 'fy'])\n",
      "Available keys: ['fj', 'fy', 'ty', 'fy.ty', 'fj.ty', 'jy', 'a', 'ay', 'aj', 'ajy', 'ac', 'c', 'cy', 'cj', 'cjy']\n"
     ]
    }
   ],
   "source": [
    "docs = get_cnt(\"%s.doc\"%database_name, ['ay','a','fy'])\n",
    "\n",
    "ay = defaultdict(lambda:defaultdict(int))\n",
    "\n",
    "for (a,y),c in docs['ay'].items():\n",
    "    ay[a][y] += c"
   ]
  },
  {
   "cell_type": "code",
   "execution_count": 11,
   "metadata": {},
   "outputs": [],
   "source": [
    "aysum = {}\n",
    "\n",
    "for ai,a in enumerate(ay):\n",
    "    \n",
    "    if docs['a'][a] == 0:\n",
    "        continue\n",
    "        \n",
    "\n",
    "    count = ay[a]\n",
    "    prop =  {\n",
    "        y: county / docs['fy'][y]\n",
    "        for y,county in count.items()\n",
    "    }\n",
    "    \n",
    "    if not len(prop):\n",
    "        print(a)\n",
    "\n",
    "    res = {\n",
    "        'first': min(count),\n",
    "        'last': max(count),\n",
    "        'maxcounty': max(count, key=lambda y:(count[y],y)),\n",
    "        'maxpropy': max(count, key=lambda y:(prop[y],y))\n",
    "    }\n",
    "\n",
    "    res['maxprop'] = prop[ res['maxpropy'] ]\n",
    "    res['maxcount'] = count[ res['maxcounty'] ]\n",
    "    res['total'] = sum(count.values())\n",
    "    res['totalprop'] = sum(prop.values())\n",
    "    res['name'] = a\n",
    "    \n",
    "    \n",
    "    # death3 is the last, as long as it's before 2005\n",
    "    res['death3'] = None\n",
    "    if res['last'] <= 2005:\n",
    "        res['death3'] = res['last']\n",
    "        \n",
    "        \n",
    "        \n",
    "        \n",
    "        \n",
    "\n",
    "    # generating \"death2\", max then decade with total less than that forever\n",
    "    \n",
    "    next_year_sums = [\n",
    "        (ycheck, sum( a for y,a in prop.items() if ycheck + 10 >= y > ycheck ))\n",
    "        for ycheck in range(res['maxcounty'], 2005) \n",
    "    ]\n",
    "\n",
    "    # need to make sure ALL subsequent decade intervals are also less...\n",
    "    my_death_year = None\n",
    "\n",
    "    l = len(next_year_sums)\n",
    "    for i in range(l):\n",
    "        not_this_one = False\n",
    "        for j in range(i,l):\n",
    "            if next_year_sums[j][1] >= res['maxcount']:\n",
    "                not_this_one = True\n",
    "            if not_this_one:\n",
    "                break\n",
    "\n",
    "        if not_this_one:\n",
    "            continue\n",
    "\n",
    "        my_death_year = next_year_sums[i][0]\n",
    "        break\n",
    "\n",
    "    if not len(next_year_sums):\n",
    "        res['death2'] = None\n",
    "    else:\n",
    "        res['death2'] = my_death_year\n",
    "        \n",
    "        \n",
    "        \n",
    "\n",
    "    \n",
    "    # death3 is the max, as long as it's before 2005\n",
    "    res['death1'] = None\n",
    "    if res['maxcounty'] <= 2005:\n",
    "        res['death1'] = res['maxcounty']\n",
    "\n",
    "\n",
    "        \n",
    "\n",
    "    # don't care about those with only a single publication\n",
    "    if res['total'] <= 1:\n",
    "        continue\n",
    "\n",
    "    # we really don't care about those that never rise in use\n",
    "    if res['first'] == res['maxcounty']:\n",
    "        continue\n",
    "\n",
    "    aysum[a] = res"
   ]
  },
  {
   "cell_type": "code",
   "execution_count": 12,
   "metadata": {},
   "outputs": [
    {
     "data": {
      "text/plain": [
       "[{'first': 1920,\n",
       "  'last': 1921,\n",
       "  'maxcounty': 1921,\n",
       "  'maxpropy': 1921,\n",
       "  'maxprop': 0.2222222222222222,\n",
       "  'maxcount': 2,\n",
       "  'total': 3,\n",
       "  'totalprop': 0.36507936507936506,\n",
       "  'name': 'Bodenhafer, WB',\n",
       "  'death3': 1921,\n",
       "  'death2': 1921,\n",
       "  'death1': 1921},\n",
       " {'first': 1906,\n",
       "  'last': 1914,\n",
       "  'maxcounty': 1914,\n",
       "  'maxpropy': 1906,\n",
       "  'maxprop': 1.0,\n",
       "  'maxcount': 1,\n",
       "  'total': 2,\n",
       "  'totalprop': 1.1666666666666667,\n",
       "  'name': 'Parsons, EC',\n",
       "  'death3': 1914,\n",
       "  'death2': 1914,\n",
       "  'death1': 1914},\n",
       " {'first': 1901,\n",
       "  'last': 1912,\n",
       "  'maxcounty': 1912,\n",
       "  'maxpropy': 1912,\n",
       "  'maxprop': 0.6666666666666666,\n",
       "  'maxcount': 2,\n",
       "  'total': 4,\n",
       "  'totalprop': 1.2,\n",
       "  'name': 'Henderson, CR',\n",
       "  'death3': 1912,\n",
       "  'death2': 1912,\n",
       "  'death1': 1912},\n",
       " {'first': 1902,\n",
       "  'last': 1911,\n",
       "  'maxcounty': 1909,\n",
       "  'maxpropy': 1909,\n",
       "  'maxprop': 0.6666666666666666,\n",
       "  'maxcount': 2,\n",
       "  'total': 7,\n",
       "  'totalprop': 1.8166666666666667,\n",
       "  'name': 'Wallis, L',\n",
       "  'death3': 1911,\n",
       "  'death2': 1909,\n",
       "  'death1': 1909},\n",
       " {'first': 1910,\n",
       "  'last': 1911,\n",
       "  'maxcounty': 1911,\n",
       "  'maxpropy': 1911,\n",
       "  'maxprop': 0.25,\n",
       "  'maxcount': 1,\n",
       "  'total': 2,\n",
       "  'totalprop': 0.5,\n",
       "  'name': 'Fenton, F',\n",
       "  'death3': 1911,\n",
       "  'death2': 1911,\n",
       "  'death1': 1911}]"
      ]
     },
     "execution_count": 12,
     "metadata": {},
     "output_type": "execute_result"
    }
   ],
   "source": [
    "list(aysum.values())[-5:]"
   ]
  },
  {
   "cell_type": "code",
   "execution_count": 13,
   "metadata": {},
   "outputs": [],
   "source": [
    "save_variable(\"%s.aysum\" % database_name, aysum)"
   ]
  }
 ],
 "metadata": {
  "kernelspec": {
   "display_name": "Python 3",
   "language": "python",
   "name": "python3"
  },
  "language_info": {
   "codemirror_mode": {
    "name": "ipython",
    "version": 3
   },
   "file_extension": ".py",
   "mimetype": "text/x-python",
   "name": "python",
   "nbconvert_exporter": "python",
   "pygments_lexer": "ipython3",
   "version": "3.7.5"
  }
 },
 "nbformat": 4,
 "nbformat_minor": 4
}
