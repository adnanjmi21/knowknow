{
 "cells": [
  {
   "cell_type": "code",
   "execution_count": 1,
   "metadata": {
    "papermill": {
     "duration": 0.997485,
     "end_time": "2020-05-25T05:32:11.895848",
     "exception": false,
     "start_time": "2020-05-25T05:32:10.898363",
     "status": "completed"
    },
    "tags": []
   },
   "outputs": [],
   "source": [
    "import sys; sys.path.append(_dh[0].split(\"knowknow\")[0])\n",
    "from knowknow import *"
   ]
  },
  {
   "cell_type": "markdown",
   "metadata": {
    "papermill": {
     "duration": 0.017951,
     "end_time": "2020-05-25T05:32:11.933746",
     "exception": false,
     "start_time": "2020-05-25T05:32:11.915795",
     "status": "completed"
    },
    "tags": []
   },
   "source": [
    "**instructions** carefully set the user parameters and run the entire notebook\n",
    "\n",
    "**output** The variable is called `\"<database_name>.<dtype>.ysum\"`. For example, `\"sociology-wos.ta.ysum\"`\n",
    "\n",
    "**description** The following notebook performs analyses on the time trend of each \"item\" of type `dtype` (`\"ta\"` for cited author, `\"c\"` for cited work, or `\"t\"` for cited term).\n",
    "These statistics are universally useful, and computing them all once saves code and computation time in later analyses.\n",
    "It also standardizes common operations, reducing the probability of a bug going unnoticed."
   ]
  },
  {
   "cell_type": "markdown",
   "metadata": {
    "papermill": {
     "duration": 0.017976,
     "end_time": "2020-05-25T05:32:11.970672",
     "exception": false,
     "start_time": "2020-05-25T05:32:11.952696",
     "status": "completed"
    },
    "tags": []
   },
   "source": [
    "# User parameters\n",
    "\n",
    "`database_name` You should already have a database of counts to use this notebook, e.g. `\"sociology-wos\"`. \n",
    "\n",
    "`dtype` The item of interest (e.g. `\"ta\"` for cited author, `\"c\"` for cited work, or `\"t\"` for cited term)"
   ]
  },
  {
   "cell_type": "code",
   "execution_count": 2,
   "metadata": {
    "papermill": {
     "duration": 0.022933,
     "end_time": "2020-05-25T05:32:12.012536",
     "exception": false,
     "start_time": "2020-05-25T05:32:11.989603",
     "status": "completed"
    },
    "tags": [
     "parameters"
    ]
   },
   "outputs": [],
   "source": [
    "database_name = \"sociology-wos\"\n",
    "dtype = 'c'"
   ]
  },
  {
   "cell_type": "code",
   "execution_count": 3,
   "metadata": {
    "papermill": {
     "duration": 0.022976,
     "end_time": "2020-05-25T05:32:12.056456",
     "exception": false,
     "start_time": "2020-05-25T05:32:12.033480",
     "status": "completed"
    },
    "tags": [
     "injected-parameters"
    ]
   },
   "outputs": [],
   "source": [
    "# Parameters\n",
    "database_name = \"sociology-jstor\"\n",
    "dtype = \"t\"\n"
   ]
  },
  {
   "cell_type": "code",
   "execution_count": 3,
   "metadata": {
    "papermill": {
     "duration": 0.022939,
     "end_time": "2020-05-25T05:32:12.099304",
     "exception": false,
     "start_time": "2020-05-25T05:32:12.076365",
     "status": "completed"
    },
    "tags": []
   },
   "outputs": [
    {
     "name": "stdout",
     "output_type": "stream",
     "text": [
      "Pubyears loaded for 397702 entries\n"
     ]
    }
   ],
   "source": [
    "pubyears = None\n",
    "\n",
    "if 'wos' in database_name and 'jstor' in database_name:\n",
    "    raise Exception(\"Please put 'wos' or 'jstor' but not both in any database_name.\")\n",
    "    \n",
    "elif 'wos' in database_name:\n",
    "    pubyears = load_variable(\"%s.pubyears\" % database_name)\n",
    "    print(\"Pubyears loaded for %s entries\" % len(pubyears.keys()))\n",
    "    RELIABLE_DATA_ENDS_HERE = 2019\n",
    "    database_type = 'wos'\n",
    "    \n",
    "elif 'jstor' in database_name:\n",
    "    RELIABLE_DATA_ENDS_HERE = 2010\n",
    "    database_type = 'jstor'\n",
    "    \n",
    "else:\n",
    "    raise Exception(\"Please include either 'wos' or 'jstor' in the name of the variable. This keys which data processing algorithm you used.\")"
   ]
  },
  {
   "cell_type": "markdown",
   "metadata": {
    "papermill": {
     "duration": 0.046964,
     "end_time": "2020-05-25T05:32:12.166215",
     "exception": false,
     "start_time": "2020-05-25T05:32:12.119251",
     "status": "completed"
    },
    "tags": []
   },
   "source": [
    "# Helper class"
   ]
  },
  {
   "cell_type": "code",
   "execution_count": 4,
   "metadata": {
    "papermill": {
     "duration": 0.023939,
     "end_time": "2020-05-25T05:32:12.210125",
     "exception": false,
     "start_time": "2020-05-25T05:32:12.186186",
     "status": "completed"
    },
    "tags": []
   },
   "outputs": [],
   "source": [
    "class ysums:\n",
    "    meta = defaultdict(int)\n",
    "    def __init__(self):\n",
    "        self.ysums = []\n",
    "    def add(self, x):\n",
    "        self.ysums.append(x)"
   ]
  },
  {
   "cell_type": "code",
   "execution_count": 5,
   "metadata": {
    "papermill": {
     "duration": 0.024932,
     "end_time": "2020-05-25T05:32:12.254977",
     "exception": false,
     "start_time": "2020-05-25T05:32:12.230045",
     "status": "completed"
    },
    "tags": []
   },
   "outputs": [],
   "source": [
    "class ysum:\n",
    "    init_stack = []\n",
    "    \n",
    "    def __init__(self, **kwargs):        \n",
    "        self.dict_filter = set(list(self.__dict__)+[\"dict_filter\"]) # save dict keys\n",
    "        \n",
    "        for k,v in kwargs.items():\n",
    "            setattr(self,k,v)\n",
    "    \n",
    "        for name in self.init_stack:\n",
    "            getattr(self,name)()\n",
    "                \n",
    "    def dump(self):\n",
    "        to_return_keys = set(self.__dict__).difference(self.dict_filter)\n",
    "        \n",
    "        return {\n",
    "            k: getattr(self,k)\n",
    "            for k in to_return_keys\n",
    "            if k[0] != '_'\n",
    "        }\n",
    "    \n",
    "    @classmethod\n",
    "    def addinit(cls, st):\n",
    "        if st not in cls.init_stack:\n",
    "            cls.init_stack.append(st)"
   ]
  },
  {
   "cell_type": "markdown",
   "metadata": {
    "papermill": {
     "duration": 0.017952,
     "end_time": "2020-05-25T05:32:12.293301",
     "exception": false,
     "start_time": "2020-05-25T05:32:12.275349",
     "status": "completed"
    },
    "tags": []
   },
   "source": [
    "# Getting data"
   ]
  },
  {
   "cell_type": "code",
   "execution_count": 6,
   "metadata": {
    "papermill": {
     "duration": 0.591423,
     "end_time": "2020-05-25T05:32:12.903693",
     "exception": false,
     "start_time": "2020-05-25T05:32:12.312270",
     "status": "completed"
    },
    "tags": []
   },
   "outputs": [
    {
     "name": "stdout",
     "output_type": "stream",
     "text": [
      "Loaded keys: dict_keys(['c.fy', 'fy', 'c'])\n",
      "Available keys: ['c', 'c.fj', 'c.fy', 'c.fy.j', 'fa', 'fa.c', 'fa.fj', 'fa.fj.fy', 'fa.fy', 'fj', 'fj.fy', 'fj.ta', 'fj.ty', 'fy', 'fy.ta', 'fy.ty', 'ta', 'ty']\n"
     ]
    }
   ],
   "source": [
    "ysum.cits = get_cnt(\"%s.doc\"%database_name, [comb(dtype,'fy'),'fy',dtype])"
   ]
  },
  {
   "cell_type": "markdown",
   "metadata": {
    "papermill": {
     "duration": 0.018949,
     "end_time": "2020-05-25T05:32:12.942860",
     "exception": false,
     "start_time": "2020-05-25T05:32:12.923911",
     "status": "completed"
    },
    "tags": []
   },
   "source": [
    "The following reorganizes the data slightly, for efficiency"
   ]
  },
  {
   "cell_type": "code",
   "execution_count": 7,
   "metadata": {
    "papermill": {
     "duration": 0.097139,
     "end_time": "2020-05-25T05:32:13.059946",
     "exception": false,
     "start_time": "2020-05-25T05:32:12.962807",
     "status": "completed"
    },
    "tags": []
   },
   "outputs": [],
   "source": [
    "ysum.cy = defaultdict(lambda:defaultdict(int))\n",
    "\n",
    "for cross,count in ysum.cits[ comb(dtype, 'fy') ].items():\n",
    "    ysum.cy[ getattr(cross, dtype) ][ cross.fy ] = count"
   ]
  },
  {
   "cell_type": "markdown",
   "metadata": {
    "papermill": {
     "duration": 0.019116,
     "end_time": "2020-05-25T05:32:13.126737",
     "exception": false,
     "start_time": "2020-05-25T05:32:13.107621",
     "status": "completed"
    },
    "tags": []
   },
   "source": [
    "# computing simple and universal statistics"
   ]
  },
  {
   "cell_type": "code",
   "execution_count": 8,
   "metadata": {
    "papermill": {
     "duration": 0.02992,
     "end_time": "2020-05-25T05:32:13.176236",
     "exception": false,
     "start_time": "2020-05-25T05:32:13.146316",
     "status": "completed"
    },
    "tags": []
   },
   "outputs": [],
   "source": [
    "ysum.addinit(\"simple_stats\")\n",
    "\n",
    "class ysum(ysum):\n",
    "    \n",
    "    def simple_stats(self):\n",
    "        self._c = self.cy[ self.name ]\n",
    "        self._p =  {\n",
    "            y: count / self.cits['fy'][(y,)]\n",
    "            for y,count in self._c.items()\n",
    "            if count > 0 and self.cits['fy'][(y,)] > 0\n",
    "        }\n",
    "        \n",
    "        self.first = min(self._c)\n",
    "        self.last = max(self._c)\n",
    "        self.maxcounty = max(self._c, key=lambda y:(self._c[y],y))\n",
    "        self.maxpropy = max(self._p, key=lambda y:(self._p[y],y))\n",
    "\n",
    "        self.maxprop = self._p[ self.maxpropy ]\n",
    "        self.maxcount = self._c[ self.maxcounty ]\n",
    "        self.total = sum(self._c.values())\n",
    "        self.totalprop = sum(self._p.values())\n",
    "        \n",
    "        if dtype == 'c':\n",
    "            # extracts some extra information from the name\n",
    "            \n",
    "            self.type = 'article'\n",
    "            if database_type == 'wos':\n",
    "                sp = self.name.split(\"|\")\n",
    "                if len(sp) < 2:\n",
    "                    raise Exception(self.name)\n",
    "                try:\n",
    "                    self.pub = int(sp[1])\n",
    "                    self.type = 'article'\n",
    "                except ValueError:\n",
    "                    self.type = 'book'\n",
    "                    self.pub = pubyears[self.name]\n",
    "\n",
    "            elif database_type == 'jstor':\n",
    "                inparens = re.findall(r'\\(([^)]+)\\)', self.name)[0]\n",
    "                self.pub = int(inparens)\n",
    "    \n",
    "            \n",
    "    def sum_between(self, A, B): #not including B\n",
    "        if A > B:\n",
    "            raise Exception(\"Can only sum forwards in time. Fix your code...\")\n",
    "        return sum( c for y,c in self._c.items() if B > y >= A )\n"
   ]
  },
  {
   "cell_type": "markdown",
   "metadata": {
    "papermill": {
     "duration": 0.017952,
     "end_time": "2020-05-25T05:32:13.214917",
     "exception": false,
     "start_time": "2020-05-25T05:32:13.196965",
     "status": "completed"
    },
    "tags": []
   },
   "source": [
    "# definitions of death"
   ]
  },
  {
   "cell_type": "markdown",
   "metadata": {
    "papermill": {
     "duration": 0.017952,
     "end_time": "2020-05-25T05:32:13.253813",
     "exception": false,
     "start_time": "2020-05-25T05:32:13.235861",
     "status": "completed"
    },
    "tags": []
   },
   "source": [
    "death$_1$ is the last year of maximum citations, \n",
    "    as long as it's before `RELIABLE_DATA_ENDS_HERE`"
   ]
  },
  {
   "cell_type": "code",
   "execution_count": 9,
   "metadata": {
    "papermill": {
     "duration": 0.023936,
     "end_time": "2020-05-25T05:32:13.298693",
     "exception": false,
     "start_time": "2020-05-25T05:32:13.274757",
     "status": "completed"
    },
    "tags": []
   },
   "outputs": [],
   "source": [
    "#ysum.addinit(\"_death1\")\n",
    "\n",
    "class ysum(ysum):\n",
    "    def _death1(self):\n",
    "        # DEFINING DEATH1\n",
    "        # death1 is max, as long as it's before RELIABLE_DATA_ENDS_HERE\n",
    "        if self.maxpropy <= RELIABLE_DATA_ENDS_HERE:\n",
    "            self.death1 = self.maxcounty\n",
    "            return\n",
    "        \n",
    "        self.death1 = None"
   ]
  },
  {
   "cell_type": "markdown",
   "metadata": {
    "papermill": {
     "duration": 0.017952,
     "end_time": "2020-05-25T05:32:13.337589",
     "exception": false,
     "start_time": "2020-05-25T05:32:13.319637",
     "status": "completed"
    },
    "tags": []
   },
   "source": [
    "death$_2$"
   ]
  },
  {
   "cell_type": "code",
   "execution_count": 10,
   "metadata": {
    "papermill": {
     "duration": 0.050882,
     "end_time": "2020-05-25T05:32:13.408417",
     "exception": false,
     "start_time": "2020-05-25T05:32:13.357535",
     "status": "completed"
    },
    "tags": []
   },
   "outputs": [],
   "source": [
    "#ysum.addinit(\"_death2\")\n",
    "\n",
    "class ysum(ysum):\n",
    "    def _death2(self):\n",
    "\n",
    "        # this list has an entry for each year after and including the maximum citations ever received (the last time)\n",
    "        # look ahead to the next ten years and take the average\n",
    "        next_year_sums = [\n",
    "            (ycheck, self.sum_between(ycheck, ycheck+9))\n",
    "            for ycheck in range(self.maxcounty, RELIABLE_DATA_ENDS_HERE - 10) \n",
    "        ]\n",
    "\n",
    "        # need to make sure ALL subsequent decade intervals are also less...\n",
    "        my_death_year = None\n",
    "\n",
    "        l = len(next_year_sums)\n",
    "        for i in range(l):\n",
    "            not_this_one = False\n",
    "            for j in range(i,l):\n",
    "                if next_year_sums[j][1] >= self.maxcount:\n",
    "                    not_this_one = True\n",
    "                if not_this_one:\n",
    "                    break\n",
    "\n",
    "            if not_this_one:\n",
    "                continue\n",
    "\n",
    "            my_death_year = next_year_sums[i][0]\n",
    "            break\n",
    "\n",
    "        if not len(next_year_sums):\n",
    "            self.death2 = None\n",
    "        else:\n",
    "            self.death2 = my_death_year\n",
    "\n",
    "        return None\n",
    "    "
   ]
  },
  {
   "cell_type": "code",
   "execution_count": 11,
   "metadata": {
    "papermill": {
     "duration": 0.024081,
     "end_time": "2020-05-25T05:32:13.451636",
     "exception": false,
     "start_time": "2020-05-25T05:32:13.427555",
     "status": "completed"
    },
    "tags": []
   },
   "outputs": [],
   "source": [
    "#ysum.addinit(\"_death3\")\n",
    "\n",
    "class ysum(ysum):\n",
    "    def _death3(self):\n",
    "        # DEATH3 is last, as long as it's before RELIABLE_DATA_ENDS_HERE - 10\n",
    "        # no citations in the last 10 years\n",
    "        self.death3 = None\n",
    "        if self.last <= RELIABLE_DATA_ENDS_HERE - 10:\n",
    "            self.death3 = self.last"
   ]
  },
  {
   "cell_type": "code",
   "execution_count": 12,
   "metadata": {
    "papermill": {
     "duration": 0.026369,
     "end_time": "2020-05-25T05:32:13.497951",
     "exception": false,
     "start_time": "2020-05-25T05:32:13.471582",
     "status": "completed"
    },
    "tags": []
   },
   "outputs": [],
   "source": [
    "#ysum.addinit(\"_death5\")\n",
    "\n",
    "class ysum(ysum):\n",
    "    def _death5(self):\n",
    "\n",
    "\n",
    "        # DEATH5\n",
    "        # 90% of their citations were received before death4, and it's been at least 30% of their lifespan\n",
    "        myspan = np.array( [self.cits[ comb(dtype, 'fy')][ make_cross({dtype:self.name, 'fy':ycheck}) ] for ycheck in range(1900, 2020)] )\n",
    "\n",
    "        self.death5 = None\n",
    "\n",
    "        Ea = np.sum(myspan)\n",
    "        csum = np.sum(myspan)\n",
    "\n",
    "        nonzeroyears = list(np.where(myspan>0))\n",
    "        if not len(nonzeroyears):\n",
    "            self.death5 = None\n",
    "            return\n",
    "\n",
    "        try:\n",
    "            firsti = np.min(nonzeroyears)\n",
    "        except:\n",
    "            print(\"some strange error, that shouldn't happen, right??\")\n",
    "            return\n",
    "\n",
    "        first_year = firsti + 1900\n",
    "\n",
    "        for cci, cc in enumerate(myspan[firsti:]):\n",
    "\n",
    "            this_year = first_year+cci\n",
    "\n",
    "            # running residual... \n",
    "            Ea -= cc\n",
    "\n",
    "            # don't let them die too soon\n",
    "            if cc == 0:\n",
    "                continue\n",
    "\n",
    "            if Ea/csum < 0.1 and (RELIABLE_DATA_ENDS_HERE - this_year)/(RELIABLE_DATA_ENDS_HERE - first_year) > 0.3:\n",
    "                self.death5 = this_year\n",
    "                break\n"
   ]
  },
  {
   "cell_type": "code",
   "execution_count": 13,
   "metadata": {
    "papermill": {
     "duration": 0.028193,
     "end_time": "2020-05-25T05:32:13.546067",
     "exception": false,
     "start_time": "2020-05-25T05:32:13.517874",
     "status": "completed"
    },
    "tags": []
   },
   "outputs": [],
   "source": [
    "ysum.addinit(\"_deathN\")\n",
    "\n",
    "class ysum(ysum):\n",
    "    def _deathN(self):\n",
    "\n",
    "        \n",
    "        def getname(CUTOFF):\n",
    "            if CUTOFF == 1:\n",
    "                return 'death_max'\n",
    "            if CUTOFF == 0:\n",
    "                return 'death_last'\n",
    "            \n",
    "            return \"death_%d\"%(CUTOFF*10)\n",
    "        \n",
    "\n",
    "        # DEATH5\n",
    "        # 90% of their citations/year were received before death4, and it's been at least 30% of their lifespan\n",
    "        \n",
    "        \n",
    "        # preset all deaths as None\n",
    "        for CUTOFF in np.linspace(0,1,11):\n",
    "            setattr(self, getname(CUTOFF), None)\n",
    "\n",
    "        \n",
    "        for y in range(self.maxcounty + 1, RELIABLE_DATA_ENDS_HERE):            \n",
    "            #if (RELIABLE_DATA_ENDS_HERE - y)/(RELIABLE_DATA_ENDS_HERE - self.first) < 0.3:\n",
    "            #    # eventually we just can't tell anymore...\n",
    "            #    continue\n",
    "            if RELIABLE_DATA_ENDS_HERE - y <= 10:\n",
    "                continue\n",
    "                \n",
    "            before = self.sum_between(self.first, y) / (y - self.first)\n",
    "            after = self.sum_between(y,RELIABLE_DATA_ENDS_HERE) / (RELIABLE_DATA_ENDS_HERE-y)\n",
    "            \n",
    "            \n",
    "            for CUTOFF in np.linspace(0,1,11):\n",
    "                myname = getname(CUTOFF)\n",
    "                    \n",
    "                if getattr(self, myname) is not None:\n",
    "                    continue\n",
    "                    \n",
    "                if after/before <= CUTOFF:\n",
    "                    setattr(self, myname, y)"
   ]
  },
  {
   "cell_type": "markdown",
   "metadata": {
    "papermill": {
     "duration": 0.017951,
     "end_time": "2020-05-25T05:32:13.584963",
     "exception": false,
     "start_time": "2020-05-25T05:32:13.567012",
     "status": "completed"
    },
    "tags": []
   },
   "source": [
    "# master loop"
   ]
  },
  {
   "cell_type": "code",
   "execution_count": 14,
   "metadata": {
    "papermill": {
     "duration": 0.628327,
     "end_time": "2020-05-25T05:32:14.234254",
     "exception": false,
     "start_time": "2020-05-25T05:32:13.605927",
     "status": "completed"
    },
    "tags": []
   },
   "outputs": [
    {
     "name": "stdout",
     "output_type": "stream",
     "text": [
      "Processing database 'sociology-wos'\n",
      "Item 0\n",
      "Item 5000\n",
      "Item 10000\n",
      "Item 15000\n",
      "Item 20000\n",
      "Item 25000\n",
      "Item 30000\n",
      "Item 35000\n",
      "Item 40000\n",
      "Item 45000\n",
      "Item 50000\n",
      "Item 55000\n",
      "Item 60000\n",
      "Item 65000\n",
      "Item 70000\n",
      "Item 75000\n",
      "Item 80000\n",
      "Item 85000\n",
      "Item 90000\n",
      "Item 95000\n",
      "Item 100000\n",
      "Item 105000\n",
      "Item 110000\n",
      "Item 115000\n",
      "Item 120000\n",
      "Item 125000\n",
      "Item 130000\n",
      "Item 135000\n",
      "Item 140000\n",
      "Item 145000\n",
      "Item 150000\n",
      "Item 155000\n",
      "Item 160000\n",
      "Item 165000\n",
      "Item 170000\n",
      "Item 175000\n",
      "Item 180000\n",
      "Item 185000\n",
      "Item 190000\n",
      "Item 195000\n",
      "Item 200000\n",
      "Item 205000\n",
      "Item 210000\n",
      "Item 215000\n",
      "Item 220000\n",
      "Item 225000\n",
      "Item 230000\n",
      "Item 235000\n",
      "Item 240000\n",
      "Item 245000\n",
      "Item 250000\n",
      "Item 255000\n",
      "Item 260000\n",
      "Item 265000\n",
      "Item 270000\n",
      "Item 275000\n",
      "Item 280000\n",
      "Item 285000\n",
      "Item 290000\n",
      "Item 295000\n"
     ]
    }
   ],
   "source": [
    "print(\"Processing database '%s'\"%database_name)\n",
    "\n",
    "mysums = ysums()\n",
    "for ci,item in enumerate(ysum.cy):\n",
    "    \n",
    "    if ci % 5000 == 0:\n",
    "        print(\"Item %s\" % ci)\n",
    "        \n",
    "    #if ci > 10000:\n",
    "    #    break\n",
    "        \n",
    "    res = {}\n",
    "    mysums.meta['at least one citation'] += 1\n",
    "\n",
    "    mysum = ysum( name=item )\n",
    "\n",
    "    #small error catch\n",
    "    if hasattr(mysum,'pub') and mysum.first < mysum.pub:\n",
    "        mysums.meta['first citation before pub date'] += 1\n",
    "        continue\n",
    "\n",
    "    # don't care about those with only a single citation\n",
    "    if mysum.total <= 1:\n",
    "        mysums.meta['literally 1 citation. dropped.'] += 1\n",
    "        continue\n",
    "\n",
    "    # we really don't care about those that never rise in use\n",
    "    if mysum.first == mysum.maxpropy:\n",
    "        mysums.meta['never rise'] += 1\n",
    "        continue\n",
    "        \n",
    "    mysums.meta['passed tests pre-blacklist'] += 1\n",
    "\n",
    "    \n",
    "    mysums.add(mysum)"
   ]
  },
  {
   "cell_type": "markdown",
   "metadata": {
    "papermill": {
     "duration": 0.018951,
     "end_time": "2020-05-25T05:32:14.273160",
     "exception": false,
     "start_time": "2020-05-25T05:32:14.254209",
     "status": "completed"
    },
    "tags": []
   },
   "source": [
    "# Debugging goes here"
   ]
  },
  {
   "cell_type": "code",
   "execution_count": 16,
   "metadata": {
    "execution": {
     "iopub.execute_input": "2020-05-25T05:32:14.342022Z",
     "iopub.status.busy": "2020-05-25T05:32:14.341025Z",
     "iopub.status.idle": "2020-05-25T05:32:14.347051Z",
     "shell.execute_reply": "2020-05-25T05:32:14.348034Z"
    },
    "papermill": {
     "duration": 0.028951,
     "end_time": "2020-05-25T05:32:14.348034",
     "exception": false,
     "start_time": "2020-05-25T05:32:14.319083",
     "status": "completed"
    },
    "tags": []
   },
   "outputs": [
    {
     "name": "stdout",
     "output_type": "stream",
     "text": [
      "death_1 None\n",
      "death_2 None\n",
      "death_3 None\n",
      "death_4 None\n",
      "death_5 None\n",
      "death_6 None\n",
      "death_7 None\n",
      "death_8 None\n",
      "death_9 None\n",
      "death_last None\n",
      "death_max None\n",
      "first 1971\n",
      "last 2015\n",
      "maxcount 4\n",
      "maxcounty 2015\n",
      "maxprop 0.004449388209121246\n",
      "maxpropy 2015\n",
      "name ('across', 'societies')\n",
      "total 56\n",
      "totalprop 0.060170277562862175\n",
      "----------------------------\n",
      "death_1 None\n",
      "death_2 None\n",
      "death_3 None\n",
      "death_4 None\n",
      "death_5 None\n",
      "death_6 None\n",
      "death_7 None\n",
      "death_8 None\n",
      "death_9 None\n",
      "death_last None\n",
      "death_max None\n",
      "first 1970\n",
      "last 2018\n",
      "maxcount 36\n",
      "maxcounty 2007\n",
      "maxprop 0.058823529411764705\n",
      "maxpropy 2018\n",
      "name ('health', 'care')\n",
      "total 767\n",
      "totalprop 0.9028539363539622\n",
      "----------------------------\n",
      "death_1 None\n",
      "death_2 None\n",
      "death_3 None\n",
      "death_4 None\n",
      "death_5 None\n",
      "death_6 None\n",
      "death_7 None\n",
      "death_8 None\n",
      "death_9 None\n",
      "death_last None\n",
      "death_max None\n",
      "first 1965\n",
      "last 2017\n",
      "maxcount 34\n",
      "maxcounty 2014\n",
      "maxprop 0.03508771929824561\n",
      "maxpropy 2014\n",
      "name ('social', 'status')\n",
      "total 796\n",
      "totalprop 0.950553535651632\n",
      "----------------------------\n",
      "death_1 None\n",
      "death_2 None\n",
      "death_3 None\n",
      "death_4 None\n",
      "death_5 None\n",
      "death_6 None\n",
      "death_7 None\n",
      "death_8 None\n",
      "death_9 None\n",
      "death_last None\n",
      "death_max None\n",
      "first 1970\n",
      "last 2018\n",
      "maxcount 15\n",
      "maxcounty 2009\n",
      "maxprop 0.058823529411764705\n",
      "maxpropy 2018\n",
      "name ('consistent', 'findings')\n",
      "total 293\n",
      "totalprop 0.394552623348575\n",
      "----------------------------\n",
      "death_1 None\n",
      "death_2 None\n",
      "death_3 None\n",
      "death_4 None\n",
      "death_5 None\n",
      "death_6 None\n",
      "death_7 None\n",
      "death_8 None\n",
      "death_9 None\n",
      "death_last None\n",
      "death_max None\n",
      "first 1984\n",
      "last 2016\n",
      "maxcount 3\n",
      "maxcounty 2004\n",
      "maxprop 0.0037735849056603774\n",
      "maxpropy 2016\n",
      "name ('universal', 'health')\n",
      "total 16\n",
      "totalprop 0.01907895179854538\n",
      "----------------------------\n",
      "death_1 None\n",
      "death_2 None\n",
      "death_3 None\n",
      "death_4 None\n",
      "death_5 None\n",
      "death_6 None\n",
      "death_7 None\n",
      "death_8 None\n",
      "death_9 None\n",
      "death_last None\n",
      "death_max None\n",
      "first 1976\n",
      "last 2016\n",
      "maxcount 6\n",
      "maxcounty 2010\n",
      "maxprop 0.005708848715509039\n",
      "maxpropy 2007\n",
      "name ('differences', 'health')\n",
      "total 75\n",
      "totalprop 0.08156590310702522\n",
      "----------------------------\n",
      "death_1 None\n",
      "death_2 None\n",
      "death_3 None\n",
      "death_4 None\n",
      "death_5 None\n",
      "death_6 None\n",
      "death_7 None\n",
      "death_8 None\n",
      "death_9 None\n",
      "death_last None\n",
      "death_max None\n",
      "first 1971\n",
      "last 2016\n",
      "maxcount 12\n",
      "maxcounty 2011\n",
      "maxprop 0.010723860589812333\n",
      "maxpropy 2011\n",
      "name ('across', 'groups')\n",
      "total 122\n",
      "totalprop 0.12527567226148453\n",
      "----------------------------\n",
      "death_1 None\n",
      "death_2 None\n",
      "death_3 None\n",
      "death_4 None\n",
      "death_5 None\n",
      "death_6 None\n",
      "death_7 None\n",
      "death_8 None\n",
      "death_9 None\n",
      "death_last None\n",
      "death_max None\n",
      "first 1958\n",
      "last 2016\n",
      "maxcount 24\n",
      "maxcounty 1995\n",
      "maxprop 0.026415094339622643\n",
      "maxpropy 2016\n",
      "name ('social', 'behavior')\n",
      "total 648\n",
      "totalprop 0.7714993546913621\n",
      "----------------------------\n",
      "death_1 None\n",
      "death_2 None\n",
      "death_3 None\n",
      "death_4 None\n",
      "death_5 None\n",
      "death_6 None\n",
      "death_7 None\n",
      "death_8 None\n",
      "death_9 None\n",
      "death_last None\n",
      "death_max None\n",
      "first 1961\n",
      "last 2016\n",
      "maxcount 18\n",
      "maxcounty 1995\n",
      "maxprop 0.032520325203252036\n",
      "maxpropy 1966\n",
      "name ('journal', 'health')\n",
      "total 451\n",
      "totalprop 0.6353872576945332\n",
      "----------------------------\n",
      "death_1 None\n",
      "death_2 None\n",
      "death_3 None\n",
      "death_4 None\n",
      "death_5 None\n",
      "death_6 None\n",
      "death_7 None\n",
      "death_8 None\n",
      "death_9 None\n",
      "death_last None\n",
      "death_max None\n",
      "first 1969\n",
      "last 2016\n",
      "maxcount 23\n",
      "maxcounty 2010\n",
      "maxprop 0.022641509433962263\n",
      "maxpropy 2016\n",
      "name ('health', 'social')\n",
      "total 561\n",
      "totalprop 0.6284271068436884\n",
      "----------------------------\n"
     ]
    }
   ],
   "source": [
    "for ys in mysums.ysums[:10]:\n",
    "    dd = ys.dump()\n",
    "    for k in sorted(dd):\n",
    "        print(k, dd[k])\n",
    "        \n",
    "    print(\"----------------------------\")"
   ]
  },
  {
   "cell_type": "code",
   "execution_count": 15,
   "metadata": {
    "papermill": {
     "duration": 0.024932,
     "end_time": "2020-05-25T05:32:14.391888",
     "exception": false,
     "start_time": "2020-05-25T05:32:14.366956",
     "status": "completed"
    },
    "tags": []
   },
   "outputs": [
    {
     "name": "stdout",
     "output_type": "stream",
     "text": [
      "defaultdict(<class 'int'>, {'at least one citation': 296716, 'passed tests pre-blacklist': 97513, 'never rise': 167261, 'literally 1 citation. dropped.': 31671, 'first citation before pub date': 271})\n"
     ]
    }
   ],
   "source": [
    "print(mysums.meta)"
   ]
  },
  {
   "cell_type": "code",
   "execution_count": 16,
   "metadata": {
    "papermill": {
     "duration": 0.04488,
     "end_time": "2020-05-25T05:32:14.457713",
     "exception": false,
     "start_time": "2020-05-25T05:32:14.412833",
     "status": "completed"
    },
    "tags": []
   },
   "outputs": [],
   "source": [
    "if False:\n",
    "    mysum_final = pd.DataFrame.from_records( list(x.dump() for x in mysums.ysums) )\n",
    "    mysum_final.shape\n",
    "    \n",
    "if True:\n",
    "    mysum_final = {}\n",
    "    for x in mysums.ysums:\n",
    "        dp = x.dump()\n",
    "        mysum_final[dp['name']] = dp"
   ]
  },
  {
   "cell_type": "code",
   "execution_count": 17,
   "metadata": {
    "papermill": {
     "duration": 0.033938,
     "end_time": "2020-05-25T05:32:14.513592",
     "exception": false,
     "start_time": "2020-05-25T05:32:14.479654",
     "status": "completed"
    },
    "tags": []
   },
   "outputs": [],
   "source": [
    "varname = \"%s.%s.ysum\"%(database_name,dtype)\n",
    "save_variable(varname, mysum_final)"
   ]
  },
  {
   "cell_type": "markdown",
   "metadata": {
    "papermill": {
     "duration": 0.019956,
     "end_time": "2020-05-25T05:32:14.554463",
     "exception": false,
     "start_time": "2020-05-25T05:32:14.534507",
     "status": "completed"
    },
    "tags": []
   },
   "source": [
    "# only necessary if you plan on filtering based on this set"
   ]
  },
  {
   "cell_type": "code",
   "execution_count": 20,
   "metadata": {
    "execution": {
     "iopub.execute_input": "2020-05-25T05:32:14.597340Z",
     "iopub.status.busy": "2020-05-25T05:32:14.596341Z",
     "iopub.status.idle": "2020-05-25T05:32:14.599334Z",
     "shell.execute_reply": "2020-05-25T05:32:14.599334Z"
    },
    "papermill": {
     "duration": 0.023936,
     "end_time": "2020-05-25T05:32:14.599334",
     "exception": false,
     "start_time": "2020-05-25T05:32:14.575398",
     "status": "completed"
    },
    "tags": []
   },
   "outputs": [],
   "source": [
    "if False:\n",
    "    save_variable(\"%s.included_citations\"%database_name, set(ysum.keys()))"
   ]
  }
 ],
 "metadata": {
  "kernelspec": {
   "display_name": "Python 3",
   "language": "python",
   "name": "python3"
  },
  "language_info": {
   "codemirror_mode": {
    "name": "ipython",
    "version": 3
   },
   "file_extension": ".py",
   "mimetype": "text/x-python",
   "name": "python",
   "nbconvert_exporter": "python",
   "pygments_lexer": "ipython3",
   "version": "3.7.5"
  },
  "papermill": {
   "duration": 6.088956,
   "end_time": "2020-05-25T05:32:15.717095",
   "environment_variables": {},
   "exception": null,
   "input_path": "G:\\My Drive\\projects\\qualitative analysis of literature\\post 5-12-2020\\git repository _ citation-deaths\\knowknow\\creating variables\\ysum.ipynb",
   "output_path": "G:\\My Drive\\projects\\qualitative analysis of literature\\post 5-12-2020\\git repository _ citation-deaths\\knowknow\\creating variables\\ysum.ipynb",
   "parameters": {
    "database_name": "sociology-jstor",
    "dtype": "t"
   },
   "start_time": "2020-05-25T05:32:09.628139",
   "version": "2.1.1"
  }
 },
 "nbformat": 4,
 "nbformat_minor": 4
}
