{
 "cells": [
  {
   "cell_type": "code",
   "execution_count": 1,
   "metadata": {},
   "outputs": [],
   "source": [
    "import sys; sys.path.append(_dh[0].split(\"knowknow\")[0])\n",
    "from knowknow import *"
   ]
  },
  {
   "cell_type": "code",
   "execution_count": 2,
   "metadata": {},
   "outputs": [],
   "source": [
    "dtype = 't'\n",
    "database_name = \"sociology-jstor\""
   ]
  },
  {
   "cell_type": "code",
   "execution_count": 3,
   "metadata": {},
   "outputs": [
    {
     "name": "stdout",
     "output_type": "stream",
     "text": [
      "Loaded keys: dict_keys(['fy', 'fy.t', 't', 'c'])\n",
      "Available keys: ['a', 'a.c', 'a.fj.fy', 'c', 'c.c', 'c.fa', 'c.fj', 'c.fy', 'c.t', 'fa', 'fa.fj.fy', 'fj', 'fj.fy', 'fj.t', 'fy', 'fy.t', 't']\n"
     ]
    }
   ],
   "source": [
    "cnt = get_cnt('%s.doc'%database_name, ['fy',comb(dtype,'fy'),dtype,'c'])\n",
    "ysum = load_variable('%s.%s.ysum' % (database_name, dtype))"
   ]
  },
  {
   "cell_type": "code",
   "execution_count": 4,
   "metadata": {},
   "outputs": [
    {
     "data": {
      "text/plain": [
       "[('across', 'societies'),\n",
       " ('health', 'care'),\n",
       " ('social', 'status'),\n",
       " ('consistent', 'findings'),\n",
       " ('universal', 'health'),\n",
       " ('differences', 'health'),\n",
       " ('across', 'groups'),\n",
       " ('social', 'behavior'),\n",
       " ('journal', 'health'),\n",
       " ('health', 'social')]"
      ]
     },
     "execution_count": 4,
     "metadata": {},
     "output_type": "execute_result"
    }
   ],
   "source": [
    "list(ysum)[:10]"
   ]
  },
  {
   "cell_type": "markdown",
   "metadata": {},
   "source": [
    "# Make the publication year the base year"
   ]
  },
  {
   "cell_type": "code",
   "execution_count": 69,
   "metadata": {},
   "outputs": [
    {
     "data": {
      "text/plain": [
       "[(c(c='Blau and Duncan (1967)'), 557),\n",
       " (c(c='Wilson (1987)'), 534),\n",
       " (c(c='Goffman (1959)'), 481),\n",
       " (c(c='Mead (1934)'), 454),\n",
       " (c(c='Goffman (1963)'), 451),\n",
       " (c(c='Putnam (2000)'), 437),\n",
       " (c(c='Coleman (1990)'), 415),\n",
       " (c(c='DiMaggio and Powell (1983)'), 413),\n",
       " (c(c='Coleman (1988)'), 412),\n",
       " (c(c='Blumer (1969)'), 406),\n",
       " (c(c='Meyer and Rowan (1977)'), 405),\n",
       " (c(c='Bourdieu (1984)'), 401),\n",
       " (c(c='McAdam (1982)'), 394),\n",
       " (c(c='Kanter (1977)'), 392),\n",
       " (c(c='Thompson (1967)'), 376),\n",
       " (c(c='Glaser and Strauss (1967)'), 371),\n",
       " (c(c='Garfinkel (1967)'), 361),\n",
       " (c(c='Goffman (1961)'), 346),\n",
       " (c(c='Tilly (1978)'), 340),\n",
       " (c(c='Granovetter (1973)'), 331),\n",
       " (c(c='Swidler (1986)'), 329),\n",
       " (c(c='Granovetter (1985)'), 327),\n",
       " (c(c='Blau (1964)'), 322),\n",
       " (c(c='Merton (1957)'), 318),\n",
       " (c(c='Radloff (1977)'), 315),\n",
       " (c(c='Becker (1963)'), 307),\n",
       " (c(c='Blalock (1967)'), 297),\n",
       " (c(c='Massey and Denton (1993)'), 294),\n",
       " (c(c='Hochschild (1989)'), 282),\n",
       " (c(c='Parsons (1951)'), 281)]"
      ]
     },
     "execution_count": 69,
     "metadata": {},
     "output_type": "execute_result"
    }
   ],
   "source": [
    "Counter(dict(cnt['c'])).most_common(30)"
   ]
  },
  {
   "cell_type": "code",
   "execution_count": null,
   "metadata": {},
   "outputs": [],
   "source": [
    "ysum.keys()"
   ]
  },
  {
   "cell_type": "code",
   "execution_count": 51,
   "metadata": {},
   "outputs": [
    {
     "ename": "KeyError",
     "evalue": "t(t='press')",
     "output_type": "error",
     "traceback": [
      "\u001b[1;31m---------------------------------------------------------------------------\u001b[0m",
      "\u001b[1;31mKeyError\u001b[0m                                  Traceback (most recent call last)",
      "\u001b[1;32m<ipython-input-51-1ba9b75f6407>\u001b[0m in \u001b[0;36m<module>\u001b[1;34m\u001b[0m\n\u001b[1;32m----> 1\u001b[1;33m \u001b[0mysum\u001b[0m\u001b[1;33m[\u001b[0m\u001b[0mwhat\u001b[0m\u001b[1;33m]\u001b[0m\u001b[1;33m\u001b[0m\u001b[1;33m\u001b[0m\u001b[0m\n\u001b[0m",
      "\u001b[1;31mKeyError\u001b[0m: t(t='press')"
     ]
    }
   ],
   "source": [
    "ysum[what]"
   ]
  },
  {
   "cell_type": "code",
   "execution_count": 49,
   "metadata": {},
   "outputs": [
    {
     "data": {
      "text/plain": [
       "[('across', 'societies'),\n",
       " ('health', 'care'),\n",
       " ('social', 'status'),\n",
       " ('consistent', 'findings'),\n",
       " ('universal', 'health')]"
      ]
     },
     "execution_count": 49,
     "metadata": {},
     "output_type": "execute_result"
    }
   ],
   "source": [
    "list(ysum)[:5]"
   ]
  },
  {
   "cell_type": "code",
   "execution_count": 59,
   "metadata": {},
   "outputs": [
    {
     "name": "stdout",
     "output_type": "stream",
     "text": [
      "et\n",
      "al\n",
      "p\n",
      "african\n",
      "th\n",
      "war\n",
      "middle\n",
      "twentieth\n",
      "numerous\n",
      "independent\n",
      "force\n",
      "everyday\n",
      "nineteenth\n",
      "factor\n",
      "body\n",
      "labour\n",
      "positively\n",
      "wide\n",
      "journal\n",
      "mass\n",
      "college\n",
      "male\n",
      "vast\n",
      "rights\n",
      "prior\n",
      "logistic\n",
      "paid\n",
      "smith\n",
      "despite\n",
      "nationally\n",
      "metropolitan\n",
      "missing\n",
      "grounded\n",
      "goods\n",
      "significant\n",
      "upward\n",
      "several\n",
      "maximum\n",
      "quarterly\n",
      "spend\n",
      "deviant\n",
      "eastern\n",
      "males\n",
      "line\n",
      "late\n",
      "regression\n",
      "measurement\n",
      "depressive\n",
      "(p\n",
      "standard\n",
      "race\n",
      "catholic\n",
      "unit\n",
      "western\n",
      "income\n",
      "soviet\n",
      "almost\n",
      "nuclear\n",
      "took\n",
      "vice\n",
      "older\n",
      "department\n",
      "united\n",
      "interaction\n",
      "important\n",
      "industrial\n",
      "qualitative\n",
      "policy\n",
      "risk\n",
      "starting\n",
      "aspects\n",
      "reliability\n",
      "consistently\n",
      "psychology\n",
      "opportunity\n",
      "stressful\n",
      "determine\n",
      "latin\n",
      "opinion\n",
      "future\n",
      "administrative\n",
      "allows\n",
      "past\n",
      "around\n",
      "carolina\n",
      "parameter\n",
      "report\n",
      "wilson\n",
      "representative\n",
      "ô\n",
      "canadian\n",
      "dummy\n",
      "material\n",
      "extensive\n",
      "weak\n",
      "five\n",
      "long\n",
      "frequently\n",
      "chicago\n",
      "press\n"
     ]
    },
    {
     "ename": "IndexError",
     "evalue": "Inconsistent shape between the condition and the input (got (0, 1) and (0,))",
     "output_type": "error",
     "traceback": [
      "\u001b[1;31m---------------------------------------------------------------------------\u001b[0m",
      "\u001b[1;31mIndexError\u001b[0m                                Traceback (most recent call last)",
      "\u001b[1;32m<ipython-input-59-a58d8a1a553e>\u001b[0m in \u001b[0;36m<module>\u001b[1;34m\u001b[0m\n\u001b[0;32m     15\u001b[0m \u001b[1;33m\u001b[0m\u001b[0m\n\u001b[0;32m     16\u001b[0m \u001b[0mfig\u001b[0m\u001b[1;33m,\u001b[0m \u001b[0max\u001b[0m \u001b[1;33m=\u001b[0m \u001b[0mplt\u001b[0m\u001b[1;33m.\u001b[0m\u001b[0msubplots\u001b[0m\u001b[1;33m(\u001b[0m\u001b[0mfigsize\u001b[0m\u001b[1;33m=\u001b[0m\u001b[1;33m(\u001b[0m\u001b[1;36m30\u001b[0m\u001b[1;33m,\u001b[0m\u001b[1;36m10\u001b[0m\u001b[1;33m)\u001b[0m\u001b[1;33m)\u001b[0m\u001b[1;33m\u001b[0m\u001b[1;33m\u001b[0m\u001b[0m\n\u001b[1;32m---> 17\u001b[1;33m \u001b[0msns\u001b[0m\u001b[1;33m.\u001b[0m\u001b[0mheatmap\u001b[0m\u001b[1;33m(\u001b[0m\u001b[0mall_years\u001b[0m\u001b[1;33m,\u001b[0m \u001b[0max\u001b[0m\u001b[1;33m=\u001b[0m\u001b[0max\u001b[0m\u001b[1;33m)\u001b[0m\u001b[1;33m\u001b[0m\u001b[1;33m\u001b[0m\u001b[0m\n\u001b[0m",
      "\u001b[1;32mc:\\users\\amcga\\envs\\citation-deaths\\lib\\site-packages\\seaborn\\matrix.py\u001b[0m in \u001b[0;36mheatmap\u001b[1;34m(data, vmin, vmax, cmap, center, robust, annot, fmt, annot_kws, linewidths, linecolor, cbar, cbar_kws, cbar_ax, square, xticklabels, yticklabels, mask, ax, **kwargs)\u001b[0m\n\u001b[0;32m    535\u001b[0m     plotter = _HeatMapper(data, vmin, vmax, cmap, center, robust, annot, fmt,\n\u001b[0;32m    536\u001b[0m                           \u001b[0mannot_kws\u001b[0m\u001b[1;33m,\u001b[0m \u001b[0mcbar\u001b[0m\u001b[1;33m,\u001b[0m \u001b[0mcbar_kws\u001b[0m\u001b[1;33m,\u001b[0m \u001b[0mxticklabels\u001b[0m\u001b[1;33m,\u001b[0m\u001b[1;33m\u001b[0m\u001b[1;33m\u001b[0m\u001b[0m\n\u001b[1;32m--> 537\u001b[1;33m                           yticklabels, mask)\n\u001b[0m\u001b[0;32m    538\u001b[0m \u001b[1;33m\u001b[0m\u001b[0m\n\u001b[0;32m    539\u001b[0m     \u001b[1;31m# Add the pcolormesh kwargs here\u001b[0m\u001b[1;33m\u001b[0m\u001b[1;33m\u001b[0m\u001b[1;33m\u001b[0m\u001b[0m\n",
      "\u001b[1;32mc:\\users\\amcga\\envs\\citation-deaths\\lib\\site-packages\\seaborn\\matrix.py\u001b[0m in \u001b[0;36m__init__\u001b[1;34m(self, data, vmin, vmax, cmap, center, robust, annot, fmt, annot_kws, cbar, cbar_kws, xticklabels, yticklabels, mask)\u001b[0m\n\u001b[0;32m    111\u001b[0m         \u001b[0mmask\u001b[0m \u001b[1;33m=\u001b[0m \u001b[0m_matrix_mask\u001b[0m\u001b[1;33m(\u001b[0m\u001b[0mdata\u001b[0m\u001b[1;33m,\u001b[0m \u001b[0mmask\u001b[0m\u001b[1;33m)\u001b[0m\u001b[1;33m\u001b[0m\u001b[1;33m\u001b[0m\u001b[0m\n\u001b[0;32m    112\u001b[0m \u001b[1;33m\u001b[0m\u001b[0m\n\u001b[1;32m--> 113\u001b[1;33m         \u001b[0mplot_data\u001b[0m \u001b[1;33m=\u001b[0m \u001b[0mnp\u001b[0m\u001b[1;33m.\u001b[0m\u001b[0mma\u001b[0m\u001b[1;33m.\u001b[0m\u001b[0mmasked_where\u001b[0m\u001b[1;33m(\u001b[0m\u001b[0mnp\u001b[0m\u001b[1;33m.\u001b[0m\u001b[0masarray\u001b[0m\u001b[1;33m(\u001b[0m\u001b[0mmask\u001b[0m\u001b[1;33m)\u001b[0m\u001b[1;33m,\u001b[0m \u001b[0mplot_data\u001b[0m\u001b[1;33m)\u001b[0m\u001b[1;33m\u001b[0m\u001b[1;33m\u001b[0m\u001b[0m\n\u001b[0m\u001b[0;32m    114\u001b[0m \u001b[1;33m\u001b[0m\u001b[0m\n\u001b[0;32m    115\u001b[0m         \u001b[1;31m# Get good names for the rows and columns\u001b[0m\u001b[1;33m\u001b[0m\u001b[1;33m\u001b[0m\u001b[1;33m\u001b[0m\u001b[0m\n",
      "\u001b[1;32mc:\\users\\amcga\\envs\\citation-deaths\\lib\\site-packages\\numpy\\ma\\core.py\u001b[0m in \u001b[0;36mmasked_where\u001b[1;34m(condition, a, copy)\u001b[0m\n\u001b[0;32m   1940\u001b[0m     \u001b[1;32mif\u001b[0m \u001b[0mcshape\u001b[0m \u001b[1;32mand\u001b[0m \u001b[0mcshape\u001b[0m \u001b[1;33m!=\u001b[0m \u001b[0mashape\u001b[0m\u001b[1;33m:\u001b[0m\u001b[1;33m\u001b[0m\u001b[1;33m\u001b[0m\u001b[0m\n\u001b[0;32m   1941\u001b[0m         raise IndexError(\"Inconsistent shape between the condition and the input\"\n\u001b[1;32m-> 1942\u001b[1;33m                          \" (got %s and %s)\" % (cshape, ashape))\n\u001b[0m\u001b[0;32m   1943\u001b[0m     \u001b[1;32mif\u001b[0m \u001b[0mhasattr\u001b[0m\u001b[1;33m(\u001b[0m\u001b[0ma\u001b[0m\u001b[1;33m,\u001b[0m \u001b[1;34m'_mask'\u001b[0m\u001b[1;33m)\u001b[0m\u001b[1;33m:\u001b[0m\u001b[1;33m\u001b[0m\u001b[1;33m\u001b[0m\u001b[0m\n\u001b[0;32m   1944\u001b[0m         \u001b[0mcond\u001b[0m \u001b[1;33m=\u001b[0m \u001b[0mmask_or\u001b[0m\u001b[1;33m(\u001b[0m\u001b[0mcond\u001b[0m\u001b[1;33m,\u001b[0m \u001b[0ma\u001b[0m\u001b[1;33m.\u001b[0m\u001b[0m_mask\u001b[0m\u001b[1;33m)\u001b[0m\u001b[1;33m\u001b[0m\u001b[1;33m\u001b[0m\u001b[0m\n",
      "\u001b[1;31mIndexError\u001b[0m: Inconsistent shape between the condition and the input (got (0, 1) and (0,))"
     ]
    },
    {
     "data": {
      "image/png": "[encoded data removed]",
      "text/plain": [
       "<Figure size 2160x720 with 1 Axes>"
      ]
     },
     "metadata": {},
     "output_type": "display_data"
    }
   ],
   "source": [
    "all_years = []\n",
    "\n",
    "\n",
    "for what, c in Counter( dict( cnt[dtype].items() ) ).most_common(100):    \n",
    "    what = what.t\n",
    "    print(what)\n",
    "    if what not in ysum:\n",
    "        continue\n",
    "        \n",
    "    start_year = ysum[what]['pub']\n",
    "    year_l = [ cnt[comb(dtype,'fy')][make_cross({\"fy\":y, dtype:what})] if (y < 2015 and y > start_year) else -10 for y in range(start_year, start_year+50) ]\n",
    "    all_years.append(year_l)\n",
    "    \n",
    "all_years = np.array(all_years)\n",
    "\n",
    "fig, ax = plt.subplots(figsize=(30,10))\n",
    "sns.heatmap(all_years, ax=ax)"
   ]
  },
  {
   "cell_type": "code",
   "execution_count": 31,
   "metadata": {},
   "outputs": [
    {
     "name": "stderr",
     "output_type": "stream",
     "text": [
      "c:\\users\\amcga\\envs\\citation-deaths\\lib\\site-packages\\ipykernel_launcher.py:7: DeprecationWarning: Calling np.sum(generator) is deprecated, and in the future will give a different result. Use np.sum(np.fromiter(generator)) or the python sum builtin instead.\n",
      "  import sys\n"
     ]
    }
   ],
   "source": [
    "# sorts by their closest neighbors\n",
    "\n",
    "from scipy.spatial.distance import pdist, squareform\n",
    "distances = np.array([\n",
    "    [\n",
    "        np.sum( np.abs(year1[i]-year2[i]) if (year1[i] != -10 and year2[i] != -10) else 0 for i in range(year1.shape[0]) )\n",
    "        for year2 in all_years\n",
    "    ]\n",
    "    for year1 in all_years\n",
    "])\n",
    "\n",
    "seq = [0]\n",
    "while len(seq) < all_years.shape[0]:\n",
    "    last_one = seq[-1]\n",
    "    which_done = np.array([ samp in seq for samp in range( all_years.shape[0] )])\n",
    "    \n",
    "    minv = None\n",
    "    mini = None\n",
    "    for i in range(distances.shape[0]):\n",
    "        if i in seq:\n",
    "            continue\n",
    "            \n",
    "        v = distances[i,last_one]\n",
    "        if minv is None or v < minv:\n",
    "            mini = i\n",
    "            minv = v\n",
    "            \n",
    "    seq.append(mini)"
   ]
  },
  {
   "cell_type": "code",
   "execution_count": 34,
   "metadata": {},
   "outputs": [
    {
     "data": {
      "image/png": "[encoded data removed]",
      "text/plain": [
       "<Figure size 2160x720 with 2 Axes>"
      ]
     },
     "metadata": {},
     "output_type": "display_data"
    }
   ],
   "source": [
    "fig, ax = plt.subplots(figsize=(30,10))\n",
    "sns.heatmap(all_years[seq,], ax=ax)\n",
    "save_figure(\"Top 100 cited works' lifespans (%s)\" % \", \".join([database_name, dtype]))"
   ]
  },
  {
   "cell_type": "code",
   "execution_count": null,
   "metadata": {},
   "outputs": [],
   "source": []
  }
 ],
 "metadata": {
  "kernelspec": {
   "display_name": "Python 3",
   "language": "python",
   "name": "python3"
  },
  "language_info": {
   "codemirror_mode": {
    "name": "ipython",
    "version": 3
   },
   "file_extension": ".py",
   "mimetype": "text/x-python",
   "name": "python",
   "nbconvert_exporter": "python",
   "pygments_lexer": "ipython3",
   "version": "3.7.5"
  }
 },
 "nbformat": 4,
 "nbformat_minor": 4
}
