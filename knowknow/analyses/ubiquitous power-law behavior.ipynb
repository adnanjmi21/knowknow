{
 "cells": [
  {
   "cell_type": "code",
   "execution_count": 1,
   "metadata": {
    "execution": {
     "iopub.execute_input": "2020-05-24T04:15:56.721925Z",
     "iopub.status.busy": "2020-05-24T04:15:56.720927Z",
     "iopub.status.idle": "2020-05-24T04:15:57.732682Z",
     "shell.execute_reply": "2020-05-24T04:15:57.731686Z"
    },
    "papermill": {
     "duration": 1.025693,
     "end_time": "2020-05-24T04:15:57.732682",
     "exception": false,
     "start_time": "2020-05-24T04:15:56.706989",
     "status": "completed"
    },
    "tags": []
   },
   "outputs": [],
   "source": [
    "import sys; sys.path.append(_dh[0].split(\"knowknow\")[0])\n",
    "from knowknow import *"
   ]
  },
  {
   "cell_type": "markdown",
   "metadata": {
    "papermill": {
     "duration": 0.01097,
     "end_time": "2020-05-24T04:15:57.756617",
     "exception": false,
     "start_time": "2020-05-24T04:15:57.745647",
     "status": "completed"
    },
    "tags": []
   },
   "source": [
    "# cited works"
   ]
  },
  {
   "cell_type": "code",
   "execution_count": 2,
   "metadata": {
    "execution": {
     "iopub.execute_input": "2020-05-24T04:15:57.783557Z",
     "iopub.status.busy": "2020-05-24T04:15:57.782559Z",
     "iopub.status.idle": "2020-05-24T04:15:57.785552Z",
     "shell.execute_reply": "2020-05-24T04:15:57.785552Z"
    },
    "papermill": {
     "duration": 0.016967,
     "end_time": "2020-05-24T04:15:57.785552",
     "exception": false,
     "start_time": "2020-05-24T04:15:57.768585",
     "status": "completed"
    },
    "tags": [
     "parameters"
    ]
   },
   "outputs": [],
   "source": [
    "database_name = \"sociology-wos\"\n",
    "dtype = 'c'"
   ]
  },
  {
   "cell_type": "code",
   "execution_count": 3,
   "metadata": {
    "execution": {
     "iopub.execute_input": "2020-05-24T04:15:57.839549Z",
     "iopub.status.busy": "2020-05-24T04:15:57.839549Z",
     "iopub.status.idle": "2020-05-24T04:15:57.842556Z",
     "shell.execute_reply": "2020-05-24T04:15:57.842556Z"
    },
    "papermill": {
     "duration": 0.018966,
     "end_time": "2020-05-24T04:15:57.842556",
     "exception": false,
     "start_time": "2020-05-24T04:15:57.823590",
     "status": "completed"
    },
    "tags": [
     "injected-parameters"
    ]
   },
   "outputs": [],
   "source": [
    "# Parameters\n",
    "database_name = \"sociology-jstor\"\n",
    "dtype = \"t\"\n",
    "birth_key = \"first\"\n",
    "definitions_of_death = [\"death2\", \"death3\", \"death5\"]\n"
   ]
  },
  {
   "cell_type": "code",
   "execution_count": 4,
   "metadata": {
    "execution": {
     "iopub.execute_input": "2020-05-24T04:15:57.870466Z",
     "iopub.status.busy": "2020-05-24T04:15:57.869469Z",
     "iopub.status.idle": "2020-05-24T04:15:58.463879Z",
     "shell.execute_reply": "2020-05-24T04:15:58.463879Z"
    },
    "papermill": {
     "duration": 0.608373,
     "end_time": "2020-05-24T04:15:58.463879",
     "exception": false,
     "start_time": "2020-05-24T04:15:57.855506",
     "status": "completed"
    },
    "tags": []
   },
   "outputs": [
    {
     "name": "stdout",
     "output_type": "stream",
     "text": [
      "Loaded keys: dict_keys(['fy.t', 'fy', 't'])\n",
      "Available keys: ['a', 'a.c', 'a.fj.fy', 'c', 'c.c', 'c.fa', 'c.fj', 'c.fy', 'c.t', 'fa', 'fa.fj.fy', 'fj', 'fj.fy', 'fj.t', 'fy', 'fy.t', 't']\n"
     ]
    }
   ],
   "source": [
    "cits = get_cnt(\"%s.ind\"%database_name, [comb(dtype,'fy'),'fy',dtype])\n",
    "cysum = load_variable(\"%s.%s.ysum\"%(database_name,dtype))"
   ]
  },
  {
   "cell_type": "code",
   "execution_count": 5,
   "metadata": {
    "execution": {
     "iopub.execute_input": "2020-05-24T04:15:58.495793Z",
     "iopub.status.busy": "2020-05-24T04:15:58.490806Z",
     "iopub.status.idle": "2020-05-24T04:15:58.498812Z",
     "shell.execute_reply": "2020-05-24T04:15:58.498812Z"
    },
    "papermill": {
     "duration": 0.020971,
     "end_time": "2020-05-24T04:15:58.498812",
     "exception": false,
     "start_time": "2020-05-24T04:15:58.477841",
     "status": "completed"
    },
    "tags": []
   },
   "outputs": [],
   "source": [
    "cc = Counter(int(x['total']) for _,x in cysum.items())\n",
    "counts = []\n",
    "totals = range(0,max(cc.keys())+1)\n",
    "for i in totals:\n",
    "    counts.append(cc[i])"
   ]
  },
  {
   "cell_type": "code",
   "execution_count": 6,
   "metadata": {
    "execution": {
     "iopub.execute_input": "2020-05-24T04:15:58.525785Z",
     "iopub.status.busy": "2020-05-24T04:15:58.523791Z",
     "iopub.status.idle": "2020-05-24T04:15:58.528807Z",
     "shell.execute_reply": "2020-05-24T04:15:58.528807Z"
    },
    "papermill": {
     "duration": 0.017984,
     "end_time": "2020-05-24T04:15:58.528807",
     "exception": false,
     "start_time": "2020-05-24T04:15:58.510823",
     "status": "completed"
    },
    "tags": []
   },
   "outputs": [
    {
     "name": "stdout",
     "output_type": "stream",
     "text": [
      "0.02% were cited more than 5 times\n"
     ]
    }
   ],
   "source": [
    "# more than 5 times\n",
    "print(\"%0.2f%% were cited more than 5 times\" % (100 * sum(counts[i] for i in totals if i>5)/np.sum(totals)))"
   ]
  },
  {
   "cell_type": "code",
   "execution_count": 7,
   "metadata": {
    "execution": {
     "iopub.execute_input": "2020-05-24T04:15:58.558697Z",
     "iopub.status.busy": "2020-05-24T04:15:58.558697Z",
     "iopub.status.idle": "2020-05-24T04:15:58.665747Z",
     "shell.execute_reply": "2020-05-24T04:15:58.667769Z"
    },
    "papermill": {
     "duration": 0.127019,
     "end_time": "2020-05-24T04:15:58.667769",
     "exception": false,
     "start_time": "2020-05-24T04:15:58.540750",
     "status": "completed"
    },
    "tags": []
   },
   "outputs": [
    {
     "name": "stderr",
     "output_type": "stream",
     "text": [
      "c:\\users\\amcga\\envs\\citation-deaths\\lib\\site-packages\\ipykernel_launcher.py:3: RuntimeWarning: divide by zero encountered in log10\n",
      "  This is separate from the ipykernel package so we can avoid doing imports until\n"
     ]
    },
    {
     "data": {
      "image/png": "[encoded data removed]",
      "text/plain": [
       "<Figure size 432x288 with 1 Axes>"
      ]
     },
     "metadata": {},
     "output_type": "display_data"
    }
   ],
   "source": [
    "counts = np.array(counts)\n",
    "totals = np.array(totals)\n",
    "plt.plot(np.log10(totals),np.log10(counts))\n",
    "xlab = np.array([1,2,3])\n",
    "plt.xticks(\n",
    "    xlab,\n",
    "    np.power(10, xlab)\n",
    ")\n",
    "ylab = np.array([1,2,3,4,5])\n",
    "plt.yticks(\n",
    "    ylab,\n",
    "    np.power(10, ylab)\n",
    ")\n",
    "\n",
    "plt.ylabel(\"Number of citations\")\n",
    "plt.ylabel(\"Number of cited works\")\n",
    "title = \"Received citations distribution (%s, %s)\" % (database_name,dtype)\n",
    "plt.title(title)\n",
    "\n",
    "save_figure(title)"
   ]
  },
  {
   "cell_type": "code",
   "execution_count": 8,
   "metadata": {
    "execution": {
     "iopub.execute_input": "2020-05-24T04:15:58.705639Z",
     "iopub.status.busy": "2020-05-24T04:15:58.705639Z",
     "iopub.status.idle": "2020-05-24T04:15:58.924347Z",
     "shell.execute_reply": "2020-05-24T04:15:58.924347Z"
    },
    "papermill": {
     "duration": 0.234665,
     "end_time": "2020-05-24T04:15:58.925344",
     "exception": false,
     "start_time": "2020-05-24T04:15:58.690679",
     "status": "completed"
    },
    "tags": []
   },
   "outputs": [],
   "source": [
    "import statsmodels.api as sm"
   ]
  },
  {
   "cell_type": "code",
   "execution_count": 9,
   "metadata": {
    "execution": {
     "iopub.execute_input": "2020-05-24T04:15:59.064053Z",
     "iopub.status.busy": "2020-05-24T04:15:59.055077Z",
     "iopub.status.idle": "2020-05-24T04:15:59.067044Z",
     "shell.execute_reply": "2020-05-24T04:15:59.067044Z"
    },
    "papermill": {
     "duration": 0.027925,
     "end_time": "2020-05-24T04:15:59.067044",
     "exception": false,
     "start_time": "2020-05-24T04:15:59.039119",
     "status": "completed"
    },
    "tags": []
   },
   "outputs": [],
   "source": [
    "lt,lc = [x for i,x in enumerate(totals) if (totals[i]>0 and counts[i]>0)], [x for i,x in enumerate(counts) if (totals[i]>0 and counts[i]>0)]\n",
    "lt,lc = np.log(lt),np.log(lc)\n",
    "\n",
    "X = sm.add_constant(lt)\n",
    "y = lc\n",
    "\n",
    "mod = sm.OLS(y,X)"
   ]
  },
  {
   "cell_type": "code",
   "execution_count": 10,
   "metadata": {
    "execution": {
     "iopub.execute_input": "2020-05-24T04:15:59.094970Z",
     "iopub.status.busy": "2020-05-24T04:15:59.094970Z",
     "iopub.status.idle": "2020-05-24T04:15:59.097962Z",
     "shell.execute_reply": "2020-05-24T04:15:59.097962Z"
    },
    "papermill": {
     "duration": 0.016955,
     "end_time": "2020-05-24T04:15:59.097962",
     "exception": false,
     "start_time": "2020-05-24T04:15:59.081007",
     "status": "completed"
    },
    "tags": []
   },
   "outputs": [],
   "source": [
    "res = mod.fit()"
   ]
  },
  {
   "cell_type": "code",
   "execution_count": 11,
   "metadata": {
    "execution": {
     "iopub.execute_input": "2020-05-24T04:15:59.128200Z",
     "iopub.status.busy": "2020-05-24T04:15:59.127203Z",
     "iopub.status.idle": "2020-05-24T04:15:59.138209Z",
     "shell.execute_reply": "2020-05-24T04:15:59.138209Z"
    },
    "papermill": {
     "duration": 0.027924,
     "end_time": "2020-05-24T04:15:59.139171",
     "exception": false,
     "start_time": "2020-05-24T04:15:59.111247",
     "status": "completed"
    },
    "tags": []
   },
   "outputs": [
    {
     "data": {
      "text/html": [
       "<table class=\"simpletable\">\n",
       "<caption>OLS Regression Results</caption>\n",
       "<tr>\n",
       "  <th>Dep. Variable:</th>            <td>y</td>        <th>  R-squared:         </th> <td>   0.789</td> \n",
       "</tr>\n",
       "<tr>\n",
       "  <th>Model:</th>                   <td>OLS</td>       <th>  Adj. R-squared:    </th> <td>   0.788</td> \n",
       "</tr>\n",
       "<tr>\n",
       "  <th>Method:</th>             <td>Least Squares</td>  <th>  F-statistic:       </th> <td>   2149.</td> \n",
       "</tr>\n",
       "<tr>\n",
       "  <th>Date:</th>             <td>Sun, 24 May 2020</td> <th>  Prob (F-statistic):</th> <td>1.53e-196</td>\n",
       "</tr>\n",
       "<tr>\n",
       "  <th>Time:</th>                 <td>00:15:59</td>     <th>  Log-Likelihood:    </th> <td> -458.63</td> \n",
       "</tr>\n",
       "<tr>\n",
       "  <th>No. Observations:</th>      <td>   578</td>      <th>  AIC:               </th> <td>   921.3</td> \n",
       "</tr>\n",
       "<tr>\n",
       "  <th>Df Residuals:</th>          <td>   576</td>      <th>  BIC:               </th> <td>   930.0</td> \n",
       "</tr>\n",
       "<tr>\n",
       "  <th>Df Model:</th>              <td>     1</td>      <th>                     </th>     <td> </td>    \n",
       "</tr>\n",
       "<tr>\n",
       "  <th>Covariance Type:</th>      <td>nonrobust</td>    <th>                     </th>     <td> </td>    \n",
       "</tr>\n",
       "</table>\n",
       "<table class=\"simpletable\">\n",
       "<tr>\n",
       "    <td></td>       <th>coef</th>     <th>std err</th>      <th>t</th>      <th>P>|t|</th>  <th>[0.025</th>    <th>0.975]</th>  \n",
       "</tr>\n",
       "<tr>\n",
       "  <th>const</th> <td>    6.4272</td> <td>    0.114</td> <td>   56.255</td> <td> 0.000</td> <td>    6.203</td> <td>    6.652</td>\n",
       "</tr>\n",
       "<tr>\n",
       "  <th>x1</th>    <td>   -0.9373</td> <td>    0.020</td> <td>  -46.358</td> <td> 0.000</td> <td>   -0.977</td> <td>   -0.898</td>\n",
       "</tr>\n",
       "</table>\n",
       "<table class=\"simpletable\">\n",
       "<tr>\n",
       "  <th>Omnibus:</th>       <td>11.583</td> <th>  Durbin-Watson:     </th> <td>   1.069</td>\n",
       "</tr>\n",
       "<tr>\n",
       "  <th>Prob(Omnibus):</th> <td> 0.003</td> <th>  Jarque-Bera (JB):  </th> <td>  11.798</td>\n",
       "</tr>\n",
       "<tr>\n",
       "  <th>Skew:</th>          <td>-0.348</td> <th>  Prob(JB):          </th> <td> 0.00274</td>\n",
       "</tr>\n",
       "<tr>\n",
       "  <th>Kurtosis:</th>      <td> 3.078</td> <th>  Cond. No.          </th> <td>    29.8</td>\n",
       "</tr>\n",
       "</table><br/><br/>Warnings:<br/>[1] Standard Errors assume that the covariance matrix of the errors is correctly specified."
      ],
      "text/plain": [
       "<class 'statsmodels.iolib.summary.Summary'>\n",
       "\"\"\"\n",
       "                            OLS Regression Results                            \n",
       "==============================================================================\n",
       "Dep. Variable:                      y   R-squared:                       0.789\n",
       "Model:                            OLS   Adj. R-squared:                  0.788\n",
       "Method:                 Least Squares   F-statistic:                     2149.\n",
       "Date:                Sun, 24 May 2020   Prob (F-statistic):          1.53e-196\n",
       "Time:                        00:15:59   Log-Likelihood:                -458.63\n",
       "No. Observations:                 578   AIC:                             921.3\n",
       "Df Residuals:                     576   BIC:                             930.0\n",
       "Df Model:                           1                                         \n",
       "Covariance Type:            nonrobust                                         \n",
       "==============================================================================\n",
       "                 coef    std err          t      P>|t|      [0.025      0.975]\n",
       "------------------------------------------------------------------------------\n",
       "const          6.4272      0.114     56.255      0.000       6.203       6.652\n",
       "x1            -0.9373      0.020    -46.358      0.000      -0.977      -0.898\n",
       "==============================================================================\n",
       "Omnibus:                       11.583   Durbin-Watson:                   1.069\n",
       "Prob(Omnibus):                  0.003   Jarque-Bera (JB):               11.798\n",
       "Skew:                          -0.348   Prob(JB):                      0.00274\n",
       "Kurtosis:                       3.078   Cond. No.                         29.8\n",
       "==============================================================================\n",
       "\n",
       "Warnings:\n",
       "[1] Standard Errors assume that the covariance matrix of the errors is correctly specified.\n",
       "\"\"\""
      ]
     },
     "execution_count": 11,
     "metadata": {},
     "output_type": "execute_result"
    }
   ],
   "source": [
    "res.summary()"
   ]
  },
  {
   "cell_type": "code",
   "execution_count": null,
   "metadata": {
    "papermill": {
     "duration": 0.012964,
     "end_time": "2020-05-24T04:15:59.166098",
     "exception": false,
     "start_time": "2020-05-24T04:15:59.153134",
     "status": "completed"
    },
    "tags": []
   },
   "outputs": [],
   "source": []
  }
 ],
 "metadata": {
  "kernelspec": {
   "display_name": "Python 3",
   "language": "python",
   "name": "python3"
  },
  "language_info": {
   "codemirror_mode": {
    "name": "ipython",
    "version": 3
   },
   "file_extension": ".py",
   "mimetype": "text/x-python",
   "name": "python",
   "nbconvert_exporter": "python",
   "pygments_lexer": "ipython3",
   "version": "3.7.5"
  },
  "papermill": {
   "duration": 3.816031,
   "end_time": "2020-05-24T04:15:59.290063",
   "environment_variables": {},
   "exception": null,
   "input_path": "G:\\My Drive\\projects\\qualitative analysis of literature\\post 5-12-2020\\git repository _ citation-deaths\\knowknow\\analyses\\ubiquitous power-law behavior.ipynb",
   "output_path": "G:\\My Drive\\projects\\qualitative analysis of literature\\post 5-12-2020\\git repository _ citation-deaths\\knowknow\\analyses\\ubiquitous power-law behavior.ipynb",
   "parameters": {
    "birth_key": "first",
    "database_name": "sociology-jstor",
    "definitions_of_death": [
     "death2",
     "death3",
     "death5"
    ],
    "dtype": "t"
   },
   "start_time": "2020-05-24T04:15:55.474032",
   "version": "2.1.1"
  }
 },
 "nbformat": 4,
 "nbformat_minor": 4
}
