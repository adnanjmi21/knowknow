{
 "cells": [
  {
   "cell_type": "code",
   "execution_count": 1,
   "metadata": {
    "execution": {
     "iopub.execute_input": "2020-05-25T08:59:18.930837Z",
     "iopub.status.busy": "2020-05-25T08:59:18.930837Z",
     "iopub.status.idle": "2020-05-25T08:59:19.918243Z",
     "shell.execute_reply": "2020-05-25T08:59:19.918243Z"
    },
    "papermill": {
     "duration": 1.008346,
     "end_time": "2020-05-25T08:59:19.918243",
     "exception": false,
     "start_time": "2020-05-25T08:59:18.909897",
     "status": "completed"
    },
    "tags": []
   },
   "outputs": [],
   "source": [
    "import sys; sys.path.append(_dh[0].split(\"knowknow\")[0])\n",
    "from knowknow import *"
   ]
  },
  {
   "cell_type": "markdown",
   "metadata": {
    "papermill": {
     "duration": 0.01496,
     "end_time": "2020-05-25T08:59:19.950158",
     "exception": false,
     "start_time": "2020-05-25T08:59:19.935198",
     "status": "completed"
    },
    "tags": []
   },
   "source": [
    "# User settings"
   ]
  },
  {
   "cell_type": "code",
   "execution_count": 2,
   "metadata": {
    "execution": {
     "iopub.execute_input": "2020-05-25T08:59:19.983310Z",
     "iopub.status.busy": "2020-05-25T08:59:19.983310Z",
     "iopub.status.idle": "2020-05-25T08:59:19.985305Z",
     "shell.execute_reply": "2020-05-25T08:59:19.985305Z"
    },
    "papermill": {
     "duration": 0.01919,
     "end_time": "2020-05-25T08:59:19.985305",
     "exception": false,
     "start_time": "2020-05-25T08:59:19.966115",
     "status": "completed"
    },
    "tags": []
   },
   "outputs": [],
   "source": [
    "definitions_of_death = ['death_1','death_2','death_3','death_5']"
   ]
  },
  {
   "cell_type": "code",
   "execution_count": 3,
   "metadata": {
    "execution": {
     "iopub.execute_input": "2020-05-25T08:59:20.017219Z",
     "iopub.status.busy": "2020-05-25T08:59:20.017219Z",
     "iopub.status.idle": "2020-05-25T08:59:20.020214Z",
     "shell.execute_reply": "2020-05-25T08:59:20.020214Z"
    },
    "papermill": {
     "duration": 0.01995,
     "end_time": "2020-05-25T08:59:20.020214",
     "exception": false,
     "start_time": "2020-05-25T08:59:20.000264",
     "status": "completed"
    },
    "tags": []
   },
   "outputs": [],
   "source": [
    "#plt.style.use('grayscale')"
   ]
  },
  {
   "cell_type": "code",
   "execution_count": 4,
   "metadata": {
    "execution": {
     "iopub.execute_input": "2020-05-25T08:59:20.077146Z",
     "iopub.status.busy": "2020-05-25T08:59:20.077146Z",
     "iopub.status.idle": "2020-05-25T08:59:20.080138Z",
     "shell.execute_reply": "2020-05-25T08:59:20.080138Z"
    },
    "papermill": {
     "duration": 0.044966,
     "end_time": "2020-05-25T08:59:20.081135",
     "exception": false,
     "start_time": "2020-05-25T08:59:20.036169",
     "status": "completed"
    },
    "tags": []
   },
   "outputs": [],
   "source": [
    "linestyles = ['-','--','-.','dotted']"
   ]
  },
  {
   "cell_type": "code",
   "execution_count": 5,
   "metadata": {
    "execution": {
     "iopub.execute_input": "2020-05-25T08:59:20.116042Z",
     "iopub.status.busy": "2020-05-25T08:59:20.115045Z",
     "iopub.status.idle": "2020-05-25T08:59:20.118064Z",
     "shell.execute_reply": "2020-05-25T08:59:20.118064Z"
    },
    "papermill": {
     "duration": 0.020972,
     "end_time": "2020-05-25T08:59:20.118064",
     "exception": false,
     "start_time": "2020-05-25T08:59:20.097092",
     "status": "completed"
    },
    "tags": [
     "parameters"
    ]
   },
   "outputs": [],
   "source": [
    "# note: can be externally modified by meta_executor\n",
    "setting_no = -1"
   ]
  },
  {
   "cell_type": "code",
   "execution_count": 6,
   "metadata": {
    "execution": {
     "iopub.execute_input": "2020-05-25T08:59:20.153941Z",
     "iopub.status.busy": "2020-05-25T08:59:20.153941Z",
     "iopub.status.idle": "2020-05-25T08:59:20.155934Z",
     "shell.execute_reply": "2020-05-25T08:59:20.155934Z"
    },
    "papermill": {
     "duration": 0.020944,
     "end_time": "2020-05-25T08:59:20.155934",
     "exception": false,
     "start_time": "2020-05-25T08:59:20.134990",
     "status": "completed"
    },
    "tags": [
     "injected-parameters"
    ]
   },
   "outputs": [],
   "source": [
    "# Parameters\n",
    "setting_no = 2\n"
   ]
  },
  {
   "cell_type": "code",
   "execution_count": 7,
   "metadata": {
    "execution": {
     "iopub.execute_input": "2020-05-25T08:59:20.194241Z",
     "iopub.status.busy": "2020-05-25T08:59:20.193206Z",
     "iopub.status.idle": "2020-05-25T08:59:20.196198Z",
     "shell.execute_reply": "2020-05-25T08:59:20.195208Z"
    },
    "papermill": {
     "duration": 0.022939,
     "end_time": "2020-05-25T08:59:20.196198",
     "exception": false,
     "start_time": "2020-05-25T08:59:20.173259",
     "status": "completed"
    },
    "tags": []
   },
   "outputs": [],
   "source": [
    "if setting_no == 0:\n",
    "    database_name = 'sociology-wos'\n",
    "    dtype = 'ta'\n",
    "    birth_key = 'first'\n",
    "    print_name = 'author'\n",
    "    print_names = 'authors'\n",
    "    print_birth = 'First citation'\n",
    "    YMIN,YMAX = 1930, 2010\n",
    "\n",
    "elif setting_no == 1:\n",
    "    database_name = 'sociology-wos'\n",
    "    dtype = 'c'\n",
    "    birth_key = 'first'\n",
    "    print_name = 'work'\n",
    "    print_names = 'works'\n",
    "    print_birth = 'Publication date'\n",
    "    YMIN,YMAX = 1930, 2010\n",
    "\n",
    "elif setting_no == 2:\n",
    "    database_name = 'sociology-jstor-basicall'\n",
    "    dtype = 't'\n",
    "    birth_key = 'first'\n",
    "    print_name = 'term'\n",
    "    print_names = 'terms'\n",
    "    print_birth = 'First use'\n",
    "    YMIN,YMAX = 1965, 2010"
   ]
  },
  {
   "cell_type": "markdown",
   "metadata": {
    "papermill": {
     "duration": 0.015963,
     "end_time": "2020-05-25T08:59:20.227121",
     "exception": false,
     "start_time": "2020-05-25T08:59:20.211158",
     "status": "completed"
    },
    "tags": []
   },
   "source": [
    "# Loading the data"
   ]
  },
  {
   "cell_type": "code",
   "execution_count": 8,
   "metadata": {
    "execution": {
     "iopub.execute_input": "2020-05-25T08:59:20.262049Z",
     "iopub.status.busy": "2020-05-25T08:59:20.260027Z",
     "iopub.status.idle": "2020-05-25T08:59:20.267011Z",
     "shell.execute_reply": "2020-05-25T08:59:20.268036Z"
    },
    "papermill": {
     "duration": 0.025961,
     "end_time": "2020-05-25T08:59:20.268036",
     "exception": false,
     "start_time": "2020-05-25T08:59:20.242075",
     "status": "completed"
    },
    "tags": []
   },
   "outputs": [],
   "source": [
    "ysum = load_variable(\"%s.%s.ysum\" % (database_name,dtype))"
   ]
  },
  {
   "cell_type": "code",
   "execution_count": 9,
   "metadata": {
    "execution": {
     "iopub.execute_input": "2020-05-25T08:59:20.304907Z",
     "iopub.status.busy": "2020-05-25T08:59:20.303910Z",
     "iopub.status.idle": "2020-05-25T08:59:20.306902Z",
     "shell.execute_reply": "2020-05-25T08:59:20.306902Z"
    },
    "papermill": {
     "duration": 0.022939,
     "end_time": "2020-05-25T08:59:20.306902",
     "exception": false,
     "start_time": "2020-05-25T08:59:20.283963",
     "status": "completed"
    },
    "tags": []
   },
   "outputs": [
    {
     "data": {
      "text/plain": [
       "[('relationship',\n",
       "  {'total': 112,\n",
       "   'death_1': None,\n",
       "   'maxcount': 7,\n",
       "   'death_6': None,\n",
       "   'name': 'relationship',\n",
       "   'death_last': None,\n",
       "   'death_max': None,\n",
       "   'maxpropy': 2004,\n",
       "   'maxprop': 0.007284079084287201,\n",
       "   'death_3': None,\n",
       "   'first': 1968,\n",
       "   'last': 2016,\n",
       "   'death_2': None,\n",
       "   'death_7': None,\n",
       "   'death_8': None,\n",
       "   'death_9': None,\n",
       "   'death_4': None,\n",
       "   'totalprop': 0.13548962372213755,\n",
       "   'death_5': None,\n",
       "   'maxcounty': 2004}),\n",
       " ('multiple',\n",
       "  {'total': 56,\n",
       "   'death_1': None,\n",
       "   'maxcount': 6,\n",
       "   'death_6': None,\n",
       "   'name': 'multiple',\n",
       "   'death_last': None,\n",
       "   'death_max': None,\n",
       "   'maxpropy': 2009,\n",
       "   'maxprop': 0.005244755244755245,\n",
       "   'death_3': None,\n",
       "   'first': 1972,\n",
       "   'last': 2015,\n",
       "   'death_2': None,\n",
       "   'death_7': None,\n",
       "   'death_8': None,\n",
       "   'death_9': None,\n",
       "   'death_4': None,\n",
       "   'totalprop': 0.05884884573363243,\n",
       "   'death_5': None,\n",
       "   'maxcounty': 2009})]"
      ]
     },
     "execution_count": 9,
     "metadata": {},
     "output_type": "execute_result"
    }
   ],
   "source": [
    "list(ysum.items())[:2]"
   ]
  },
  {
   "cell_type": "code",
   "execution_count": 10,
   "metadata": {
    "execution": {
     "iopub.execute_input": "2020-05-25T08:59:20.362852Z",
     "iopub.status.busy": "2020-05-25T08:59:20.362852Z",
     "iopub.status.idle": "2020-05-25T08:59:20.599220Z",
     "shell.execute_reply": "2020-05-25T08:59:20.599220Z"
    },
    "papermill": {
     "duration": 0.254319,
     "end_time": "2020-05-25T08:59:20.599220",
     "exception": false,
     "start_time": "2020-05-25T08:59:20.344901",
     "status": "completed"
    },
    "tags": []
   },
   "outputs": [
    {
     "name": "stdout",
     "output_type": "stream",
     "text": [
      "Loaded keys: dict_keys(['t', 'fy.t', 'fy'])\n",
      "Available keys: ['c', 'c.c', 'c.c.fy', 'c.fa', 'c.fj', 'c.fy', 'c.t', 'fa', 'fa.fj.fy', 'fj', 'fj.fy', 'fj.t', 'fy', 'fy.t', 't']\n"
     ]
    }
   ],
   "source": [
    "docs = get_cnt(\"%s.doc\" % database_name, keys=[dtype, comb(dtype,'fy'), 'fy'])"
   ]
  },
  {
   "cell_type": "code",
   "execution_count": 11,
   "metadata": {
    "execution": {
     "iopub.execute_input": "2020-05-25T08:59:20.639143Z",
     "iopub.status.busy": "2020-05-25T08:59:20.636121Z",
     "iopub.status.idle": "2020-05-25T08:59:20.873486Z",
     "shell.execute_reply": "2020-05-25T08:59:20.873486Z"
    },
    "papermill": {
     "duration": 0.257311,
     "end_time": "2020-05-25T08:59:20.873486",
     "exception": false,
     "start_time": "2020-05-25T08:59:20.616175",
     "status": "completed"
    },
    "tags": []
   },
   "outputs": [
    {
     "name": "stdout",
     "output_type": "stream",
     "text": [
      "Loaded keys: dict_keys(['t', 'fy.t', 'fy'])\n",
      "Available keys: ['c', 'c.c', 'c.c.fy', 'c.fa', 'c.fj', 'c.fy', 'c.t', 'fa', 'fa.fj.fy', 'fj', 'fj.fy', 'fj.t', 'fy', 'fy.t', 't']\n"
     ]
    }
   ],
   "source": [
    "cits = get_cnt(\"%s.ind\" % database_name, keys=[dtype, comb(dtype,'fy'), 'fy'])"
   ]
  },
  {
   "cell_type": "code",
   "execution_count": 12,
   "metadata": {
    "execution": {
     "iopub.execute_input": "2020-05-25T08:59:20.909379Z",
     "iopub.status.busy": "2020-05-25T08:59:20.909379Z",
     "iopub.status.idle": "2020-05-25T08:59:20.912371Z",
     "shell.execute_reply": "2020-05-25T08:59:20.912371Z"
    },
    "papermill": {
     "duration": 0.021956,
     "end_time": "2020-05-25T08:59:20.912371",
     "exception": false,
     "start_time": "2020-05-25T08:59:20.890415",
     "status": "completed"
    },
    "tags": []
   },
   "outputs": [
    {
     "data": {
      "text/plain": [
       "[t(t='economic-outcomes'),\n",
       " t(t='max'),\n",
       " t(t='ethic-protestant'),\n",
       " t(t='relationship'),\n",
       " t(t='economic')]"
      ]
     },
     "execution_count": 12,
     "metadata": {},
     "output_type": "execute_result"
    }
   ],
   "source": [
    "list(docs[dtype])[:5]"
   ]
  },
  {
   "cell_type": "markdown",
   "metadata": {
    "papermill": {
     "duration": 0.017952,
     "end_time": "2020-05-25T08:59:20.948275",
     "exception": false,
     "start_time": "2020-05-25T08:59:20.930323",
     "status": "completed"
    },
    "tags": []
   },
   "source": [
    "# Number of distinct items cited in each year"
   ]
  },
  {
   "cell_type": "code",
   "execution_count": 13,
   "metadata": {
    "execution": {
     "iopub.execute_input": "2020-05-25T08:59:20.991188Z",
     "iopub.status.busy": "2020-05-25T08:59:20.986173Z",
     "iopub.status.idle": "2020-05-25T08:59:21.299788Z",
     "shell.execute_reply": "2020-05-25T08:59:21.299788Z"
    },
    "papermill": {
     "duration": 0.334559,
     "end_time": "2020-05-25T08:59:21.299788",
     "exception": false,
     "start_time": "2020-05-25T08:59:20.965229",
     "status": "completed"
    },
    "tags": []
   },
   "outputs": [
    {
     "data": {
      "image/png": "[encoded data removed]",
      "text/plain": [
       "<Figure size 720x144 with 1 Axes>"
      ]
     },
     "metadata": {},
     "output_type": "display_data"
    }
   ],
   "source": [
    "plt.figure(figsize=(10,2))\n",
    "\n",
    "cc = Counter( cross.fy for cross in cits[comb(dtype, 'fy')] )\n",
    "years = range(1900,2020)\n",
    "plt.plot(\n",
    "    years,\n",
    "    [cc[x] for x in years]\n",
    ")\n",
    "plt.title(\"Number of distinct %s cited\" % print_names)\n",
    "plt.xlabel(\"year\")\n",
    "plt.ylabel(\"Number of distinct %s\" % print_names)\n",
    "save_figure( \"Number of distinct %s cited (%s)\" % (print_names, database_name) )"
   ]
  },
  {
   "cell_type": "markdown",
   "metadata": {
    "papermill": {
     "duration": 0.016954,
     "end_time": "2020-05-25T08:59:21.335692",
     "exception": false,
     "start_time": "2020-05-25T08:59:21.318738",
     "status": "completed"
    },
    "tags": []
   },
   "source": [
    "# Probability of death based on cohort, YRLOOK"
   ]
  },
  {
   "cell_type": "markdown",
   "metadata": {
    "papermill": {
     "duration": 0.016951,
     "end_time": "2020-05-25T08:59:21.392540",
     "exception": false,
     "start_time": "2020-05-25T08:59:21.375589",
     "status": "completed"
    },
    "tags": []
   },
   "source": [
    "The following plot shows the percent of "
   ]
  },
  {
   "cell_type": "code",
   "execution_count": 14,
   "metadata": {
    "execution": {
     "iopub.execute_input": "2020-05-25T08:59:21.434337Z",
     "iopub.status.busy": "2020-05-25T08:59:21.434337Z",
     "iopub.status.idle": "2020-05-25T08:59:21.436358Z",
     "shell.execute_reply": "2020-05-25T08:59:21.436358Z"
    },
    "papermill": {
     "duration": 0.025958,
     "end_time": "2020-05-25T08:59:21.436358",
     "exception": false,
     "start_time": "2020-05-25T08:59:21.410400",
     "status": "completed"
    },
    "tags": []
   },
   "outputs": [],
   "source": [
    "def birthdate_pdead(YRLOOK):\n",
    "\n",
    "    dying_count = defaultdict(lambda:defaultdict(int))\n",
    "\n",
    "    step = 5\n",
    "\n",
    "    # first we go through and count how many publications born in each year are dead before YRLOOK\n",
    "\n",
    "    # loop through entries\n",
    "    for k, x in ysum.items():\n",
    "        for dk in definitions_of_death:\n",
    "            dying_count[dk][(\n",
    "                (x[birth_key]//step)*step,\n",
    "                x[dk] is not None and x[dk] < YRLOOK\n",
    "            )] += 1\n",
    "\n",
    "    counts = range((YMIN//step)*step,(YMAX//step)*step,step)\n",
    "\n",
    "    for i,dk in enumerate(definitions_of_death):\n",
    "        probs = [ \n",
    "            dying_count[dk][(c,True)] / (dying_count[dk][(c,True)]+dying_count[dk][(c,False)])     \n",
    "            if (dying_count[dk][(c,True)]+dying_count[dk][(c,False)]>0) else 0 \n",
    "            for c in counts \n",
    "        ]\n",
    "        plt.plot(counts,probs,label=dk,linestyle=linestyles[i], color='black')\n",
    "\n",
    "    plt.xlabel(\"birth date\")\n",
    "    plt.ylabel(\"P(dead by %s)\" % YRLOOK)\n",
    "    plt.legend();\n",
    "    plt.ylim(0,1)\n",
    "    \n",
    "    save_figure(\"Probability of cited %s death by %s, by cohort (%s)\" % (print_name, YRLOOK, database_name) )"
   ]
  },
  {
   "cell_type": "code",
   "execution_count": 15,
   "metadata": {
    "execution": {
     "iopub.execute_input": "2020-05-25T08:59:21.488784Z",
     "iopub.status.busy": "2020-05-25T08:59:21.487789Z",
     "iopub.status.idle": "2020-05-25T08:59:21.731224Z",
     "shell.execute_reply": "2020-05-25T08:59:21.731224Z"
    },
    "papermill": {
     "duration": 0.276941,
     "end_time": "2020-05-25T08:59:21.731224",
     "exception": false,
     "start_time": "2020-05-25T08:59:21.454283",
     "status": "completed"
    },
    "tags": []
   },
   "outputs": [
    {
     "data": {
      "image/png": "[encoded data removed]",
      "text/plain": [
       "<Figure size 432x288 with 1 Axes>"
      ]
     },
     "metadata": {},
     "output_type": "display_data"
    }
   ],
   "source": [
    "birthdate_pdead(1975)"
   ]
  },
  {
   "cell_type": "code",
   "execution_count": 16,
   "metadata": {
    "execution": {
     "iopub.execute_input": "2020-05-25T08:59:21.816024Z",
     "iopub.status.busy": "2020-05-25T08:59:21.776103Z",
     "iopub.status.idle": "2020-05-25T08:59:22.060343Z",
     "shell.execute_reply": "2020-05-25T08:59:22.060343Z"
    },
    "papermill": {
     "duration": 0.311167,
     "end_time": "2020-05-25T08:59:22.060343",
     "exception": false,
     "start_time": "2020-05-25T08:59:21.749176",
     "status": "completed"
    },
    "tags": []
   },
   "outputs": [
    {
     "data": {
      "image/png": "[encoded data removed]",
      "text/plain": [
       "<Figure size 432x288 with 1 Axes>"
      ]
     },
     "metadata": {},
     "output_type": "display_data"
    }
   ],
   "source": [
    "birthdate_pdead(1985)"
   ]
  },
  {
   "cell_type": "code",
   "execution_count": 17,
   "metadata": {
    "execution": {
     "iopub.execute_input": "2020-05-25T08:59:22.109212Z",
     "iopub.status.busy": "2020-05-25T08:59:22.106220Z",
     "iopub.status.idle": "2020-05-25T08:59:22.355559Z",
     "shell.execute_reply": "2020-05-25T08:59:22.355559Z"
    },
    "papermill": {
     "duration": 0.275269,
     "end_time": "2020-05-25T08:59:22.355559",
     "exception": false,
     "start_time": "2020-05-25T08:59:22.080290",
     "status": "completed"
    },
    "tags": []
   },
   "outputs": [
    {
     "data": {
      "image/png": "[encoded data removed]",
      "text/plain": [
       "<Figure size 432x288 with 1 Axes>"
      ]
     },
     "metadata": {},
     "output_type": "display_data"
    }
   ],
   "source": [
    "birthdate_pdead(1995)"
   ]
  },
  {
   "cell_type": "code",
   "execution_count": 18,
   "metadata": {
    "execution": {
     "iopub.execute_input": "2020-05-25T08:59:22.417394Z",
     "iopub.status.busy": "2020-05-25T08:59:22.414401Z",
     "iopub.status.idle": "2020-05-25T08:59:22.663734Z",
     "shell.execute_reply": "2020-05-25T08:59:22.663734Z"
    },
    "papermill": {
     "duration": 0.286234,
     "end_time": "2020-05-25T08:59:22.663734",
     "exception": false,
     "start_time": "2020-05-25T08:59:22.377500",
     "status": "completed"
    },
    "tags": []
   },
   "outputs": [
    {
     "data": {
      "image/png": "[encoded data removed]",
      "text/plain": [
       "<Figure size 432x288 with 1 Axes>"
      ]
     },
     "metadata": {},
     "output_type": "display_data"
    }
   ],
   "source": [
    "birthdate_pdead(2005)"
   ]
  },
  {
   "cell_type": "markdown",
   "metadata": {
    "papermill": {
     "duration": 0.020958,
     "end_time": "2020-05-25T08:59:22.705655",
     "exception": false,
     "start_time": "2020-05-25T08:59:22.684697",
     "status": "completed"
    },
    "tags": []
   },
   "source": [
    "# age distribution, depending on when you're looking from"
   ]
  },
  {
   "cell_type": "code",
   "execution_count": 19,
   "metadata": {
    "execution": {
     "iopub.execute_input": "2020-05-25T08:59:22.765344Z",
     "iopub.status.busy": "2020-05-25T08:59:22.755370Z",
     "iopub.status.idle": "2020-05-25T08:59:23.170262Z",
     "shell.execute_reply": "2020-05-25T08:59:23.170262Z"
    },
    "papermill": {
     "duration": 0.44365,
     "end_time": "2020-05-25T08:59:23.170262",
     "exception": false,
     "start_time": "2020-05-25T08:59:22.726612",
     "status": "completed"
    },
    "tags": []
   },
   "outputs": [
    {
     "data": {
      "image/png": "[encoded data removed]",
      "text/plain": [
       "<Figure size 432x288 with 1 Axes>"
      ]
     },
     "metadata": {},
     "output_type": "display_data"
    }
   ],
   "source": [
    "for YRLOOK in range(1980,2020,10):\n",
    "\n",
    "    born = lambda x: x[birth_key]\n",
    "    died = lambda x: x[death_key]\n",
    "\n",
    "    cits_in_range = defaultdict(int)\n",
    "\n",
    "    for cross, count in cits[ comb(dtype, 'fy') ].items():\n",
    "        if getattr(cross,dtype) not in ysum:\n",
    "            continue\n",
    "        if not( YRLOOK <= cross.fy <= YRLOOK+5 ):\n",
    "            continue\n",
    "        cits_in_range[ ysum[ getattr(cross,dtype) ][birth_key] ] += count\n",
    "\n",
    "    years = range(0,100,1)\n",
    "    props = np.array([\n",
    "        cits_in_range[YRLOOK - x] for x in years  # transform to ages\n",
    "    ])\n",
    "    props = props/np.sum(props)\n",
    "    props *= 100\n",
    "\n",
    "    plt.plot(\n",
    "        years,\n",
    "        props,\n",
    "        #label=\"%s (%s)\" % (YRLOOK,num)\n",
    "        label=YRLOOK\n",
    "    );\n",
    "    plt.scatter(years,props,s=5)\n",
    "\n",
    "plt.title(\"Age Distribution - cited %s in decade\" % print_names)\n",
    "plt.xlim((-5,30))\n",
    "plt.ylim((0,plt.ylim()[1]*1.2))\n",
    "plt.yticks(\n",
    "    range(0,int(plt.ylim()[1]),1),\n",
    "    [\"%s%%\"%x for x in range(0,int(plt.ylim()[1]),1)]\n",
    ")\n",
    "plt.ylabel(\"P(Age)\")\n",
    "plt.xlabel(\"Age\")\n",
    "lgnd = plt.legend(fancybox=True, title='in decade', prop={'size': 12})\n",
    "\n",
    "for h in lgnd.legendHandles:\n",
    "    h._sizes = [30]\n",
    "\n",
    "plt.xlim((0,15))\n",
    "    \n",
    "save_figure(\"Cited %s age distribution, by decade of citation (%s)\" % (print_name, database_name))\n",
    "#plt.legend()\n",
    "plt.show()"
   ]
  },
  {
   "cell_type": "markdown",
   "metadata": {
    "papermill": {
     "duration": 0.022939,
     "end_time": "2020-05-25T08:59:23.216108",
     "exception": false,
     "start_time": "2020-05-25T08:59:23.193169",
     "status": "completed"
    },
    "tags": []
   },
   "source": [
    "# proportion dead based from each cohort"
   ]
  },
  {
   "cell_type": "code",
   "execution_count": 20,
   "metadata": {
    "execution": {
     "iopub.execute_input": "2020-05-25T08:59:23.276319Z",
     "iopub.status.busy": "2020-05-25T08:59:23.264359Z",
     "iopub.status.idle": "2020-05-25T08:59:23.570635Z",
     "shell.execute_reply": "2020-05-25T08:59:23.571636Z"
    },
    "papermill": {
     "duration": 0.334231,
     "end_time": "2020-05-25T08:59:23.571636",
     "exception": false,
     "start_time": "2020-05-25T08:59:23.237405",
     "status": "completed"
    },
    "tags": []
   },
   "outputs": [
    {
     "data": {
      "image/png": "[encoded data removed]",
      "text/plain": [
       "<Figure size 432x288 with 1 Axes>"
      ]
     },
     "metadata": {},
     "output_type": "display_data"
    }
   ],
   "source": [
    "YLOOK = 2000\n",
    "\n",
    "for death_key in definitions_of_death:\n",
    "\n",
    "    born = lambda x: x[birth_key]\n",
    "    died = lambda x: x[death_key]\n",
    "\n",
    "    years = range(YMIN,YMAX)\n",
    "    pdied = {\n",
    "        y: Counter( (died(x) is not None and died(x)<=YLOOK) for x in ysum.values() if x['first']==y ) + \n",
    "            Counter( \"total\" for x in ysum.values() if x['first']==y )\n",
    "        for y in years\n",
    "    }\n",
    "\n",
    "    props = np.array([ pdied[y][True]/pdied[y]['total'] if pdied[y]['total']>0 else np.nan for y in years ])\n",
    "\n",
    "    plt.plot(\n",
    "        years,\n",
    "        props*100,\n",
    "        label=death_key\n",
    "    );\n",
    "    plt.scatter(years,props*100,s=5)\n",
    "    #plt.errorbar(years,percents,se*100)\n",
    "\n",
    "plt.title(\"Proportion %s dead, by cohort\" % print_names.lower())\n",
    "plt.yticks(\n",
    "    range(0,110,10),\n",
    "    [\"%s%%\"%x for x in range(0,110,10)]\n",
    ")\n",
    "plt.ylabel(\"Percent dead\")\n",
    "plt.xlabel(\"Date of %s\" % print_birth.lower())\n",
    "\n",
    "plt.xlim(1960,YMAX)\n",
    "\n",
    "\n",
    "plt.legend()\n",
    "\n",
    "save_figure(\"Proportion of %s dead by %s, by cohort (%s)\" % (print_names.lower(), YLOOK, database_name))\n",
    "plt.show()"
   ]
  },
  {
   "cell_type": "code",
   "execution_count": 21,
   "metadata": {
    "execution": {
     "iopub.execute_input": "2020-05-25T08:59:23.622389Z",
     "iopub.status.busy": "2020-05-25T08:59:23.622389Z",
     "iopub.status.idle": "2020-05-25T08:59:23.623371Z",
     "shell.execute_reply": "2020-05-25T08:59:23.623371Z"
    },
    "papermill": {
     "duration": 0.028822,
     "end_time": "2020-05-25T08:59:23.623371",
     "exception": false,
     "start_time": "2020-05-25T08:59:23.594549",
     "status": "completed"
    },
    "tags": []
   },
   "outputs": [],
   "source": [
    "# this analysis doesn't make sense for terms or people\n",
    "if dtype == 'c':\n",
    "\n",
    "    cc = Counter(x['first'] - x['pub'] for x in ysum.values() )\n",
    "    x = range(0,20,1)\n",
    "    plt.bar(\n",
    "        x,\n",
    "        [cc[xx] for xx in x],\n",
    "        1,\n",
    "        alpha=0.1\n",
    "    )\n",
    "\n",
    "    plt.bar(\n",
    "        x,\n",
    "        [cc[xx] for xx in x],\n",
    "        1,\n",
    "        color='black',\n",
    "        fill=False,\n",
    "        linestyle='-'\n",
    "    )\n",
    "\n",
    "    ys = range(0,70000, 10000)\n",
    "    plt.yticks(\n",
    "        ys,\n",
    "        [\"%dk\"%(x//1000) for x in ys]\n",
    "    )\n",
    "\n",
    "    plt.xticks(\n",
    "        range(0,21,1)\n",
    "    );\n",
    "\n",
    "    plt.grid(False, axis='x')\n",
    "\n",
    "    plt.ylabel(\"Number of works\")\n",
    "    plt.xlabel(\"Number of years until %s\"%print_birth.lower());\n",
    "\n",
    "    save_figure(\"Sleeping beauties - between pub and first (%s)\"%(database_name))"
   ]
  }
 ],
 "metadata": {
  "kernelspec": {
   "display_name": "Python 3",
   "language": "python",
   "name": "python3"
  },
  "language_info": {
   "codemirror_mode": {
    "name": "ipython",
    "version": 3
   },
   "file_extension": ".py",
   "mimetype": "text/x-python",
   "name": "python",
   "nbconvert_exporter": "python",
   "pygments_lexer": "ipython3",
   "version": "3.7.5"
  },
  "papermill": {
   "duration": 7.076892,
   "end_time": "2020-05-25T08:59:24.732843",
   "environment_variables": {},
   "exception": null,
   "input_path": "G:\\My Drive\\projects\\qualitative analysis of literature\\post 5-12-2020\\git repository _ citation-deaths\\knowknow\\analyses\\demographics.ipynb",
   "output_path": "G:\\My Drive\\projects\\qualitative analysis of literature\\post 5-12-2020\\git repository _ citation-deaths\\knowknow\\analyses\\demographics.ipynb",
   "parameters": {
    "setting_no": 2
   },
   "start_time": "2020-05-25T08:59:17.655951",
   "version": "2.1.1"
  }
 },
 "nbformat": 4,
 "nbformat_minor": 4
}