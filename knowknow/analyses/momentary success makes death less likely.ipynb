{
 "cells": [
  {
   "cell_type": "code",
   "execution_count": 1,
   "metadata": {
    "execution": {
     "iopub.execute_input": "2020-05-23T17:01:25.392173Z",
     "iopub.status.busy": "2020-05-23T17:01:25.392173Z",
     "iopub.status.idle": "2020-05-23T17:01:26.394785Z",
     "shell.execute_reply": "2020-05-23T17:01:26.394785Z"
    },
    "papermill": {
     "duration": 1.015485,
     "end_time": "2020-05-23T17:01:26.395783",
     "exception": false,
     "start_time": "2020-05-23T17:01:25.380298",
     "status": "completed"
    },
    "tags": []
   },
   "outputs": [],
   "source": [
    "import sys; sys.path.append(_dh[0].split(\"knowknow\")[0])\n",
    "from knowknow import *"
   ]
  },
  {
   "cell_type": "code",
   "execution_count": 2,
   "metadata": {
    "execution": {
     "iopub.execute_input": "2020-05-23T17:01:26.415729Z",
     "iopub.status.busy": "2020-05-23T17:01:26.415729Z",
     "iopub.status.idle": "2020-05-23T17:01:26.418722Z",
     "shell.execute_reply": "2020-05-23T17:01:26.417724Z"
    },
    "papermill": {
     "duration": 0.013963,
     "end_time": "2020-05-23T17:01:26.418722",
     "exception": false,
     "start_time": "2020-05-23T17:01:26.404759",
     "status": "completed"
    },
    "tags": [
     "parameters"
    ]
   },
   "outputs": [],
   "source": [
    "database_name = 'sociology-wos'\n",
    "dtype = 'c'\n",
    "YRLOOK = 2000"
   ]
  },
  {
   "cell_type": "code",
   "execution_count": 3,
   "metadata": {
    "execution": {
     "iopub.execute_input": "2020-05-23T17:01:26.439669Z",
     "iopub.status.busy": "2020-05-23T17:01:26.439669Z",
     "iopub.status.idle": "2020-05-23T17:01:26.442661Z",
     "shell.execute_reply": "2020-05-23T17:01:26.442661Z"
    },
    "papermill": {
     "duration": 0.015961,
     "end_time": "2020-05-23T17:01:26.442661",
     "exception": false,
     "start_time": "2020-05-23T17:01:26.426700",
     "status": "completed"
    },
    "tags": [
     "injected-parameters"
    ]
   },
   "outputs": [],
   "source": [
    "# Parameters\n",
    "database_name = \"sociology-jstor\"\n",
    "dtype = \"t\"\n"
   ]
  },
  {
   "cell_type": "code",
   "execution_count": 4,
   "metadata": {
    "execution": {
     "iopub.execute_input": "2020-05-23T17:01:26.465701Z",
     "iopub.status.busy": "2020-05-23T17:01:26.465701Z",
     "iopub.status.idle": "2020-05-23T17:01:27.036175Z",
     "shell.execute_reply": "2020-05-23T17:01:27.036175Z"
    },
    "papermill": {
     "duration": 0.585434,
     "end_time": "2020-05-23T17:01:27.036175",
     "exception": false,
     "start_time": "2020-05-23T17:01:26.450741",
     "status": "completed"
    },
    "tags": []
   },
   "outputs": [
    {
     "name": "stdout",
     "output_type": "stream",
     "text": [
      "Loaded keys: dict_keys(['fy.t'])\n",
      "Available keys: ['a', 'a.c', 'a.fj.fy', 'c', 'c.c', 'c.fa', 'c.fj', 'c.fy', 'c.t', 'fa', 'fa.fj.fy', 'fj', 'fj.fy', 'fj.t', 'fy', 'fy.t', 't']\n"
     ]
    }
   ],
   "source": [
    "cits = get_cnt(\"%s.doc\" % database_name, [comb(dtype,'fy')])\n",
    "\n",
    "cysum = load_variable(\"%s.%s.ysum\" % (database_name,dtype))\n",
    "cysum = list(cysum.values())"
   ]
  },
  {
   "cell_type": "code",
   "execution_count": 5,
   "metadata": {
    "execution": {
     "iopub.execute_input": "2020-05-23T17:01:27.095018Z",
     "iopub.status.busy": "2020-05-23T17:01:27.089065Z",
     "iopub.status.idle": "2020-05-23T17:01:27.101002Z",
     "shell.execute_reply": "2020-05-23T17:01:27.101002Z"
    },
    "papermill": {
     "duration": 0.053857,
     "end_time": "2020-05-23T17:01:27.101002",
     "exception": false,
     "start_time": "2020-05-23T17:01:27.047145",
     "status": "completed"
    },
    "tags": []
   },
   "outputs": [],
   "source": [
    "def dead_now_cited_when(RANGE_START, RANGE_END):\n",
    "\n",
    "    count_in_range = defaultdict(int)\n",
    "    for cross,count in cits[comb(dtype,'fy')].items():\n",
    "        if RANGE_END >= cross.fy >= RANGE_START:\n",
    "            count_in_range[getattr(cross,dtype)] += count\n",
    "\n",
    "    dying_count = defaultdict(lambda:defaultdict(int))\n",
    "\n",
    "    step = 5\n",
    "    counts = np.array(range(0,100,step))\n",
    "    linestyles = ['-','--','-.']\n",
    "\n",
    "    for x in cysum:\n",
    "\n",
    "        for dk in ['death1','death2','death3','death5']:\n",
    "            dying_count[dk][(\n",
    "                (count_in_range[x['name']]//step)*step,\n",
    "                x[dk] is not None and x[dk] <= 2000\n",
    "            )] += 1\n",
    "            dying_count[dk][(\n",
    "                (count_in_range[x['name']]//step)*step,\n",
    "                \"total\"\n",
    "            )] += 1\n",
    "\n",
    "    plt.subplots_adjust(top=1.5)\n",
    "\n",
    "    shift = 7.5\n",
    "\n",
    "    plt.subplot(3,1,1)\n",
    "    for i,dk in enumerate(['death1']):\n",
    "        probs = np.array([ \n",
    "            dying_count[dk][(c,True)]/dying_count[dk][(c,\"total\")] \n",
    "            if dying_count[dk][(c,\"total\")] else float(\"nan\") \n",
    "            for c in counts \n",
    "        ])\n",
    "        plt.plot(counts+step/2,probs*100,label=dk,linestyle=linestyles[i], color='black')\n",
    "    plt.legend();\n",
    "    plt.xticks(counts)\n",
    "    plt.xlim(min(counts)-shift,max(counts)+shift)\n",
    "    plt.ylabel(\"% dead\")\n",
    "\n",
    "    plt.subplot(3,1,2)\n",
    "    for i,dk in enumerate(['death2','death3','death5']):\n",
    "        probs = np.array([ \n",
    "            dying_count[dk][(c,True)] / dying_count[dk][(c,\"total\")] \n",
    "            if dying_count[dk][(c,\"total\")] else float(\"nan\") \n",
    "            for c in counts \n",
    "        ])\n",
    "        plt.plot(counts+step/2,probs*100,label=dk,linestyle=linestyles[i], color='black')\n",
    "        \n",
    "    plt.legend();\n",
    "    plt.xticks(counts)\n",
    "    plt.xlim(min(counts)-shift,max(counts)+shift)\n",
    "    #plt.xlabel(\"Number of citations\")\n",
    "    plt.ylabel(\"% dead\")\n",
    "\n",
    "    totals = [ dying_count[dk][(c,\"total\")] for c in counts ]\n",
    "    plt.subplot(3,1,3)\n",
    "    plt.bar(counts,np.log10(totals),5,fill=False)\n",
    "\n",
    "    plt.xlabel(\"Number of citations in %s-%s\"%(RANGE_START,RANGE_END))\n",
    "    plt.ylabel(\"# works\")\n",
    "    ytarget = np.array([1,10,50,250,1000,5000,25000,100000,500000])\n",
    "    plt.yticks(\n",
    "        np.log10(ytarget),\n",
    "        ytarget\n",
    "    )\n",
    "\n",
    "    plt.xticks(counts)\n",
    "    plt.grid(False,'both','x')\n",
    "\n",
    "    #plt.title(\"Proportion of citations published before 1980 dead$_i$ by 2010,\\nby maximum citations received in one year\")\n",
    "    save_figure(\"Probability dead by %s (%s)\" % (YRLOOK,\", \".join(str(x) for x in [\n",
    "        dtype,\n",
    "        database_name,\n",
    "        RANGE_START,\n",
    "        RANGE_END\n",
    "    ])))\n",
    "    plt.show()"
   ]
  },
  {
   "cell_type": "code",
   "execution_count": 6,
   "metadata": {
    "execution": {
     "iopub.execute_input": "2020-05-23T17:01:27.139903Z",
     "iopub.status.busy": "2020-05-23T17:01:27.133920Z",
     "iopub.status.idle": "2020-05-23T17:01:27.733191Z",
     "shell.execute_reply": "2020-05-23T17:01:27.733191Z"
    },
    "papermill": {
     "duration": 0.623197,
     "end_time": "2020-05-23T17:01:27.733191",
     "exception": false,
     "start_time": "2020-05-23T17:01:27.109994",
     "status": "completed"
    },
    "tags": []
   },
   "outputs": [
    {
     "data": {
      "image/png": "[encoded data removed]",
      "text/plain": [
       "<Figure size 432x288 with 3 Axes>"
      ]
     },
     "metadata": {},
     "output_type": "display_data"
    }
   ],
   "source": [
    "dead_now_cited_when(1975,1985)"
   ]
  }
 ],
 "metadata": {
  "kernelspec": {
   "display_name": "Python 3",
   "language": "python",
   "name": "python3"
  },
  "language_info": {
   "codemirror_mode": {
    "name": "ipython",
    "version": 3
   },
   "file_extension": ".py",
   "mimetype": "text/x-python",
   "name": "python",
   "nbconvert_exporter": "python",
   "pygments_lexer": "ipython3",
   "version": "3.7.5"
  },
  "papermill": {
   "duration": 3.70904,
   "end_time": "2020-05-23T17:01:27.851421",
   "environment_variables": {},
   "exception": null,
   "input_path": "G:\\My Drive\\projects\\qualitative analysis of literature\\post 5-12-2020\\git repository _ citation-deaths\\knowknow\\analyses\\momentary success makes death less likely.ipynb",
   "output_path": "G:\\My Drive\\projects\\qualitative analysis of literature\\post 5-12-2020\\git repository _ citation-deaths\\knowknow\\analyses\\momentary success makes death less likely.ipynb",
   "parameters": {
    "database_name": "sociology-jstor",
    "dtype": "t"
   },
   "start_time": "2020-05-23T17:01:24.142381",
   "version": "2.1.1"
  }
 },
 "nbformat": 4,
 "nbformat_minor": 4
}