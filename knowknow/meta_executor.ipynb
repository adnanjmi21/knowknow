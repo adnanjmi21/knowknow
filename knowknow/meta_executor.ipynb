{
 "cells": [
  {
   "cell_type": "markdown",
   "metadata": {},
   "source": [
    "# The Meta Executor\n",
    "\n",
    "This Jupyter notebook is able to run other notebooks.\n",
    "When it runs them, it will NOT overwrite what was in the notebook, but it will update the outputs.\n",
    "These all function to save databases, tables, or figures.\n",
    "So, hypothetically, you could run all analyses without seeing the notebooks that ran them, and peruse the results in the `all_figures.ipynb` or `all_tables.ipynb` notebooks.\n",
    "\n",
    "This notebook is also where I have centralized high-level documentation.\n",
    "To edit documentation, see the `documentation.yaml` file."
   ]
  },
  {
   "cell_type": "markdown",
   "metadata": {},
   "source": [
    "# todos\n",
    "\n",
    "+ fix the term consolidation. I want the top 30000 \"terms\" -- cooccurrences between words \n",
    "    + in terms of frequency\n",
    "    + in terms of chi2 non-independence with central citations\n",
    "    + in terms of chi2 with each other (use cortext)\n",
    "+ export demographic tables\n",
    "+ journal trends figure\n",
    "+ export figure with different kinds of deaths, consolidate multiple figures into \"bigdeaths\""
   ]
  },
  {
   "cell_type": "code",
   "execution_count": 1,
   "metadata": {},
   "outputs": [],
   "source": [
    "import sys; sys.path.append(_dh[0].split(\"knowknow\")[0])\n",
    "from knowknow import *"
   ]
  },
  {
   "cell_type": "code",
   "execution_count": 2,
   "metadata": {},
   "outputs": [],
   "source": [
    "import papermill as pm"
   ]
  },
  {
   "cell_type": "code",
   "execution_count": 3,
   "metadata": {},
   "outputs": [],
   "source": [
    "if True:\n",
    "    import logging\n",
    "    logging.basicConfig()\n",
    "    logging.getLogger().setLevel(logging.INFO)"
   ]
  },
  {
   "cell_type": "code",
   "execution_count": 4,
   "metadata": {},
   "outputs": [
    {
     "data": {
      "text/markdown": [
       "# Counting coocurrences\n",
       "\n",
       "Cultural phenomena are rich in meaning and context. Moreover, the meaning and context are what we care about, so stripping that would be a disservice. \"Consider Geertz:\"\n",
       "> Not only is the semantic structure of the figure a good deal more complex than it appears on the surface, but an analysis of that structure forces one into tracing a multiplicity of referential connections between it and social reality, so that the final picture is one of a configuration of dissimilar meanings out of whose interworking both the expressive power and the rhetorical force of the final symbol derive. (Geertz [1955] 1973, Chapter 8 Ideology as a Cultural System, p. 213)\n",
       "\n",
       "The way people understanding their world shape their action, and understandings are heterogeneous in any community, woven into a complex web of interacting pieces and parts. Understandings are constantly evolving, shifting with every conversation or Breaking News. Any quantitative technique for studying meaning must be able to capture the relational structure of cultural objects, their temporal dynamics, or it cannot be meaning.\n",
       "\n",
       "These considerations motivate how I have designed the data structure and code for this project. My attention to \"cooccurrences\" in what follows is an application of Levi Martin and Lee's (2018) formal approach to meaning. They develop the symbolic formalism I use below, as well as showing several general analytic strategies for inductive, ground-up meaning-making from count data. This approach is quite general, useful for many applications.\n",
       "\n",
       "The process is rather simple, I count cooccurrences between various attributes. For each document, for each citation in that document, I increment a dozen counters, depending on attributes of the citation, paper, journal, or author. This counting process is done once, and can be used as a compressed form of the dataset for all further analyses. In the terminology of Levi Martin and Lee, I am constructing \"hypergraphs\", and I will use their notation in what follows. For example $[c*fy]$ indicates the dataset which maps from $(c, fy) \\to count$.\n",
       "$c$ is the name of the cited work. $fy$ is the publication year of the article which made the citation. $count$ is the number of citations which are at the intersection of these properties.\n",
       "\n",
       "+ $[c]$ the number of citations each document receives\n",
       "+ $[c*fj]$ the number of citations each document receives from each journal's articles\n",
       "+ $[c*fy]$ the number of citations each document receives from each year's articles\n",
       "+ $[fj]$ the number of citations from each journal\n",
       "+ $[fj*fy]$ the number of citations in each journal in each year\n",
       "+ $[t]$ cited term total counts\n",
       "+ $[fy*t]$ cited term time series\n",
       "+ term cooccurrence with citation and journal ($[c*t]$ and [fj*t]$)\n",
       "+ \"author\" counts, the number of citations by each author ($[a]$ $[a*c]$ $[a*j*y]$)\n",
       "+ [c*c]$, the cooccurrence network between citations\n",
       "+ the death of citations can be studied using the $[c*fy]$ hypergraph\n",
       "+ $[c*fj*t]$ could be used for analyzing differential associations of $c$ to $t$ across publication venues\n",
       "+ $[ta*ta]$, $[fa*fa]$, $[t*t]$ and $[c*c]$ open the door to network-scientific methods\n",
       "\n",
       "\n",
       "\n",
       "# References\n",
       "\n",
       "\n",
       "\n",
       "+ Martin, John Levi, and Monica Lee. 2018. “A Formal Approach to Meaning.” Poetics 68(February):10–17.\n",
       "+ Geertz, Clifford. 1973. The Interpretation of Cultures. New York: Basic Books, Inc."
      ],
      "text/plain": [
       "<IPython.core.display.Markdown object>"
      ]
     },
     "metadata": {},
     "output_type": "display_data"
    }
   ],
   "source": [
    "showdocs(\"counter\")"
   ]
  },
  {
   "cell_type": "code",
   "execution_count": null,
   "metadata": {},
   "outputs": [],
   "source": [
    "# JSTOR counter\n",
    "\n",
    "if False:\n",
    "    jstor = Path(_dh[0]).joinpath('creating variables','jstor counter (cnt).ipynb')\n",
    "    pm.execute_notebook(\n",
    "        str(jstor),\n",
    "        str(jstor),\n",
    "        parameters = {},\n",
    "        nest_asyncio=True\n",
    "    )"
   ]
  },
  {
   "cell_type": "code",
   "execution_count": null,
   "metadata": {},
   "outputs": [],
   "source": [
    "# WOS counter\n",
    "\n",
    "if False:\n",
    "    wos = Path(_dh[0]).joinpath('creating variables','web of science counter (cnt).ipynb')\n",
    "    pm.execute_notebook(\n",
    "        str(wos),\n",
    "        str(wos),\n",
    "        parameters = {},\n",
    "        nest_asyncio=True\n",
    "    )"
   ]
  },
  {
   "cell_type": "code",
   "execution_count": 8,
   "metadata": {},
   "outputs": [
    {
     "data": {
      "text/markdown": [
       "# Zooming in on the top 1%\n",
       "\n",
       "I would like to look at the most successful cited authors, cited works, and cited terms. Unfortunately, this isn't so simple. There has been a dramatic increase in the supply of citations over the last 100 years, so the group with the most total citations would be skewed towards the citation preferences of recent papers. In order to account for this bias,\n",
       "\n",
       "I choose among items cited by articles published in each decade 1940-1950, 1941-1951, 1942-1952, all the way to 1980-1990. In each of these decades I determine which were the top-cited 1%. The set of all these top 1%s, from all these decade spans, comprise the 1% I will study in this paper."
      ],
      "text/plain": [
       "<IPython.core.display.Markdown object>"
      ]
     },
     "metadata": {},
     "output_type": "display_data"
    }
   ],
   "source": [
    "showdocs(\"top1\")"
   ]
  },
  {
   "cell_type": "code",
   "execution_count": 6,
   "metadata": {},
   "outputs": [
    {
     "name": "stderr",
     "output_type": "stream",
     "text": [
      "INFO:papermill:Input Notebook:  G:\\My Drive\\projects\\qualitative analysis of literature\\post 5-12-2020\\git repository _ citation-deaths\\knowknow\\creating variables\\top percent cited in decade (top1).ipynb\n",
      "INFO:papermill:Output Notebook: G:\\My Drive\\projects\\qualitative analysis of literature\\post 5-12-2020\\git repository _ citation-deaths\\knowknow\\creating variables\\top percent cited in decade (top1).ipynb\n"
     ]
    },
    {
     "data": {
      "application/vnd.jupyter.widget-view+json": {
       "model_id": "f9ba4f98f4044601a8761fd31271223c",
       "version_major": 2,
       "version_minor": 0
      },
      "text/plain": [
       "HBox(children=(FloatProgress(value=0.0, description='Executing', max=12.0, style=ProgressStyle(description_wid…"
      ]
     },
     "metadata": {},
     "output_type": "display_data"
    },
    {
     "name": "stderr",
     "output_type": "stream",
     "text": [
      "INFO:papermill:Executing notebook with kernel: python3\n"
     ]
    },
    {
     "name": "stdout",
     "output_type": "stream",
     "text": [
      "\n"
     ]
    },
    {
     "ename": "PapermillExecutionError",
     "evalue": "\n---------------------------------------------------------------------------\nException encountered at \"In [6]\":\n---------------------------------------------------------------------------\nIndexError                                Traceback (most recent call last)\n<ipython-input-6-b0ab305641fa> in <module>\n     18             count_in_range[ getattr(cross, ctype) ] += count\n     19 \n---> 20     q99 = np.quantile(np.array( list(count_in_range.values()) ), 1-top_percentile)\n     21     top1 = {k for k in count_in_range if count_in_range[k]>=q99}\n     22     all_tops.update(top1)\n\n<__array_function__ internals> in quantile(*args, **kwargs)\n\nc:\\users\\amcga\\envs\\citation-deaths\\lib\\site-packages\\numpy\\lib\\function_base.py in quantile(a, q, axis, out, overwrite_input, interpolation, keepdims)\n   3816         raise ValueError(\"Quantiles must be in the range [0, 1]\")\n   3817     return _quantile_unchecked(\n-> 3818         a, q, axis, out, overwrite_input, interpolation, keepdims)\n   3819 \n   3820 \n\nc:\\users\\amcga\\envs\\citation-deaths\\lib\\site-packages\\numpy\\lib\\function_base.py in _quantile_unchecked(a, q, axis, out, overwrite_input, interpolation, keepdims)\n   3824     r, k = _ureduce(a, func=_quantile_ureduce_func, q=q, axis=axis, out=out,\n   3825                     overwrite_input=overwrite_input,\n-> 3826                     interpolation=interpolation)\n   3827     if keepdims:\n   3828         return r.reshape(q.shape + k)\n\nc:\\users\\amcga\\envs\\citation-deaths\\lib\\site-packages\\numpy\\lib\\function_base.py in _ureduce(a, func, **kwargs)\n   3401         keepdim = (1,) * a.ndim\n   3402 \n-> 3403     r = func(a, **kwargs)\n   3404     return r, keepdim\n   3405 \n\nc:\\users\\amcga\\envs\\citation-deaths\\lib\\site-packages\\numpy\\lib\\function_base.py in _quantile_ureduce_func(a, q, axis, out, overwrite_input, interpolation, keepdims)\n   3939             n = np.isnan(ap[-1:, ...])\n   3940 \n-> 3941         x1 = take(ap, indices_below, axis=axis) * weights_below\n   3942         x2 = take(ap, indices_above, axis=axis) * weights_above\n   3943 \n\n<__array_function__ internals> in take(*args, **kwargs)\n\nc:\\users\\amcga\\envs\\citation-deaths\\lib\\site-packages\\numpy\\core\\fromnumeric.py in take(a, indices, axis, out, mode)\n    192            [5, 7]])\n    193     \"\"\"\n--> 194     return _wrapfunc(a, 'take', indices, axis=axis, out=out, mode=mode)\n    195 \n    196 \n\nc:\\users\\amcga\\envs\\citation-deaths\\lib\\site-packages\\numpy\\core\\fromnumeric.py in _wrapfunc(obj, method, *args, **kwds)\n     59 \n     60     try:\n---> 61         return bound(*args, **kwds)\n     62     except TypeError:\n     63         # A TypeError occurs if the object does have such a method in its\n\nIndexError: cannot do a non-empty take from an empty axes.\n",
     "output_type": "error",
     "traceback": [
      "\u001b[1;31m---------------------------------------------------------------------------\u001b[0m",
      "\u001b[1;31mPapermillExecutionError\u001b[0m                   Traceback (most recent call last)",
      "\u001b[1;32m<ipython-input-6-c034eb125efb>\u001b[0m in \u001b[0;36m<module>\u001b[1;34m\u001b[0m\n\u001b[0;32m     13\u001b[0m         \u001b[0mstr\u001b[0m\u001b[1;33m(\u001b[0m\u001b[0mys\u001b[0m\u001b[1;33m)\u001b[0m\u001b[1;33m,\u001b[0m\u001b[1;33m\u001b[0m\u001b[1;33m\u001b[0m\u001b[0m\n\u001b[0;32m     14\u001b[0m         \u001b[0mparameters\u001b[0m \u001b[1;33m=\u001b[0m \u001b[0msett\u001b[0m\u001b[1;33m,\u001b[0m\u001b[1;33m\u001b[0m\u001b[1;33m\u001b[0m\u001b[0m\n\u001b[1;32m---> 15\u001b[1;33m         \u001b[0mnest_asyncio\u001b[0m\u001b[1;33m=\u001b[0m\u001b[1;32mTrue\u001b[0m\u001b[1;33m\u001b[0m\u001b[1;33m\u001b[0m\u001b[0m\n\u001b[0m\u001b[0;32m     16\u001b[0m     )\n",
      "\u001b[1;32mc:\\users\\amcga\\envs\\citation-deaths\\lib\\site-packages\\papermill\\execute.py\u001b[0m in \u001b[0;36mexecute_notebook\u001b[1;34m(input_path, output_path, parameters, engine_name, request_save_on_cell_execute, prepare_only, kernel_name, progress_bar, log_output, stdout_file, stderr_file, start_timeout, report_mode, cwd, **engine_kwargs)\u001b[0m\n\u001b[0;32m    108\u001b[0m \u001b[1;33m\u001b[0m\u001b[0m\n\u001b[0;32m    109\u001b[0m             \u001b[1;31m# Check for errors first (it saves on error before raising)\u001b[0m\u001b[1;33m\u001b[0m\u001b[1;33m\u001b[0m\u001b[1;33m\u001b[0m\u001b[0m\n\u001b[1;32m--> 110\u001b[1;33m             \u001b[0mraise_for_execution_errors\u001b[0m\u001b[1;33m(\u001b[0m\u001b[0mnb\u001b[0m\u001b[1;33m,\u001b[0m \u001b[0moutput_path\u001b[0m\u001b[1;33m)\u001b[0m\u001b[1;33m\u001b[0m\u001b[1;33m\u001b[0m\u001b[0m\n\u001b[0m\u001b[0;32m    111\u001b[0m \u001b[1;33m\u001b[0m\u001b[0m\n\u001b[0;32m    112\u001b[0m         \u001b[1;31m# Write final output in case the engine didn't write it on cell completion.\u001b[0m\u001b[1;33m\u001b[0m\u001b[1;33m\u001b[0m\u001b[1;33m\u001b[0m\u001b[0m\n",
      "\u001b[1;32mc:\\users\\amcga\\envs\\citation-deaths\\lib\\site-packages\\papermill\\execute.py\u001b[0m in \u001b[0;36mraise_for_execution_errors\u001b[1;34m(nb, output_path)\u001b[0m\n\u001b[0;32m    220\u001b[0m \u001b[1;33m\u001b[0m\u001b[0m\n\u001b[0;32m    221\u001b[0m         \u001b[0mwrite_ipynb\u001b[0m\u001b[1;33m(\u001b[0m\u001b[0mnb\u001b[0m\u001b[1;33m,\u001b[0m \u001b[0moutput_path\u001b[0m\u001b[1;33m)\u001b[0m\u001b[1;33m\u001b[0m\u001b[1;33m\u001b[0m\u001b[0m\n\u001b[1;32m--> 222\u001b[1;33m         \u001b[1;32mraise\u001b[0m \u001b[0merror\u001b[0m\u001b[1;33m\u001b[0m\u001b[1;33m\u001b[0m\u001b[0m\n\u001b[0m",
      "\u001b[1;31mPapermillExecutionError\u001b[0m: \n---------------------------------------------------------------------------\nException encountered at \"In [6]\":\n---------------------------------------------------------------------------\nIndexError                                Traceback (most recent call last)\n<ipython-input-6-b0ab305641fa> in <module>\n     18             count_in_range[ getattr(cross, ctype) ] += count\n     19 \n---> 20     q99 = np.quantile(np.array( list(count_in_range.values()) ), 1-top_percentile)\n     21     top1 = {k for k in count_in_range if count_in_range[k]>=q99}\n     22     all_tops.update(top1)\n\n<__array_function__ internals> in quantile(*args, **kwargs)\n\nc:\\users\\amcga\\envs\\citation-deaths\\lib\\site-packages\\numpy\\lib\\function_base.py in quantile(a, q, axis, out, overwrite_input, interpolation, keepdims)\n   3816         raise ValueError(\"Quantiles must be in the range [0, 1]\")\n   3817     return _quantile_unchecked(\n-> 3818         a, q, axis, out, overwrite_input, interpolation, keepdims)\n   3819 \n   3820 \n\nc:\\users\\amcga\\envs\\citation-deaths\\lib\\site-packages\\numpy\\lib\\function_base.py in _quantile_unchecked(a, q, axis, out, overwrite_input, interpolation, keepdims)\n   3824     r, k = _ureduce(a, func=_quantile_ureduce_func, q=q, axis=axis, out=out,\n   3825                     overwrite_input=overwrite_input,\n-> 3826                     interpolation=interpolation)\n   3827     if keepdims:\n   3828         return r.reshape(q.shape + k)\n\nc:\\users\\amcga\\envs\\citation-deaths\\lib\\site-packages\\numpy\\lib\\function_base.py in _ureduce(a, func, **kwargs)\n   3401         keepdim = (1,) * a.ndim\n   3402 \n-> 3403     r = func(a, **kwargs)\n   3404     return r, keepdim\n   3405 \n\nc:\\users\\amcga\\envs\\citation-deaths\\lib\\site-packages\\numpy\\lib\\function_base.py in _quantile_ureduce_func(a, q, axis, out, overwrite_input, interpolation, keepdims)\n   3939             n = np.isnan(ap[-1:, ...])\n   3940 \n-> 3941         x1 = take(ap, indices_below, axis=axis) * weights_below\n   3942         x2 = take(ap, indices_above, axis=axis) * weights_above\n   3943 \n\n<__array_function__ internals> in take(*args, **kwargs)\n\nc:\\users\\amcga\\envs\\citation-deaths\\lib\\site-packages\\numpy\\core\\fromnumeric.py in take(a, indices, axis, out, mode)\n    192            [5, 7]])\n    193     \"\"\"\n--> 194     return _wrapfunc(a, 'take', indices, axis=axis, out=out, mode=mode)\n    195 \n    196 \n\nc:\\users\\amcga\\envs\\citation-deaths\\lib\\site-packages\\numpy\\core\\fromnumeric.py in _wrapfunc(obj, method, *args, **kwds)\n     59 \n     60     try:\n---> 61         return bound(*args, **kwds)\n     62     except TypeError:\n     63         # A TypeError occurs if the object does have such a method in its\n\nIndexError: cannot do a non-empty take from an empty axes.\n"
     ]
    }
   ],
   "source": [
    "# top1\n",
    "ys = Path(_dh[0]).joinpath('creating variables','top percent cited in decade (top1).ipynb')\n",
    "\n",
    "settings = [\n",
    "    #{\"database_name\":\"sociology-wos\",\"ctype\":'c'},\n",
    "    #{\"database_name\":\"sociology-wos\",\"ctype\":'ta'},\n",
    "    {\"database_name\":\"sociology-jstor-basicall\",\"ctype\":'t', }\n",
    "]\n",
    "\n",
    "for sett in settings:\n",
    "    pm.execute_notebook(\n",
    "        str(ys),\n",
    "        str(ys),\n",
    "        parameters = sett,\n",
    "        nest_asyncio=True\n",
    "    )"
   ]
  },
  {
   "cell_type": "code",
   "execution_count": 5,
   "metadata": {},
   "outputs": [
    {
     "name": "stderr",
     "output_type": "stream",
     "text": [
      "INFO:papermill:Input Notebook:  G:\\My Drive\\projects\\qualitative analysis of literature\\post 5-12-2020\\git repository _ citation-deaths\\knowknow\\creating variables\\ysum.ipynb\n",
      "INFO:papermill:Output Notebook: G:\\My Drive\\projects\\qualitative analysis of literature\\post 5-12-2020\\git repository _ citation-deaths\\knowknow\\creating variables\\ysum.ipynb\n",
      "INFO:blib2to3.pgen2.driver:Generating grammar tables from c:\\users\\amcga\\envs\\citation-deaths\\lib\\site-packages\\blib2to3\\Grammar.txt\n",
      "INFO:blib2to3.pgen2.driver:Writing grammar tables to C:\\Users\\amcga\\AppData\\Local\\black\\black\\Cache\\19.10b0\\Grammar3.7.5.final.0.pickle\n",
      "INFO:blib2to3.pgen2.driver:Writing failed: [Errno 2] No such file or directory: 'C:\\\\Users\\\\amcga\\\\AppData\\\\Local\\\\black\\\\black\\\\Cache\\\\19.10b0\\\\tmpz631lxk8'\n",
      "INFO:blib2to3.pgen2.driver:Generating grammar tables from c:\\users\\amcga\\envs\\citation-deaths\\lib\\site-packages\\blib2to3\\PatternGrammar.txt\n",
      "INFO:blib2to3.pgen2.driver:Writing grammar tables to C:\\Users\\amcga\\AppData\\Local\\black\\black\\Cache\\19.10b0\\PatternGrammar3.7.5.final.0.pickle\n",
      "INFO:blib2to3.pgen2.driver:Writing failed: [Errno 2] No such file or directory: 'C:\\\\Users\\\\amcga\\\\AppData\\\\Local\\\\black\\\\black\\\\Cache\\\\19.10b0\\\\tmp56emxw5h'\n",
      "INFO:papermill:Executing notebook with kernel: python3\n",
      "INFO:papermill:Executing Cell 1---------------------------------------\n",
      "INFO:papermill:Ending Cell 1------------------------------------------\n",
      "INFO:papermill:Executing Cell 2---------------------------------------\n",
      "INFO:papermill:Ending Cell 2------------------------------------------\n",
      "INFO:papermill:Executing Cell 3---------------------------------------\n",
      "INFO:papermill:Ending Cell 3------------------------------------------\n",
      "INFO:papermill:Executing Cell 4---------------------------------------\n",
      "INFO:papermill:Ending Cell 4------------------------------------------\n",
      "INFO:papermill:Executing Cell 5---------------------------------------\n",
      "INFO:papermill:Ending Cell 5------------------------------------------\n",
      "INFO:papermill:Executing Cell 6---------------------------------------\n",
      "INFO:papermill:Ending Cell 6------------------------------------------\n",
      "INFO:papermill:Executing Cell 7---------------------------------------\n",
      "INFO:papermill:Ending Cell 7------------------------------------------\n",
      "INFO:papermill:Executing Cell 8---------------------------------------\n",
      "INFO:papermill:Ending Cell 8------------------------------------------\n",
      "INFO:papermill:Executing Cell 9---------------------------------------\n",
      "INFO:papermill:Ending Cell 9------------------------------------------\n",
      "INFO:papermill:Executing Cell 10--------------------------------------\n",
      "INFO:papermill:Ending Cell 10-----------------------------------------\n",
      "INFO:papermill:Executing Cell 11--------------------------------------\n",
      "INFO:papermill:Loaded keys: dict_keys(['fy.t', 'fy', 't'])\n",
      "Available keys: ['c', 'c.c', 'c.c.fy', 'c.fa', 'c.fj', 'c.fy', 'c.t', 'fa', 'fa.fj.fy', 'fj', 'fj.fy', 'fj.t', 'fy', 'fy.t', 't']\n",
      "\n",
      "INFO:papermill:Ending Cell 11-----------------------------------------\n",
      "INFO:papermill:Executing Cell 12--------------------------------------\n",
      "INFO:papermill:Ending Cell 12-----------------------------------------\n",
      "INFO:papermill:Executing Cell 13--------------------------------------\n",
      "INFO:papermill:Ending Cell 13-----------------------------------------\n",
      "INFO:papermill:Executing Cell 14--------------------------------------\n",
      "INFO:papermill:Ending Cell 14-----------------------------------------\n",
      "INFO:papermill:Executing Cell 15--------------------------------------\n",
      "INFO:papermill:Ending Cell 15-----------------------------------------\n",
      "INFO:papermill:Executing Cell 16--------------------------------------\n",
      "INFO:papermill:Ending Cell 16-----------------------------------------\n",
      "INFO:papermill:Executing Cell 17--------------------------------------\n",
      "INFO:papermill:Ending Cell 17-----------------------------------------\n",
      "INFO:papermill:Executing Cell 18--------------------------------------\n",
      "INFO:papermill:Ending Cell 18-----------------------------------------\n",
      "INFO:papermill:Executing Cell 19--------------------------------------\n",
      "INFO:papermill:Ending Cell 19-----------------------------------------\n",
      "INFO:papermill:Executing Cell 20--------------------------------------\n",
      "INFO:papermill:Ending Cell 20-----------------------------------------\n",
      "INFO:papermill:Executing Cell 21--------------------------------------\n",
      "INFO:papermill:Ending Cell 21-----------------------------------------\n",
      "INFO:papermill:Executing Cell 22--------------------------------------\n",
      "INFO:papermill:Ending Cell 22-----------------------------------------\n",
      "INFO:papermill:Executing Cell 23--------------------------------------\n",
      "INFO:papermill:Ending Cell 23-----------------------------------------\n",
      "INFO:papermill:Executing Cell 24--------------------------------------\n",
      "INFO:papermill:Ending Cell 24-----------------------------------------\n",
      "INFO:papermill:Executing Cell 25--------------------------------------\n",
      "INFO:papermill:Processing database 'sociology-jstor-basicall'\n",
      "Item 0\n",
      "\n",
      "INFO:papermill:Ending Cell 25-----------------------------------------\n",
      "INFO:papermill:Executing Cell 26--------------------------------------\n",
      "INFO:papermill:Ending Cell 26-----------------------------------------\n",
      "INFO:papermill:Executing Cell 27--------------------------------------\n",
      "INFO:papermill:death_1 None\n",
      "death_2 None\n",
      "death_3 None\n",
      "death_4 None\n",
      "death_5 None\n",
      "death_6 None\n",
      "death_7 None\n",
      "death_8 None\n",
      "death_9 None\n",
      "death_last None\n",
      "death_max None\n",
      "first 1968\n",
      "last 2016\n",
      "maxcount 7\n",
      "maxcounty 2004\n",
      "maxprop 0.007284079084287201\n",
      "maxpropy 2004\n",
      "name relationship\n",
      "total 112\n",
      "totalprop 0.13548962372213755\n",
      "----------------------------\n",
      "death_1 None\n",
      "death_2 None\n",
      "death_3 None\n",
      "death_4 None\n",
      "death_5 None\n",
      "death_6 None\n",
      "death_7 None\n",
      "death_8 None\n",
      "death_9 None\n",
      "death_last None\n",
      "death_max None\n",
      "first 1972\n",
      "last 2015\n",
      "maxcount 6\n",
      "maxcounty 2009\n",
      "maxprop 0.005244755244755245\n",
      "maxpropy 2009\n",
      "name multiple\n",
      "total 56\n",
      "totalprop 0.05884884573363243\n",
      "----------------------------\n",
      "death_1 None\n",
      "death_2 None\n",
      "death_3 None\n",
      "death_4 None\n",
      "death_5 None\n",
      "death_6 None\n",
      "death_7 None\n",
      "death_8 None\n",
      "death_9 None\n",
      "death_last None\n",
      "death_max None\n",
      "first 1984\n",
      "last 2014\n",
      "maxcount 2\n",
      "maxcounty 2013\n",
      "maxprop 0.002173913043478261\n",
      "maxpropy 2001\n",
      "name protestant\n",
      "total 16\n",
      "totalprop 0.01687912516308198\n",
      "----------------------------\n",
      "death_1 None\n",
      "death_2 None\n",
      "death_3 None\n",
      "death_4 None\n",
      "death_5 None\n",
      "death_6 None\n",
      "death_7 None\n",
      "death_8 None\n",
      "death_9 None\n",
      "death_last None\n",
      "death_max None\n",
      "first 1970\n",
      "last 2014\n",
      "maxcount 5\n",
      "maxcounty 2001\n",
      "maxprop 0.005434782608695652\n",
      "maxpropy 2001\n",
      "name religious\n",
      "total 64\n",
      "totalprop 0.0729632856913111\n",
      "----------------------------\n",
      "death_1 None\n",
      "death_2 None\n",
      "death_3 None\n",
      "death_4 None\n",
      "death_5 None\n",
      "death_6 None\n",
      "death_7 None\n",
      "death_8 None\n",
      "death_9 None\n",
      "death_last None\n",
      "death_max None\n",
      "first 1972\n",
      "last 2013\n",
      "maxcount 3\n",
      "maxcounty 2001\n",
      "maxprop 0.003374578177727784\n",
      "maxpropy 1994\n",
      "name thesis\n",
      "total 24\n",
      "totalprop 0.02771595574167315\n",
      "----------------------------\n",
      "death_1 None\n",
      "death_2 None\n",
      "death_3 None\n",
      "death_4 None\n",
      "death_5 None\n",
      "death_6 None\n",
      "death_7 None\n",
      "death_8 None\n",
      "death_9 None\n",
      "death_last None\n",
      "death_max None\n",
      "first 1972\n",
      "last 2014\n",
      "maxcount 2\n",
      "maxcounty 2002\n",
      "maxprop 0.0023612750885478157\n",
      "maxpropy 1990\n",
      "name object\n",
      "total 17\n",
      "totalprop 0.019810917036802572\n",
      "----------------------------\n",
      "death_1 None\n",
      "death_2 None\n",
      "death_3 None\n",
      "death_4 None\n",
      "death_5 None\n",
      "death_6 None\n",
      "death_7 None\n",
      "death_8 None\n",
      "death_9 None\n",
      "death_last None\n",
      "death_max None\n",
      "first 1983\n",
      "last 2007\n",
      "maxcount 2\n",
      "maxcounty 2001\n",
      "maxprop 0.0023612750885478157\n",
      "maxpropy 1990\n",
      "name capitalism\n",
      "total 13\n",
      "totalprop 0.015194571996636291\n",
      "----------------------------\n",
      "death_1 None\n",
      "death_2 None\n",
      "death_3 None\n",
      "death_4 None\n",
      "death_5 None\n",
      "death_6 None\n",
      "death_7 None\n",
      "death_8 None\n",
      "death_9 None\n",
      "death_last None\n",
      "death_max None\n",
      "first 1974\n",
      "last 2006\n",
      "maxcount 2\n",
      "maxcounty 2005\n",
      "maxprop 0.0022497187851518562\n",
      "maxpropy 1994\n",
      "name weber\n",
      "total 15\n",
      "totalprop 0.017875121495116456\n",
      "----------------------------\n",
      "death_1 None\n",
      "death_2 None\n",
      "death_3 None\n",
      "death_4 None\n",
      "death_5 None\n",
      "death_6 None\n",
      "death_7 None\n",
      "death_8 None\n",
      "death_9 None\n",
      "death_last None\n",
      "death_max None\n",
      "first 1972\n",
      "last 2013\n",
      "maxcount 3\n",
      "maxcounty 2006\n",
      "maxprop 0.002830188679245283\n",
      "maxpropy 2006\n",
      "name takes\n",
      "total 19\n",
      "totalprop 0.021707552317455574\n",
      "----------------------------\n",
      "death_1 None\n",
      "death_2 None\n",
      "death_3 None\n",
      "death_4 None\n",
      "death_5 None\n",
      "death_6 None\n",
      "death_7 None\n",
      "death_8 None\n",
      "death_9 None\n",
      "death_last None\n",
      "death_max None\n",
      "first 1979\n",
      "last 2009\n",
      "maxcount 2\n",
      "maxcounty 2002\n",
      "maxprop 0.002224694104560623\n",
      "maxpropy 2002\n",
      "name marx\n",
      "total 11\n",
      "totalprop 0.012686424588670421\n",
      "----------------------------\n",
      "\n",
      "INFO:papermill:Ending Cell 27-----------------------------------------\n",
      "INFO:papermill:Executing Cell 28--------------------------------------\n",
      "INFO:papermill:defaultdict(<class 'int'>, {'at least one citation': 5000, 'never rise': 2207, 'passed tests pre-blacklist': 2793})\n",
      "\n",
      "INFO:papermill:Ending Cell 28-----------------------------------------\n",
      "INFO:papermill:Executing Cell 29--------------------------------------\n",
      "INFO:papermill:Ending Cell 29-----------------------------------------\n",
      "INFO:papermill:Executing Cell 30--------------------------------------\n",
      "INFO:papermill:Ending Cell 30-----------------------------------------\n",
      "INFO:papermill:Executing Cell 31--------------------------------------\n",
      "INFO:papermill:Ending Cell 31-----------------------------------------\n",
      "INFO:papermill:Executing Cell 32--------------------------------------\n",
      "INFO:papermill:Ending Cell 32-----------------------------------------\n"
     ]
    }
   ],
   "source": [
    "# ysum\n",
    "\n",
    "ys = Path(_dh[0]).joinpath('creating variables','ysum.ipynb')\n",
    "\n",
    "settings = [\n",
    "    #{\"database_name\":\"sociology-wos\",\"dtype\":'c'},\n",
    "    #{\"database_name\":\"sociology-wos\",\"dtype\":'ta'},\n",
    "    {\"database_name\":\"sociology-jstor-basicall\",\"dtype\":'t'}\n",
    "]\n",
    "\n",
    "for sett in settings:\n",
    "    pm.execute_notebook(\n",
    "        str(ys),\n",
    "        str(ys),\n",
    "        parameters = sett,\n",
    "        log_output=True,\n",
    "        progress_bar=False,\n",
    "        nest_asyncio=True\n",
    "    )"
   ]
  },
  {
   "cell_type": "markdown",
   "metadata": {},
   "source": [
    "# small analyses"
   ]
  },
  {
   "cell_type": "code",
   "execution_count": 5,
   "metadata": {},
   "outputs": [
    {
     "name": "stderr",
     "output_type": "stream",
     "text": [
      "INFO:papermill:Input Notebook:  G:\\My Drive\\projects\\qualitative analysis of literature\\post 5-12-2020\\git repository _ citation-deaths\\knowknow\\analyses\\summary of journals.ipynb\n",
      "INFO:papermill:Output Notebook: G:\\My Drive\\projects\\qualitative analysis of literature\\post 5-12-2020\\git repository _ citation-deaths\\knowknow\\analyses\\summary of journals.ipynb\n"
     ]
    },
    {
     "data": {
      "application/vnd.jupyter.widget-view+json": {
       "model_id": "dfc1efe09c0744abbbfc27ab00a14e40",
       "version_major": 2,
       "version_minor": 0
      },
      "text/plain": [
       "HBox(children=(FloatProgress(value=0.0, description='Executing', max=3.0, style=ProgressStyle(description_widt…"
      ]
     },
     "metadata": {},
     "output_type": "display_data"
    },
    {
     "name": "stderr",
     "output_type": "stream",
     "text": [
      "INFO:papermill:Executing notebook with kernel: python3\n"
     ]
    },
    {
     "name": "stdout",
     "output_type": "stream",
     "text": [
      "\n"
     ]
    }
   ],
   "source": [
    "# journal summaries\n",
    "jsum = Path(_dh[0]).joinpath('analyses','summary of journals.ipynb')\n",
    "\n",
    "pm.execute_notebook(\n",
    "    str(jsum),\n",
    "    str(jsum),\n",
    "    parameters = {},\n",
    "    nest_asyncio=True\n",
    ");"
   ]
  },
  {
   "cell_type": "code",
   "execution_count": null,
   "metadata": {},
   "outputs": [],
   "source": [
    "# momentary success\n",
    "moment = Path(_dh[0]).joinpath('analyses','momentary success makes death less likely.ipynb')\n",
    "\n",
    "settings = [\n",
    "    #{\"database_name\":\"sociology-wos\",\"dtype\":'c'},\n",
    "    #{\"database_name\":\"sociology-wos\",\"dtype\":'ta'},\n",
    "    {\"database_name\":\"sociology-jstor\",\"dtype\":'t'}\n",
    "]\n",
    "\n",
    "for sett in settings:\n",
    "    pm.execute_notebook(\n",
    "        str(moment),\n",
    "        str(moment),\n",
    "        parameters = sett,\n",
    "        nest_asyncio=True\n",
    "    )"
   ]
  },
  {
   "cell_type": "code",
   "execution_count": 7,
   "metadata": {},
   "outputs": [
    {
     "name": "stderr",
     "output_type": "stream",
     "text": [
      "INFO:papermill:Input Notebook:  G:\\My Drive\\projects\\qualitative analysis of literature\\post 5-12-2020\\git repository _ citation-deaths\\knowknow\\analyses\\ubiquitous power-law behavior.ipynb\n",
      "INFO:papermill:Output Notebook: G:\\My Drive\\projects\\qualitative analysis of literature\\post 5-12-2020\\git repository _ citation-deaths\\knowknow\\analyses\\ubiquitous power-law behavior.ipynb\n"
     ]
    },
    {
     "data": {
      "application/vnd.jupyter.widget-view+json": {
       "model_id": "a2d189ed721c49e88c25b794b69ecfb9",
       "version_major": 2,
       "version_minor": 0
      },
      "text/plain": [
       "HBox(children=(FloatProgress(value=0.0, description='Executing', max=13.0, style=ProgressStyle(description_wid…"
      ]
     },
     "metadata": {},
     "output_type": "display_data"
    },
    {
     "name": "stderr",
     "output_type": "stream",
     "text": [
      "INFO:papermill:Executing notebook with kernel: python3\n",
      "INFO:papermill:Input Notebook:  G:\\My Drive\\projects\\qualitative analysis of literature\\post 5-12-2020\\git repository _ citation-deaths\\knowknow\\analyses\\ubiquitous power-law behavior.ipynb\n",
      "INFO:papermill:Output Notebook: G:\\My Drive\\projects\\qualitative analysis of literature\\post 5-12-2020\\git repository _ citation-deaths\\knowknow\\analyses\\ubiquitous power-law behavior.ipynb\n"
     ]
    },
    {
     "name": "stdout",
     "output_type": "stream",
     "text": [
      "\n"
     ]
    },
    {
     "data": {
      "application/vnd.jupyter.widget-view+json": {
       "model_id": "6361c395b5d844e8a92fa104abbea172",
       "version_major": 2,
       "version_minor": 0
      },
      "text/plain": [
       "HBox(children=(FloatProgress(value=0.0, description='Executing', max=13.0, style=ProgressStyle(description_wid…"
      ]
     },
     "metadata": {},
     "output_type": "display_data"
    },
    {
     "name": "stderr",
     "output_type": "stream",
     "text": [
      "INFO:papermill:Executing notebook with kernel: python3\n",
      "INFO:papermill:Input Notebook:  G:\\My Drive\\projects\\qualitative analysis of literature\\post 5-12-2020\\git repository _ citation-deaths\\knowknow\\analyses\\ubiquitous power-law behavior.ipynb\n",
      "INFO:papermill:Output Notebook: G:\\My Drive\\projects\\qualitative analysis of literature\\post 5-12-2020\\git repository _ citation-deaths\\knowknow\\analyses\\ubiquitous power-law behavior.ipynb\n"
     ]
    },
    {
     "name": "stdout",
     "output_type": "stream",
     "text": [
      "\n"
     ]
    },
    {
     "data": {
      "application/vnd.jupyter.widget-view+json": {
       "model_id": "d681609e45f14f25b9b35a8ea70fa31e",
       "version_major": 2,
       "version_minor": 0
      },
      "text/plain": [
       "HBox(children=(FloatProgress(value=0.0, description='Executing', max=13.0, style=ProgressStyle(description_wid…"
      ]
     },
     "metadata": {},
     "output_type": "display_data"
    },
    {
     "name": "stderr",
     "output_type": "stream",
     "text": [
      "INFO:papermill:Executing notebook with kernel: python3\n"
     ]
    },
    {
     "name": "stdout",
     "output_type": "stream",
     "text": [
      "\n"
     ]
    }
   ],
   "source": [
    "# ubiquitous power-law behavior\n",
    "ys = Path(_dh[0]).joinpath('analyses','ubiquitous power-law behavior.ipynb')\n",
    "\n",
    "settings = [\n",
    "    {\"database_name\":\"sociology-wos\",\"dtype\":'c'},\n",
    "    {\"database_name\":\"sociology-wos\",\"dtype\":'ta'},\n",
    "    {\"database_name\":\"sociology-jstor\",\"dtype\":'t'}\n",
    "]\n",
    "\n",
    "for sett in settings:\n",
    "    pm.execute_notebook(\n",
    "        str(ys),\n",
    "        str(ys),\n",
    "        parameters = sett,\n",
    "        nest_asyncio=True\n",
    "    )"
   ]
  },
  {
   "cell_type": "code",
   "execution_count": 11,
   "metadata": {},
   "outputs": [
    {
     "name": "stderr",
     "output_type": "stream",
     "text": [
      "INFO:papermill:Input Notebook:  G:\\My Drive\\projects\\qualitative analysis of literature\\post 5-12-2020\\git repository _ citation-deaths\\knowknow\\analyses\\demographics.ipynb\n",
      "INFO:papermill:Output Notebook: G:\\My Drive\\projects\\qualitative analysis of literature\\post 5-12-2020\\git repository _ citation-deaths\\knowknow\\analyses\\demographics.ipynb\n"
     ]
    },
    {
     "data": {
      "application/vnd.jupyter.widget-view+json": {
       "model_id": "d79cd9219fb544a5808a93c8502b8522",
       "version_major": 2,
       "version_minor": 0
      },
      "text/plain": [
       "HBox(children=(FloatProgress(value=0.0, description='Executing', max=28.0, style=ProgressStyle(description_wid…"
      ]
     },
     "metadata": {},
     "output_type": "display_data"
    },
    {
     "name": "stderr",
     "output_type": "stream",
     "text": [
      "INFO:papermill:Executing notebook with kernel: python3\n"
     ]
    },
    {
     "name": "stdout",
     "output_type": "stream",
     "text": [
      "\n"
     ]
    }
   ],
   "source": [
    "# demographics of authors, context, etc\n",
    "\n",
    "demo = Path(_dh[0]).joinpath('analyses','demographics.ipynb')\n",
    "\n",
    "for i in [2]:#range(3):\n",
    "    pm.execute_notebook(\n",
    "        str(demo),\n",
    "        str(demo),\n",
    "        parameters = dict(setting_no=i),\n",
    "        nest_asyncio=True\n",
    "    )"
   ]
  },
  {
   "cell_type": "code",
   "execution_count": 9,
   "metadata": {},
   "outputs": [
    {
     "data": {
      "text/markdown": [
       "# Citations which were in the 1%, but have died\n",
       "\n",
       "This figure shows a random 100 of these cited works. , in the sense of death2, death3, or death5. These deaths are labeled for reference."
      ],
      "text/plain": [
       "<IPython.core.display.Markdown object>"
      ]
     },
     "metadata": {},
     "output_type": "display_data"
    }
   ],
   "source": [
    "showdocs(\"100bigc\")"
   ]
  },
  {
   "cell_type": "code",
   "execution_count": 7,
   "metadata": {},
   "outputs": [
    {
     "name": "stderr",
     "output_type": "stream",
     "text": [
      "INFO:papermill:Input Notebook:  G:\\My Drive\\projects\\qualitative analysis of literature\\post 5-12-2020\\git repository _ citation-deaths\\knowknow\\analyses\\remarkable lives and deaths.ipynb\n",
      "INFO:papermill:Output Notebook: G:\\My Drive\\projects\\qualitative analysis of literature\\post 5-12-2020\\git repository _ citation-deaths\\knowknow\\analyses\\remarkable lives and deaths.ipynb\n",
      "INFO:blib2to3.pgen2.driver:Generating grammar tables from c:\\users\\amcga\\envs\\citation-deaths\\lib\\site-packages\\blib2to3\\Grammar.txt\n",
      "INFO:blib2to3.pgen2.driver:Writing grammar tables to C:\\Users\\amcga\\AppData\\Local\\black\\black\\Cache\\19.10b0\\Grammar3.7.5.final.0.pickle\n",
      "INFO:blib2to3.pgen2.driver:Writing failed: [Errno 2] No such file or directory: 'C:\\\\Users\\\\amcga\\\\AppData\\\\Local\\\\black\\\\black\\\\Cache\\\\19.10b0\\\\tmpfhgsmgew'\n",
      "INFO:blib2to3.pgen2.driver:Generating grammar tables from c:\\users\\amcga\\envs\\citation-deaths\\lib\\site-packages\\blib2to3\\PatternGrammar.txt\n",
      "INFO:blib2to3.pgen2.driver:Writing grammar tables to C:\\Users\\amcga\\AppData\\Local\\black\\black\\Cache\\19.10b0\\PatternGrammar3.7.5.final.0.pickle\n",
      "INFO:blib2to3.pgen2.driver:Writing failed: [Errno 2] No such file or directory: 'C:\\\\Users\\\\amcga\\\\AppData\\\\Local\\\\black\\\\black\\\\Cache\\\\19.10b0\\\\tmp1xjk68vn'\n"
     ]
    },
    {
     "data": {
      "application/vnd.jupyter.widget-view+json": {
       "model_id": "eac2b05f642e4cdab9e9fb591b9e6597",
       "version_major": 2,
       "version_minor": 0
      },
      "text/plain": [
       "HBox(children=(FloatProgress(value=0.0, description='Executing', max=14.0, style=ProgressStyle(description_wid…"
      ]
     },
     "metadata": {},
     "output_type": "display_data"
    },
    {
     "name": "stderr",
     "output_type": "stream",
     "text": [
      "INFO:papermill:Executing notebook with kernel: python3\n",
      "INFO:papermill:Input Notebook:  G:\\My Drive\\projects\\qualitative analysis of literature\\post 5-12-2020\\git repository _ citation-deaths\\knowknow\\analyses\\remarkable lives and deaths.ipynb\n",
      "INFO:papermill:Output Notebook: G:\\My Drive\\projects\\qualitative analysis of literature\\post 5-12-2020\\git repository _ citation-deaths\\knowknow\\analyses\\remarkable lives and deaths.ipynb\n"
     ]
    },
    {
     "name": "stdout",
     "output_type": "stream",
     "text": [
      "\n"
     ]
    },
    {
     "data": {
      "application/vnd.jupyter.widget-view+json": {
       "model_id": "ab8307aff2844e45b10ace9b3e40150e",
       "version_major": 2,
       "version_minor": 0
      },
      "text/plain": [
       "HBox(children=(FloatProgress(value=0.0, description='Executing', max=14.0, style=ProgressStyle(description_wid…"
      ]
     },
     "metadata": {},
     "output_type": "display_data"
    },
    {
     "name": "stderr",
     "output_type": "stream",
     "text": [
      "INFO:papermill:Executing notebook with kernel: python3\n",
      "INFO:papermill:Input Notebook:  G:\\My Drive\\projects\\qualitative analysis of literature\\post 5-12-2020\\git repository _ citation-deaths\\knowknow\\analyses\\remarkable lives and deaths.ipynb\n",
      "INFO:papermill:Output Notebook: G:\\My Drive\\projects\\qualitative analysis of literature\\post 5-12-2020\\git repository _ citation-deaths\\knowknow\\analyses\\remarkable lives and deaths.ipynb\n"
     ]
    },
    {
     "name": "stdout",
     "output_type": "stream",
     "text": [
      "\n"
     ]
    },
    {
     "data": {
      "application/vnd.jupyter.widget-view+json": {
       "model_id": "c5107efd504745f3b69c063dea445ca8",
       "version_major": 2,
       "version_minor": 0
      },
      "text/plain": [
       "HBox(children=(FloatProgress(value=0.0, description='Executing', max=14.0, style=ProgressStyle(description_wid…"
      ]
     },
     "metadata": {},
     "output_type": "display_data"
    },
    {
     "name": "stderr",
     "output_type": "stream",
     "text": [
      "INFO:papermill:Executing notebook with kernel: python3\n"
     ]
    },
    {
     "name": "stdout",
     "output_type": "stream",
     "text": [
      "\n"
     ]
    }
   ],
   "source": [
    "# visualizations of remarkable lives and deaths\n",
    "\n",
    "viz = Path(_dh[0]).joinpath('analyses','remarkable lives and deaths.ipynb')\n",
    "\n",
    "settings = [\n",
    "    {\"database_name\":\"sociology-wos\",\"dtype\":'c',\"birth_key\":'pub',\"definitions_of_death\":['death2','death3','death5']},\n",
    "    {\"database_name\":\"sociology-wos\",\"dtype\":'ta',\"birth_key\":'first',\"definitions_of_death\":['death2','death3','death5']},\n",
    "    {\"database_name\":\"sociology-jstor\",\"dtype\":'t',\"birth_key\":'first',\"definitions_of_death\":['death2','death3','death5']}\n",
    "]\n",
    "\n",
    "for sett in settings:\n",
    "    pm.execute_notebook(\n",
    "        str(viz),\n",
    "        str(viz),\n",
    "        parameters = sett,\n",
    "        nest_asyncio=True\n",
    "    )"
   ]
  },
  {
   "cell_type": "code",
   "execution_count": null,
   "metadata": {},
   "outputs": [],
   "source": []
  }
 ],
 "metadata": {
  "kernelspec": {
   "display_name": "Python 3",
   "language": "python",
   "name": "python3"
  },
  "language_info": {
   "codemirror_mode": {
    "name": "ipython",
    "version": 3
   },
   "file_extension": ".py",
   "mimetype": "text/x-python",
   "name": "python",
   "nbconvert_exporter": "python",
   "pygments_lexer": "ipython3",
   "version": "3.7.5"
  }
 },
 "nbformat": 4,
 "nbformat_minor": 4
}
