{
 "cells": [
  {
   "cell_type": "markdown",
   "metadata": {},
   "source": [
    "# The Meta Executor\n",
    "\n",
    "This Jupyter notebook is able to run other notebooks.\n",
    "When it runs them, it will NOT overwrite what was in the notebook, but it will update the outputs.\n",
    "These all function to save databases, tables, or figures.\n",
    "So, hypothetically, you could run all analyses without seeing the notebooks that ran them, and peruse the results in the `all_figures.ipynb` or `all_tables.ipynb` notebooks.\n",
    "\n",
    "This notebook is also where I have centralized high-level documentation.\n",
    "To edit documentation, see the `documentation.yaml` file."
   ]
  },
  {
   "cell_type": "markdown",
   "metadata": {},
   "source": [
    "# todos\n",
    "\n",
    "+ fix the term consolidation. I want the top 30000 \"terms\" -- cooccurrences between words \n",
    "    + in terms of frequency\n",
    "    + in terms of chi2 non-independence with central citations\n",
    "    + in terms of chi2 with each other (use cortext)\n",
    "+ export demographic tables\n",
    "+ journal trends figure\n",
    "+ export figure with different kinds of deaths, consolidate multiple figures into \"bigdeaths\""
   ]
  },
  {
   "cell_type": "code",
   "execution_count": 1,
   "metadata": {},
   "outputs": [],
   "source": [
    "import sys; sys.path.append(_dh[0].split(\"knowknow\")[0])\n",
    "from knowknow import *"
   ]
  },
  {
   "cell_type": "code",
   "execution_count": 2,
   "metadata": {},
   "outputs": [],
   "source": [
    "import papermill as pm"
   ]
  },
  {
   "cell_type": "code",
   "execution_count": 3,
   "metadata": {},
   "outputs": [],
   "source": [
    "if True:\n",
    "    import logging\n",
    "    logging.basicConfig()\n",
    "    logging.getLogger().setLevel(logging.INFO)"
   ]
  },
  {
   "cell_type": "code",
   "execution_count": 4,
   "metadata": {},
   "outputs": [
    {
     "data": {
      "text/markdown": [
       "# Counting coocurrences\n",
       "\n",
       "Cultural phenomena are rich in meaning and context. Moreover, the meaning and context are what we care about, so stripping that would be a disservice. \"Consider Geertz:\"\n",
       "> Not only is the semantic structure of the figure a good deal more complex than it appears on the surface, but an analysis of that structure forces one into tracing a multiplicity of referential connections between it and social reality, so that the final picture is one of a configuration of dissimilar meanings out of whose interworking both the expressive power and the rhetorical force of the final symbol derive. (Geertz [1955] 1973, Chapter 8 Ideology as a Cultural System, p. 213)\n",
       "\n",
       "The way people understanding their world shape their action, and understandings are heterogeneous in any community, woven into a complex web of interacting pieces and parts. Understandings are constantly evolving, shifting with every conversation or Breaking News. Any quantitative technique for studying meaning must be able to capture the relational structure of cultural objects, their temporal dynamics, or it cannot be meaning.\n",
       "\n",
       "These considerations motivate how I have designed the data structure and code for this project. My attention to \"cooccurrences\" in what follows is an application of Levi Martin and Lee's (2018) formal approach to meaning. They develop the symbolic formalism I use below, as well as showing several general analytic strategies for inductive, ground-up meaning-making from count data. This approach is quite general, useful for many applications.\n",
       "\n",
       "The process is rather simple, I count cooccurrences between various attributes. For each document, for each citation in that document, I increment a dozen counters, depending on attributes of the citation, paper, journal, or author. This counting process is done once, and can be used as a compressed form of the dataset for all further analyses. In the terminology of Levi Martin and Lee, I am constructing \"hypergraphs\", and I will use their notation in what follows. For example $[c*fy]$ indicates the dataset which maps from $(c, fy) \\to count$.\n",
       "$c$ is the name of the cited work. $fy$ is the publication year of the article which made the citation. $count$ is the number of citations which are at the intersection of these properties.\n",
       "\n",
       "+ $[c]$ the number of citations each document receives\n",
       "+ $[c*fj]$ the number of citations each document receives from each journal's articles\n",
       "+ $[c*fy]$ the number of citations each document receives from each year's articles\n",
       "+ $[fj]$ the number of citations from each journal\n",
       "+ $[fj*fy]$ the number of citations in each journal in each year\n",
       "+ $[t]$ cited term total counts\n",
       "+ $[fy*t]$ cited term time series\n",
       "+ term cooccurrence with citation and journal ($[c*t]$ and [fj*t]$)\n",
       "+ \"author\" counts, the number of citations by each author ($[a]$ $[a*c]$ $[a*j*y]$)\n",
       "+ [c*c]$, the cooccurrence network between citations\n",
       "+ the death of citations can be studied using the $[c*fy]$ hypergraph\n",
       "+ $[c*fj*t]$ could be used for analyzing differential associations of $c$ to $t$ across publication venues\n",
       "+ $[ta*ta]$, $[fa*fa]$, $[t*t]$ and $[c*c]$ open the door to network-scientific methods\n",
       "\n",
       "\n",
       "\n",
       "# References\n",
       "\n",
       "\n",
       "\n",
       "+ Martin, John Levi, and Monica Lee. 2018. “A Formal Approach to Meaning.” Poetics 68(February):10–17.\n",
       "+ Geertz, Clifford. 1973. The Interpretation of Cultures. New York: Basic Books, Inc."
      ],
      "text/plain": [
       "<IPython.core.display.Markdown object>"
      ]
     },
     "metadata": {},
     "output_type": "display_data"
    }
   ],
   "source": [
    "showdocs(\"counter\")"
   ]
  },
  {
   "cell_type": "code",
   "execution_count": null,
   "metadata": {},
   "outputs": [],
   "source": [
    "# JSTOR counter\n",
    "\n",
    "if False:\n",
    "    jstor = Path(_dh[0]).joinpath('creating variables','jstor counter (cnt).ipynb')\n",
    "    pm.execute_notebook(\n",
    "        str(jstor),\n",
    "        str(jstor),\n",
    "        parameters = {},\n",
    "        nest_asyncio=True\n",
    "    )"
   ]
  },
  {
   "cell_type": "code",
   "execution_count": null,
   "metadata": {},
   "outputs": [],
   "source": [
    "# WOS counter\n",
    "\n",
    "if False:\n",
    "    wos = Path(_dh[0]).joinpath('creating variables','web of science counter (cnt).ipynb')\n",
    "    pm.execute_notebook(\n",
    "        str(wos),\n",
    "        str(wos),\n",
    "        parameters = {},\n",
    "        nest_asyncio=True\n",
    "    )"
   ]
  },
  {
   "cell_type": "code",
   "execution_count": 8,
   "metadata": {},
   "outputs": [
    {
     "data": {
      "text/markdown": [
       "# Zooming in on the top 1%\n",
       "\n",
       "I would like to look at the most successful cited authors, cited works, and cited terms. Unfortunately, this isn't so simple. There has been a dramatic increase in the supply of citations over the last 100 years, so the group with the most total citations would be skewed towards the citation preferences of recent papers. In order to account for this bias,\n",
       "\n",
       "I choose among items cited by articles published in each decade 1940-1950, 1941-1951, 1942-1952, all the way to 1980-1990. In each of these decades I determine which were the top-cited 1%. The set of all these top 1%s, from all these decade spans, comprise the 1% I will study in this paper."
      ],
      "text/plain": [
       "<IPython.core.display.Markdown object>"
      ]
     },
     "metadata": {},
     "output_type": "display_data"
    }
   ],
   "source": [
    "showdocs(\"top1\")"
   ]
  },
  {
   "cell_type": "code",
   "execution_count": 5,
   "metadata": {},
   "outputs": [
    {
     "name": "stderr",
     "output_type": "stream",
     "text": [
      "INFO:papermill:Input Notebook:  G:\\My Drive\\projects\\qualitative analysis of literature\\post 5-12-2020\\git repository _ citation-deaths\\knowknow\\creating variables\\top percent cited in decade (top1).ipynb\n",
      "INFO:papermill:Output Notebook: G:\\My Drive\\projects\\qualitative analysis of literature\\post 5-12-2020\\git repository _ citation-deaths\\knowknow\\creating variables\\top percent cited in decade (top1).ipynb\n",
      "INFO:blib2to3.pgen2.driver:Generating grammar tables from c:\\users\\amcga\\envs\\citation-deaths\\lib\\site-packages\\blib2to3\\Grammar.txt\n",
      "INFO:blib2to3.pgen2.driver:Writing grammar tables to C:\\Users\\amcga\\AppData\\Local\\black\\black\\Cache\\19.10b0\\Grammar3.7.5.final.0.pickle\n",
      "INFO:blib2to3.pgen2.driver:Writing failed: [Errno 2] No such file or directory: 'C:\\\\Users\\\\amcga\\\\AppData\\\\Local\\\\black\\\\black\\\\Cache\\\\19.10b0\\\\tmp1jjh8r5p'\n",
      "INFO:blib2to3.pgen2.driver:Generating grammar tables from c:\\users\\amcga\\envs\\citation-deaths\\lib\\site-packages\\blib2to3\\PatternGrammar.txt\n",
      "INFO:blib2to3.pgen2.driver:Writing grammar tables to C:\\Users\\amcga\\AppData\\Local\\black\\black\\Cache\\19.10b0\\PatternGrammar3.7.5.final.0.pickle\n",
      "INFO:blib2to3.pgen2.driver:Writing failed: [Errno 2] No such file or directory: 'C:\\\\Users\\\\amcga\\\\AppData\\\\Local\\\\black\\\\black\\\\Cache\\\\19.10b0\\\\tmpf3bur6hx'\n"
     ]
    },
    {
     "data": {
      "application/vnd.jupyter.widget-view+json": {
       "model_id": "8f51fc2a5f7e481382c3a2163066322d",
       "version_major": 2,
       "version_minor": 0
      },
      "text/plain": [
       "HBox(children=(FloatProgress(value=0.0, description='Executing', max=12.0, style=ProgressStyle(description_wid…"
      ]
     },
     "metadata": {},
     "output_type": "display_data"
    },
    {
     "name": "stderr",
     "output_type": "stream",
     "text": [
      "INFO:papermill:Executing notebook with kernel: python3\n",
      "INFO:papermill:Input Notebook:  G:\\My Drive\\projects\\qualitative analysis of literature\\post 5-12-2020\\git repository _ citation-deaths\\knowknow\\creating variables\\top percent cited in decade (top1).ipynb\n",
      "INFO:papermill:Output Notebook: G:\\My Drive\\projects\\qualitative analysis of literature\\post 5-12-2020\\git repository _ citation-deaths\\knowknow\\creating variables\\top percent cited in decade (top1).ipynb\n"
     ]
    },
    {
     "name": "stdout",
     "output_type": "stream",
     "text": [
      "\n"
     ]
    },
    {
     "data": {
      "application/vnd.jupyter.widget-view+json": {
       "model_id": "46aca90950654f4bb222b98e5172472f",
       "version_major": 2,
       "version_minor": 0
      },
      "text/plain": [
       "HBox(children=(FloatProgress(value=0.0, description='Executing', max=12.0, style=ProgressStyle(description_wid…"
      ]
     },
     "metadata": {},
     "output_type": "display_data"
    },
    {
     "name": "stderr",
     "output_type": "stream",
     "text": [
      "INFO:papermill:Executing notebook with kernel: python3\n",
      "INFO:papermill:Input Notebook:  G:\\My Drive\\projects\\qualitative analysis of literature\\post 5-12-2020\\git repository _ citation-deaths\\knowknow\\creating variables\\top percent cited in decade (top1).ipynb\n",
      "INFO:papermill:Output Notebook: G:\\My Drive\\projects\\qualitative analysis of literature\\post 5-12-2020\\git repository _ citation-deaths\\knowknow\\creating variables\\top percent cited in decade (top1).ipynb\n"
     ]
    },
    {
     "name": "stdout",
     "output_type": "stream",
     "text": [
      "\n"
     ]
    },
    {
     "data": {
      "application/vnd.jupyter.widget-view+json": {
       "model_id": "d198d1ca285f4a5db1390b5a8dee946a",
       "version_major": 2,
       "version_minor": 0
      },
      "text/plain": [
       "HBox(children=(FloatProgress(value=0.0, description='Executing', max=12.0, style=ProgressStyle(description_wid…"
      ]
     },
     "metadata": {},
     "output_type": "display_data"
    },
    {
     "name": "stderr",
     "output_type": "stream",
     "text": [
      "INFO:papermill:Executing notebook with kernel: python3\n"
     ]
    },
    {
     "name": "stdout",
     "output_type": "stream",
     "text": [
      "\n"
     ]
    }
   ],
   "source": [
    "# top1\n",
    "ys = Path(_dh[0]).joinpath('creating variables','top percent cited in decade (top1).ipynb')\n",
    "\n",
    "settings = [\n",
    "    {\"database_name\":\"sociology-wos\",\"ctype\":'c'},\n",
    "    {\"database_name\":\"sociology-wos\",\"ctype\":'ta'},\n",
    "    {\"database_name\":\"sociology-jstor\",\"ctype\":'t', }\n",
    "]\n",
    "\n",
    "for sett in settings:\n",
    "    pm.execute_notebook(\n",
    "        str(ys),\n",
    "        str(ys),\n",
    "        parameters = sett,\n",
    "        nest_asyncio=True\n",
    "    )"
   ]
  },
  {
   "cell_type": "code",
   "execution_count": 8,
   "metadata": {},
   "outputs": [
    {
     "name": "stderr",
     "output_type": "stream",
     "text": [
      "INFO:papermill:Input Notebook:  G:\\My Drive\\projects\\qualitative analysis of literature\\post 5-12-2020\\git repository _ citation-deaths\\knowknow\\creating variables\\ysum.ipynb\n",
      "INFO:papermill:Output Notebook: G:\\My Drive\\projects\\qualitative analysis of literature\\post 5-12-2020\\git repository _ citation-deaths\\knowknow\\creating variables\\ysum.ipynb\n",
      "INFO:papermill:Executing notebook with kernel: python3\n",
      "INFO:papermill:Executing Cell 1---------------------------------------\n",
      "INFO:papermill:Ending Cell 1------------------------------------------\n",
      "INFO:papermill:Executing Cell 2---------------------------------------\n",
      "INFO:papermill:Ending Cell 2------------------------------------------\n",
      "INFO:papermill:Executing Cell 3---------------------------------------\n",
      "INFO:papermill:Ending Cell 3------------------------------------------\n",
      "INFO:papermill:Executing Cell 4---------------------------------------\n",
      "INFO:papermill:Ending Cell 4------------------------------------------\n",
      "INFO:papermill:Executing Cell 5---------------------------------------\n",
      "INFO:papermill:Ending Cell 5------------------------------------------\n",
      "INFO:papermill:Executing Cell 6---------------------------------------\n",
      "INFO:papermill:Pubyears loaded for 397702 entries\n",
      "\n",
      "INFO:papermill:Ending Cell 6------------------------------------------\n",
      "INFO:papermill:Executing Cell 7---------------------------------------\n",
      "INFO:papermill:Ending Cell 7------------------------------------------\n",
      "INFO:papermill:Executing Cell 8---------------------------------------\n",
      "INFO:papermill:Ending Cell 8------------------------------------------\n",
      "INFO:papermill:Executing Cell 9---------------------------------------\n",
      "INFO:papermill:Ending Cell 9------------------------------------------\n",
      "INFO:papermill:Executing Cell 10--------------------------------------\n",
      "INFO:papermill:Ending Cell 10-----------------------------------------\n",
      "INFO:papermill:Executing Cell 11--------------------------------------\n",
      "INFO:papermill:Loaded keys: dict_keys(['fy.ta', 'fy', 'ta'])\n",
      "Available keys: ['c', 'c.fj', 'c.fy', 'c.fy.j', 'fa', 'fa.c', 'fa.fj', 'fa.fj.fy', 'fa.fy', 'fj', 'fj.fy', 'fj.ta', 'fj.ty', 'fy', 'fy.ta', 'fy.ty', 'ta', 'ty']\n",
      "\n",
      "INFO:papermill:Ending Cell 11-----------------------------------------\n",
      "INFO:papermill:Executing Cell 12--------------------------------------\n",
      "INFO:papermill:Ending Cell 12-----------------------------------------\n",
      "INFO:papermill:Executing Cell 13--------------------------------------\n",
      "INFO:papermill:Ending Cell 13-----------------------------------------\n",
      "INFO:papermill:Executing Cell 14--------------------------------------\n",
      "INFO:papermill:Ending Cell 14-----------------------------------------\n",
      "INFO:papermill:Executing Cell 15--------------------------------------\n",
      "INFO:papermill:Ending Cell 15-----------------------------------------\n",
      "INFO:papermill:Executing Cell 16--------------------------------------\n",
      "INFO:papermill:Ending Cell 16-----------------------------------------\n",
      "INFO:papermill:Executing Cell 17--------------------------------------\n",
      "INFO:papermill:Ending Cell 17-----------------------------------------\n",
      "INFO:papermill:Executing Cell 18--------------------------------------\n",
      "INFO:papermill:Ending Cell 18-----------------------------------------\n",
      "INFO:papermill:Executing Cell 19--------------------------------------\n",
      "INFO:papermill:Ending Cell 19-----------------------------------------\n",
      "INFO:papermill:Executing Cell 20--------------------------------------\n",
      "INFO:papermill:Ending Cell 20-----------------------------------------\n",
      "INFO:papermill:Executing Cell 21--------------------------------------\n",
      "INFO:papermill:Ending Cell 21-----------------------------------------\n",
      "INFO:papermill:Executing Cell 22--------------------------------------\n",
      "INFO:papermill:Ending Cell 22-----------------------------------------\n",
      "INFO:papermill:Executing Cell 23--------------------------------------\n",
      "INFO:papermill:Ending Cell 23-----------------------------------------\n",
      "INFO:papermill:Executing Cell 24--------------------------------------\n",
      "INFO:papermill:Ending Cell 24-----------------------------------------\n",
      "INFO:papermill:Executing Cell 25--------------------------------------\n",
      "INFO:papermill:Processing database 'sociology-wos'\n",
      "Item 0\n",
      "\n",
      "INFO:papermill:Item 5000\n",
      "\n",
      "INFO:papermill:Item 10000\n",
      "\n",
      "INFO:papermill:Item 15000\n",
      "\n",
      "INFO:papermill:Item 20000\n",
      "\n",
      "INFO:papermill:Item 25000\n",
      "\n",
      "INFO:papermill:Item 30000\n",
      "\n",
      "INFO:papermill:Item 35000\n",
      "\n",
      "INFO:papermill:Item 40000\n",
      "\n",
      "INFO:papermill:Item 45000\n",
      "\n",
      "INFO:papermill:Item 50000\n",
      "\n",
      "INFO:papermill:Item 55000\n",
      "\n",
      "INFO:papermill:Item 60000\n",
      "\n",
      "INFO:papermill:Ending Cell 25-----------------------------------------\n",
      "INFO:papermill:Executing Cell 26--------------------------------------\n",
      "INFO:papermill:Ending Cell 26-----------------------------------------\n",
      "INFO:papermill:Executing Cell 27--------------------------------------\n",
      "INFO:papermill:death_1 None\n",
      "death_2 None\n",
      "death_3 None\n",
      "death_4 None\n",
      "death_5 None\n",
      "death_6 None\n",
      "death_7 None\n",
      "death_8 None\n",
      "death_9 None\n",
      "death_last None\n",
      "death_max None\n",
      "first 1936\n",
      "last 2020\n",
      "maxcount 176\n",
      "maxcounty 2019\n",
      "maxprop 0.07736389684813753\n",
      "maxpropy 1971\n",
      "name bell\n",
      "total 3669\n",
      "totalprop 3.081894642552492\n",
      "----------------------------\n",
      "death_1 None\n",
      "death_2 None\n",
      "death_3 None\n",
      "death_4 None\n",
      "death_5 None\n",
      "death_6 None\n",
      "death_7 None\n",
      "death_8 None\n",
      "death_9 None\n",
      "death_last None\n",
      "death_max None\n",
      "first 1996\n",
      "last 2020\n",
      "maxcount 12\n",
      "maxcounty 2012\n",
      "maxprop 0.005703422053231939\n",
      "maxpropy 2008\n",
      "name brechin\n",
      "total 119\n",
      "totalprop 0.05488675595132034\n",
      "----------------------------\n",
      "death_1 None\n",
      "death_2 None\n",
      "death_3 None\n",
      "death_4 None\n",
      "death_5 None\n",
      "death_6 None\n",
      "death_7 None\n",
      "death_8 None\n",
      "death_9 None\n",
      "death_last None\n",
      "death_max None\n",
      "first 1911\n",
      "last 2020\n",
      "maxcount 205\n",
      "maxcounty 2019\n",
      "maxprop 0.3333333333333333\n",
      "maxpropy 1912\n",
      "name butler\n",
      "total 2744\n",
      "totalprop 1.926374955608934\n",
      "----------------------------\n",
      "death_1 None\n",
      "death_2 None\n",
      "death_3 None\n",
      "death_4 None\n",
      "death_5 None\n",
      "death_6 None\n",
      "death_7 None\n",
      "death_8 None\n",
      "death_9 None\n",
      "death_last None\n",
      "death_max None\n",
      "first 1987\n",
      "last 2020\n",
      "maxcount 13\n",
      "maxcounty 2019\n",
      "maxprop 0.01749271137026239\n",
      "maxpropy 2020\n",
      "name cloke\n",
      "total 178\n",
      "totalprop 0.09807027831714389\n",
      "----------------------------\n",
      "death_1 None\n",
      "death_2 None\n",
      "death_3 None\n",
      "death_4 None\n",
      "death_5 None\n",
      "death_6 2001\n",
      "death_7 2001\n",
      "death_8 2001\n",
      "death_9 2001\n",
      "death_last None\n",
      "death_max 2001\n",
      "first 1995\n",
      "last 2018\n",
      "maxcount 3\n",
      "maxcounty 2000\n",
      "maxprop 0.0018393623543838135\n",
      "maxpropy 2000\n",
      "name frouws\n",
      "total 22\n",
      "totalprop 0.011770347149435373\n",
      "----------------------------\n",
      "death_1 None\n",
      "death_2 None\n",
      "death_3 None\n",
      "death_4 None\n",
      "death_5 None\n",
      "death_6 None\n",
      "death_7 None\n",
      "death_8 None\n",
      "death_9 None\n",
      "death_last None\n",
      "death_max None\n",
      "first 1946\n",
      "last 2020\n",
      "maxcount 64\n",
      "maxcounty 2019\n",
      "maxprop 0.02025111381125962\n",
      "maxpropy 2010\n",
      "name gray\n",
      "total 1184\n",
      "totalprop 0.723120002535416\n",
      "----------------------------\n",
      "death_1 None\n",
      "death_2 None\n",
      "death_3 None\n",
      "death_4 None\n",
      "death_5 None\n",
      "death_6 None\n",
      "death_7 None\n",
      "death_8 None\n",
      "death_9 None\n",
      "death_last None\n",
      "death_max None\n",
      "first 1961\n",
      "last 2020\n",
      "maxcount 9\n",
      "maxcounty 2012\n",
      "maxprop 0.0058309037900874635\n",
      "maxpropy 2020\n",
      "name healey\n",
      "total 98\n",
      "totalprop 0.05126789074026715\n",
      "----------------------------\n",
      "death_1 None\n",
      "death_2 None\n",
      "death_3 None\n",
      "death_4 None\n",
      "death_5 None\n",
      "death_6 None\n",
      "death_7 None\n",
      "death_8 None\n",
      "death_9 None\n",
      "death_last None\n",
      "death_max None\n",
      "first 1986\n",
      "last 2019\n",
      "maxcount 7\n",
      "maxcounty 2015\n",
      "maxprop 0.002328675981370592\n",
      "maxpropy 2015\n",
      "name hermans\n",
      "total 50\n",
      "totalprop 0.022011583696146073\n",
      "----------------------------\n",
      "death_1 None\n",
      "death_2 None\n",
      "death_3 None\n",
      "death_4 None\n",
      "death_5 None\n",
      "death_6 None\n",
      "death_7 None\n",
      "death_8 None\n",
      "death_9 None\n",
      "death_last None\n",
      "death_max None\n",
      "first 1994\n",
      "last 2019\n",
      "maxcount 15\n",
      "maxcounty 2018\n",
      "maxprop 0.004706620646375902\n",
      "maxpropy 2018\n",
      "name hesse-biber\n",
      "total 92\n",
      "totalprop 0.0342993101541938\n",
      "----------------------------\n",
      "death_1 None\n",
      "death_2 None\n",
      "death_3 None\n",
      "death_4 None\n",
      "death_5 None\n",
      "death_6 None\n",
      "death_7 None\n",
      "death_8 None\n",
      "death_9 None\n",
      "death_last None\n",
      "death_max None\n",
      "first 1958\n",
      "last 2019\n",
      "maxcount 8\n",
      "maxcounty 2019\n",
      "maxprop 0.008595988538681949\n",
      "maxpropy 1961\n",
      "name hoggart\n",
      "total 200\n",
      "totalprop 0.1750338221372954\n",
      "----------------------------\n",
      "\n",
      "INFO:papermill:Ending Cell 27-----------------------------------------\n",
      "INFO:papermill:Executing Cell 28--------------------------------------\n",
      "INFO:papermill:defaultdict(<class 'int'>, {'at least one citation': 64318, 'passed tests pre-blacklist': 32529, 'never rise': 31789})\n",
      "\n",
      "INFO:papermill:Ending Cell 28-----------------------------------------\n",
      "INFO:papermill:Executing Cell 29--------------------------------------\n",
      "INFO:papermill:Ending Cell 29-----------------------------------------\n",
      "INFO:papermill:Executing Cell 30--------------------------------------\n",
      "INFO:papermill:Ending Cell 30-----------------------------------------\n",
      "INFO:papermill:Executing Cell 31--------------------------------------\n",
      "INFO:papermill:Ending Cell 31-----------------------------------------\n",
      "INFO:papermill:Executing Cell 32--------------------------------------\n",
      "INFO:papermill:Ending Cell 32-----------------------------------------\n",
      "INFO:papermill:Input Notebook:  G:\\My Drive\\projects\\qualitative analysis of literature\\post 5-12-2020\\git repository _ citation-deaths\\knowknow\\creating variables\\ysum.ipynb\n",
      "INFO:papermill:Output Notebook: G:\\My Drive\\projects\\qualitative analysis of literature\\post 5-12-2020\\git repository _ citation-deaths\\knowknow\\creating variables\\ysum.ipynb\n",
      "INFO:papermill:Executing notebook with kernel: python3\n",
      "INFO:papermill:Executing Cell 1---------------------------------------\n",
      "INFO:papermill:Ending Cell 1------------------------------------------\n",
      "INFO:papermill:Executing Cell 2---------------------------------------\n",
      "INFO:papermill:Ending Cell 2------------------------------------------\n",
      "INFO:papermill:Executing Cell 3---------------------------------------\n",
      "INFO:papermill:Ending Cell 3------------------------------------------\n",
      "INFO:papermill:Executing Cell 4---------------------------------------\n",
      "INFO:papermill:Ending Cell 4------------------------------------------\n",
      "INFO:papermill:Executing Cell 5---------------------------------------\n",
      "INFO:papermill:Ending Cell 5------------------------------------------\n",
      "INFO:papermill:Executing Cell 6---------------------------------------\n",
      "INFO:papermill:Ending Cell 6------------------------------------------\n",
      "INFO:papermill:Executing Cell 7---------------------------------------\n",
      "INFO:papermill:Ending Cell 7------------------------------------------\n",
      "INFO:papermill:Executing Cell 8---------------------------------------\n",
      "INFO:papermill:Ending Cell 8------------------------------------------\n",
      "INFO:papermill:Executing Cell 9---------------------------------------\n",
      "INFO:papermill:Ending Cell 9------------------------------------------\n",
      "INFO:papermill:Executing Cell 10--------------------------------------\n",
      "INFO:papermill:Ending Cell 10-----------------------------------------\n",
      "INFO:papermill:Executing Cell 11--------------------------------------\n",
      "INFO:papermill:Loaded keys: dict_keys(['fy.t', 'fy', 't'])\n",
      "Available keys: ['a', 'a.c', 'a.fj.fy', 'c', 'c.c', 'c.fa', 'c.fj', 'c.fy', 'c.t', 'fa', 'fa.fj.fy', 'fj', 'fj.fy', 'fj.t', 'fy', 'fy.t', 't']\n",
      "\n",
      "INFO:papermill:Ending Cell 11-----------------------------------------\n",
      "INFO:papermill:Executing Cell 12--------------------------------------\n",
      "INFO:papermill:Ending Cell 12-----------------------------------------\n",
      "INFO:papermill:Executing Cell 13--------------------------------------\n",
      "INFO:papermill:Ending Cell 13-----------------------------------------\n",
      "INFO:papermill:Executing Cell 14--------------------------------------\n",
      "INFO:papermill:Ending Cell 14-----------------------------------------\n",
      "INFO:papermill:Executing Cell 15--------------------------------------\n",
      "INFO:papermill:Ending Cell 15-----------------------------------------\n",
      "INFO:papermill:Executing Cell 16--------------------------------------\n",
      "INFO:papermill:Ending Cell 16-----------------------------------------\n",
      "INFO:papermill:Executing Cell 17--------------------------------------\n",
      "INFO:papermill:Ending Cell 17-----------------------------------------\n",
      "INFO:papermill:Executing Cell 18--------------------------------------\n",
      "INFO:papermill:Ending Cell 18-----------------------------------------\n",
      "INFO:papermill:Executing Cell 19--------------------------------------\n",
      "INFO:papermill:Ending Cell 19-----------------------------------------\n",
      "INFO:papermill:Executing Cell 20--------------------------------------\n",
      "INFO:papermill:Ending Cell 20-----------------------------------------\n",
      "INFO:papermill:Executing Cell 21--------------------------------------\n",
      "INFO:papermill:Ending Cell 21-----------------------------------------\n",
      "INFO:papermill:Executing Cell 22--------------------------------------\n",
      "INFO:papermill:Ending Cell 22-----------------------------------------\n",
      "INFO:papermill:Executing Cell 23--------------------------------------\n",
      "INFO:papermill:Ending Cell 23-----------------------------------------\n",
      "INFO:papermill:Executing Cell 24--------------------------------------\n",
      "INFO:papermill:Ending Cell 24-----------------------------------------\n",
      "INFO:papermill:Executing Cell 25--------------------------------------\n",
      "INFO:papermill:Processing database 'sociology-jstor'\n",
      "Item 0\n",
      "\n",
      "INFO:papermill:Ending Cell 25-----------------------------------------\n",
      "INFO:papermill:Executing Cell 26--------------------------------------\n",
      "INFO:papermill:Ending Cell 26-----------------------------------------\n",
      "INFO:papermill:Executing Cell 27--------------------------------------\n",
      "INFO:papermill:death_1 None\n",
      "death_2 None\n",
      "death_3 None\n",
      "death_4 None\n",
      "death_5 None\n",
      "death_6 None\n",
      "death_7 None\n",
      "death_8 None\n",
      "death_9 None\n",
      "death_last None\n",
      "death_max None\n",
      "first 1971\n",
      "last 2015\n",
      "maxcount 4\n",
      "maxcounty 2015\n",
      "maxprop 0.004449388209121246\n",
      "maxpropy 2015\n",
      "name ('across', 'societies')\n",
      "total 56\n",
      "totalprop 0.060170277562862175\n",
      "----------------------------\n",
      "death_1 None\n",
      "death_2 None\n",
      "death_3 None\n",
      "death_4 None\n",
      "death_5 None\n",
      "death_6 None\n",
      "death_7 None\n",
      "death_8 None\n",
      "death_9 None\n",
      "death_last None\n",
      "death_max None\n",
      "first 1970\n",
      "last 2018\n",
      "maxcount 36\n",
      "maxcounty 2007\n",
      "maxprop 0.058823529411764705\n",
      "maxpropy 2018\n",
      "name ('health', 'care')\n",
      "total 767\n",
      "totalprop 0.9028539363539622\n",
      "----------------------------\n",
      "death_1 None\n",
      "death_2 None\n",
      "death_3 None\n",
      "death_4 None\n",
      "death_5 None\n",
      "death_6 None\n",
      "death_7 None\n",
      "death_8 None\n",
      "death_9 None\n",
      "death_last None\n",
      "death_max None\n",
      "first 1965\n",
      "last 2017\n",
      "maxcount 34\n",
      "maxcounty 2014\n",
      "maxprop 0.03508771929824561\n",
      "maxpropy 2014\n",
      "name ('social', 'status')\n",
      "total 796\n",
      "totalprop 0.950553535651632\n",
      "----------------------------\n",
      "death_1 None\n",
      "death_2 None\n",
      "death_3 None\n",
      "death_4 None\n",
      "death_5 None\n",
      "death_6 None\n",
      "death_7 None\n",
      "death_8 None\n",
      "death_9 None\n",
      "death_last None\n",
      "death_max None\n",
      "first 1970\n",
      "last 2018\n",
      "maxcount 15\n",
      "maxcounty 2009\n",
      "maxprop 0.058823529411764705\n",
      "maxpropy 2018\n",
      "name ('consistent', 'findings')\n",
      "total 293\n",
      "totalprop 0.394552623348575\n",
      "----------------------------\n",
      "death_1 None\n",
      "death_2 None\n",
      "death_3 None\n",
      "death_4 None\n",
      "death_5 None\n",
      "death_6 None\n",
      "death_7 None\n",
      "death_8 None\n",
      "death_9 None\n",
      "death_last None\n",
      "death_max None\n",
      "first 1984\n",
      "last 2016\n",
      "maxcount 3\n",
      "maxcounty 2004\n",
      "maxprop 0.0037735849056603774\n",
      "maxpropy 2016\n",
      "name ('universal', 'health')\n",
      "total 16\n",
      "totalprop 0.01907895179854538\n",
      "----------------------------\n",
      "death_1 None\n",
      "death_2 None\n",
      "death_3 None\n",
      "death_4 None\n",
      "death_5 None\n",
      "death_6 None\n",
      "death_7 None\n",
      "death_8 None\n",
      "death_9 None\n",
      "death_last None\n",
      "death_max None\n",
      "first 1976\n",
      "last 2016\n",
      "maxcount 6\n",
      "maxcounty 2010\n",
      "maxprop 0.005708848715509039\n",
      "maxpropy 2007\n",
      "name ('differences', 'health')\n",
      "total 75\n",
      "totalprop 0.08156590310702522\n",
      "----------------------------\n",
      "death_1 None\n",
      "death_2 None\n",
      "death_3 None\n",
      "death_4 None\n",
      "death_5 None\n",
      "death_6 None\n",
      "death_7 None\n",
      "death_8 None\n",
      "death_9 None\n",
      "death_last None\n",
      "death_max None\n",
      "first 1971\n",
      "last 2016\n",
      "maxcount 12\n",
      "maxcounty 2011\n",
      "maxprop 0.010723860589812333\n",
      "maxpropy 2011\n",
      "name ('across', 'groups')\n",
      "total 122\n",
      "totalprop 0.12527567226148453\n",
      "----------------------------\n",
      "death_1 None\n",
      "death_2 None\n",
      "death_3 None\n",
      "death_4 None\n",
      "death_5 None\n",
      "death_6 None\n",
      "death_7 None\n",
      "death_8 None\n",
      "death_9 None\n",
      "death_last None\n",
      "death_max None\n",
      "first 1958\n",
      "last 2016\n",
      "maxcount 24\n",
      "maxcounty 1995\n",
      "maxprop 0.026415094339622643\n",
      "maxpropy 2016\n",
      "name ('social', 'behavior')\n",
      "total 648\n",
      "totalprop 0.7714993546913621\n",
      "----------------------------\n",
      "death_1 None\n",
      "death_2 None\n",
      "death_3 None\n",
      "death_4 None\n",
      "death_5 None\n",
      "death_6 None\n",
      "death_7 None\n",
      "death_8 None\n",
      "death_9 None\n",
      "death_last None\n",
      "death_max None\n",
      "first 1961\n",
      "last 2016\n",
      "maxcount 18\n",
      "maxcounty 1995\n",
      "maxprop 0.032520325203252036\n",
      "maxpropy 1966\n",
      "name ('journal', 'health')\n",
      "total 451\n",
      "totalprop 0.6353872576945332\n",
      "----------------------------\n",
      "death_1 None\n",
      "death_2 None\n",
      "death_3 None\n",
      "death_4 None\n",
      "death_5 None\n",
      "death_6 None\n",
      "death_7 None\n",
      "death_8 None\n",
      "death_9 None\n",
      "death_last None\n",
      "death_max None\n",
      "first 1969\n",
      "last 2016\n",
      "maxcount 23\n",
      "maxcounty 2010\n",
      "maxprop 0.022641509433962263\n",
      "maxpropy 2016\n",
      "name ('health', 'social')\n",
      "total 561\n",
      "totalprop 0.6284271068436884\n",
      "----------------------------\n",
      "\n",
      "INFO:papermill:Ending Cell 27-----------------------------------------\n",
      "INFO:papermill:Executing Cell 28--------------------------------------\n",
      "INFO:papermill:defaultdict(<class 'int'>, {'at least one citation': 4401, 'passed tests pre-blacklist': 3961, 'never rise': 440})\n",
      "\n",
      "INFO:papermill:Ending Cell 28-----------------------------------------\n",
      "INFO:papermill:Executing Cell 29--------------------------------------\n",
      "INFO:papermill:Ending Cell 29-----------------------------------------\n",
      "INFO:papermill:Executing Cell 30--------------------------------------\n",
      "INFO:papermill:Ending Cell 30-----------------------------------------\n",
      "INFO:papermill:Executing Cell 31--------------------------------------\n",
      "INFO:papermill:Ending Cell 31-----------------------------------------\n",
      "INFO:papermill:Executing Cell 32--------------------------------------\n",
      "INFO:papermill:Ending Cell 32-----------------------------------------\n"
     ]
    }
   ],
   "source": [
    "# ysum\n",
    "\n",
    "ys = Path(_dh[0]).joinpath('creating variables','ysum.ipynb')\n",
    "\n",
    "settings = [\n",
    "    #{\"database_name\":\"sociology-wos\",\"dtype\":'c'},\n",
    "    {\"database_name\":\"sociology-wos\",\"dtype\":'ta'},\n",
    "    {\"database_name\":\"sociology-jstor\",\"dtype\":'t'}\n",
    "]\n",
    "\n",
    "for sett in settings:\n",
    "    pm.execute_notebook(\n",
    "        str(ys),\n",
    "        str(ys),\n",
    "        parameters = sett,\n",
    "        log_output=True,\n",
    "        progress_bar=False,\n",
    "        nest_asyncio=True\n",
    "    )"
   ]
  },
  {
   "cell_type": "markdown",
   "metadata": {},
   "source": [
    "# small analyses"
   ]
  },
  {
   "cell_type": "code",
   "execution_count": 5,
   "metadata": {},
   "outputs": [
    {
     "name": "stderr",
     "output_type": "stream",
     "text": [
      "INFO:papermill:Input Notebook:  G:\\My Drive\\projects\\qualitative analysis of literature\\post 5-12-2020\\git repository _ citation-deaths\\knowknow\\analyses\\summary of journals.ipynb\n",
      "INFO:papermill:Output Notebook: G:\\My Drive\\projects\\qualitative analysis of literature\\post 5-12-2020\\git repository _ citation-deaths\\knowknow\\analyses\\summary of journals.ipynb\n"
     ]
    },
    {
     "data": {
      "application/vnd.jupyter.widget-view+json": {
       "model_id": "dfc1efe09c0744abbbfc27ab00a14e40",
       "version_major": 2,
       "version_minor": 0
      },
      "text/plain": [
       "HBox(children=(FloatProgress(value=0.0, description='Executing', max=3.0, style=ProgressStyle(description_widt…"
      ]
     },
     "metadata": {},
     "output_type": "display_data"
    },
    {
     "name": "stderr",
     "output_type": "stream",
     "text": [
      "INFO:papermill:Executing notebook with kernel: python3\n"
     ]
    },
    {
     "name": "stdout",
     "output_type": "stream",
     "text": [
      "\n"
     ]
    }
   ],
   "source": [
    "# journal summaries\n",
    "jsum = Path(_dh[0]).joinpath('analyses','summary of journals.ipynb')\n",
    "\n",
    "pm.execute_notebook(\n",
    "    str(jsum),\n",
    "    str(jsum),\n",
    "    parameters = {},\n",
    "    nest_asyncio=True\n",
    ");"
   ]
  },
  {
   "cell_type": "code",
   "execution_count": null,
   "metadata": {},
   "outputs": [],
   "source": [
    "# momentary success\n",
    "moment = Path(_dh[0]).joinpath('analyses','momentary success makes death less likely.ipynb')\n",
    "\n",
    "settings = [\n",
    "    #{\"database_name\":\"sociology-wos\",\"dtype\":'c'},\n",
    "    #{\"database_name\":\"sociology-wos\",\"dtype\":'ta'},\n",
    "    {\"database_name\":\"sociology-jstor\",\"dtype\":'t'}\n",
    "]\n",
    "\n",
    "for sett in settings:\n",
    "    pm.execute_notebook(\n",
    "        str(moment),\n",
    "        str(moment),\n",
    "        parameters = sett,\n",
    "        nest_asyncio=True\n",
    "    )"
   ]
  },
  {
   "cell_type": "code",
   "execution_count": null,
   "metadata": {},
   "outputs": [],
   "source": [
    "# ubiquitous power-law behavior\n",
    "ys = Path(_dh[0]).joinpath('analyses','ubiquitous power-law behavior.ipynb')\n",
    "\n",
    "settings = [\n",
    "    {\"database_name\":\"sociology-wos\",\"dtype\":'c'},\n",
    "    {\"database_name\":\"sociology-wos\",\"dtype\":'ta'},\n",
    "    {\"database_name\":\"sociology-jstor\",\"dtype\":'t'}\n",
    "]\n",
    "\n",
    "for sett in settings:\n",
    "    pm.execute_notebook(\n",
    "        str(ys),\n",
    "        str(ys),\n",
    "        parameters = sett,\n",
    "        nest_asyncio=True\n",
    "    )"
   ]
  },
  {
   "cell_type": "code",
   "execution_count": null,
   "metadata": {},
   "outputs": [],
   "source": [
    "# demographics of authors, context, etc\n",
    "\n",
    "demo = Path(_dh[0]).joinpath('analyses','demographics.ipynb')\n",
    "\n",
    "for i in range(3):\n",
    "    pm.execute_notebook(\n",
    "        str(demo),\n",
    "        str(demo),\n",
    "        parameters = dict(setting_no=i),\n",
    "        nest_asyncio=True\n",
    "    )"
   ]
  },
  {
   "cell_type": "code",
   "execution_count": 9,
   "metadata": {},
   "outputs": [
    {
     "data": {
      "text/markdown": [
       "# Citations which were in the 1%, but have died\n",
       "\n",
       "This figure shows a random 100 of these cited works. , in the sense of death2, death3, or death5. These deaths are labeled for reference."
      ],
      "text/plain": [
       "<IPython.core.display.Markdown object>"
      ]
     },
     "metadata": {},
     "output_type": "display_data"
    }
   ],
   "source": [
    "showdocs(\"100bigc\")"
   ]
  },
  {
   "cell_type": "code",
   "execution_count": 7,
   "metadata": {},
   "outputs": [
    {
     "name": "stderr",
     "output_type": "stream",
     "text": [
      "INFO:papermill:Input Notebook:  G:\\My Drive\\projects\\qualitative analysis of literature\\post 5-12-2020\\git repository _ citation-deaths\\knowknow\\analyses\\remarkable lives and deaths.ipynb\n",
      "INFO:papermill:Output Notebook: G:\\My Drive\\projects\\qualitative analysis of literature\\post 5-12-2020\\git repository _ citation-deaths\\knowknow\\analyses\\remarkable lives and deaths.ipynb\n",
      "INFO:blib2to3.pgen2.driver:Generating grammar tables from c:\\users\\amcga\\envs\\citation-deaths\\lib\\site-packages\\blib2to3\\Grammar.txt\n",
      "INFO:blib2to3.pgen2.driver:Writing grammar tables to C:\\Users\\amcga\\AppData\\Local\\black\\black\\Cache\\19.10b0\\Grammar3.7.5.final.0.pickle\n",
      "INFO:blib2to3.pgen2.driver:Writing failed: [Errno 2] No such file or directory: 'C:\\\\Users\\\\amcga\\\\AppData\\\\Local\\\\black\\\\black\\\\Cache\\\\19.10b0\\\\tmpfhgsmgew'\n",
      "INFO:blib2to3.pgen2.driver:Generating grammar tables from c:\\users\\amcga\\envs\\citation-deaths\\lib\\site-packages\\blib2to3\\PatternGrammar.txt\n",
      "INFO:blib2to3.pgen2.driver:Writing grammar tables to C:\\Users\\amcga\\AppData\\Local\\black\\black\\Cache\\19.10b0\\PatternGrammar3.7.5.final.0.pickle\n",
      "INFO:blib2to3.pgen2.driver:Writing failed: [Errno 2] No such file or directory: 'C:\\\\Users\\\\amcga\\\\AppData\\\\Local\\\\black\\\\black\\\\Cache\\\\19.10b0\\\\tmp1xjk68vn'\n"
     ]
    },
    {
     "data": {
      "application/vnd.jupyter.widget-view+json": {
       "model_id": "eac2b05f642e4cdab9e9fb591b9e6597",
       "version_major": 2,
       "version_minor": 0
      },
      "text/plain": [
       "HBox(children=(FloatProgress(value=0.0, description='Executing', max=14.0, style=ProgressStyle(description_wid…"
      ]
     },
     "metadata": {},
     "output_type": "display_data"
    },
    {
     "name": "stderr",
     "output_type": "stream",
     "text": [
      "INFO:papermill:Executing notebook with kernel: python3\n",
      "INFO:papermill:Input Notebook:  G:\\My Drive\\projects\\qualitative analysis of literature\\post 5-12-2020\\git repository _ citation-deaths\\knowknow\\analyses\\remarkable lives and deaths.ipynb\n",
      "INFO:papermill:Output Notebook: G:\\My Drive\\projects\\qualitative analysis of literature\\post 5-12-2020\\git repository _ citation-deaths\\knowknow\\analyses\\remarkable lives and deaths.ipynb\n"
     ]
    },
    {
     "name": "stdout",
     "output_type": "stream",
     "text": [
      "\n"
     ]
    },
    {
     "data": {
      "application/vnd.jupyter.widget-view+json": {
       "model_id": "ab8307aff2844e45b10ace9b3e40150e",
       "version_major": 2,
       "version_minor": 0
      },
      "text/plain": [
       "HBox(children=(FloatProgress(value=0.0, description='Executing', max=14.0, style=ProgressStyle(description_wid…"
      ]
     },
     "metadata": {},
     "output_type": "display_data"
    },
    {
     "name": "stderr",
     "output_type": "stream",
     "text": [
      "INFO:papermill:Executing notebook with kernel: python3\n",
      "INFO:papermill:Input Notebook:  G:\\My Drive\\projects\\qualitative analysis of literature\\post 5-12-2020\\git repository _ citation-deaths\\knowknow\\analyses\\remarkable lives and deaths.ipynb\n",
      "INFO:papermill:Output Notebook: G:\\My Drive\\projects\\qualitative analysis of literature\\post 5-12-2020\\git repository _ citation-deaths\\knowknow\\analyses\\remarkable lives and deaths.ipynb\n"
     ]
    },
    {
     "name": "stdout",
     "output_type": "stream",
     "text": [
      "\n"
     ]
    },
    {
     "data": {
      "application/vnd.jupyter.widget-view+json": {
       "model_id": "c5107efd504745f3b69c063dea445ca8",
       "version_major": 2,
       "version_minor": 0
      },
      "text/plain": [
       "HBox(children=(FloatProgress(value=0.0, description='Executing', max=14.0, style=ProgressStyle(description_wid…"
      ]
     },
     "metadata": {},
     "output_type": "display_data"
    },
    {
     "name": "stderr",
     "output_type": "stream",
     "text": [
      "INFO:papermill:Executing notebook with kernel: python3\n"
     ]
    },
    {
     "name": "stdout",
     "output_type": "stream",
     "text": [
      "\n"
     ]
    }
   ],
   "source": [
    "# visualizations of remarkable lives and deaths\n",
    "\n",
    "viz = Path(_dh[0]).joinpath('analyses','remarkable lives and deaths.ipynb')\n",
    "\n",
    "settings = [\n",
    "    {\"database_name\":\"sociology-wos\",\"dtype\":'c',\"birth_key\":'pub',\"definitions_of_death\":['death2','death3','death5']},\n",
    "    {\"database_name\":\"sociology-wos\",\"dtype\":'ta',\"birth_key\":'first',\"definitions_of_death\":['death2','death3','death5']},\n",
    "    {\"database_name\":\"sociology-jstor\",\"dtype\":'t',\"birth_key\":'first',\"definitions_of_death\":['death2','death3','death5']}\n",
    "]\n",
    "\n",
    "for sett in settings:\n",
    "    pm.execute_notebook(\n",
    "        str(viz),\n",
    "        str(viz),\n",
    "        parameters = sett,\n",
    "        nest_asyncio=True\n",
    "    )"
   ]
  },
  {
   "cell_type": "code",
   "execution_count": null,
   "metadata": {},
   "outputs": [],
   "source": []
  }
 ],
 "metadata": {
  "kernelspec": {
   "display_name": "Python 3",
   "language": "python",
   "name": "python3"
  },
  "language_info": {
   "codemirror_mode": {
    "name": "ipython",
    "version": 3
   },
   "file_extension": ".py",
   "mimetype": "text/x-python",
   "name": "python",
   "nbconvert_exporter": "python",
   "pygments_lexer": "ipython3",
   "version": "3.7.5"
  }
 },
 "nbformat": 4,
 "nbformat_minor": 4
}
